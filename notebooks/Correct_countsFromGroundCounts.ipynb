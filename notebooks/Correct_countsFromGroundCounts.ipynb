{
 "cells": [
  {
   "cell_type": "markdown",
   "metadata": {},
   "source": [
    "# Correcting the map counts to account for diving seals and higher on-the-ground counts\n",
    "This file includes the code that inflates the map counts using detection rate-estimating functions fitted with data from Erebus Bay, where ground counts could be conducted.  \n",
    "  \n",
    "In a nutshell, we use these models to estimate the detection rate, and then inflate the map counts according to this rate.\n"
   ]
  },
  {
   "cell_type": "code",
   "execution_count": 58,
   "metadata": {},
   "outputs": [
    {
     "data": {
      "text/html": [
       "<table>\n",
       "<caption>A matrix: 2 × 6 of type dbl</caption>\n",
       "<thead>\n",
       "\t<tr><th></th><th scope=col>used</th><th scope=col>(Mb)</th><th scope=col>gc trigger</th><th scope=col>(Mb)</th><th scope=col>max used</th><th scope=col>(Mb)</th></tr>\n",
       "</thead>\n",
       "<tbody>\n",
       "\t<tr><th scope=row>Ncells</th><td> 680901</td><td>36.4</td><td> 1442291</td><td>77.1</td><td> 1442291</td><td> 77.1</td></tr>\n",
       "\t<tr><th scope=row>Vcells</th><td>1165538</td><td> 8.9</td><td>10563568</td><td>80.6</td><td>13204460</td><td>100.8</td></tr>\n",
       "</tbody>\n",
       "</table>\n"
      ],
      "text/latex": [
       "A matrix: 2 × 6 of type dbl\n",
       "\\begin{tabular}{r|llllll}\n",
       "  & used & (Mb) & gc trigger & (Mb) & max used & (Mb)\\\\\n",
       "\\hline\n",
       "\tNcells &  680901 & 36.4 &  1442291 & 77.1 &  1442291 &  77.1\\\\\n",
       "\tVcells & 1165538 &  8.9 & 10563568 & 80.6 & 13204460 & 100.8\\\\\n",
       "\\end{tabular}\n"
      ],
      "text/markdown": [
       "\n",
       "A matrix: 2 × 6 of type dbl\n",
       "\n",
       "| <!--/--> | used | (Mb) | gc trigger | (Mb) | max used | (Mb) |\n",
       "|---|---|---|---|---|---|---|\n",
       "| Ncells |  680901 | 36.4 |  1442291 | 77.1 |  1442291 |  77.1 |\n",
       "| Vcells | 1165538 |  8.9 | 10563568 | 80.6 | 13204460 | 100.8 |\n",
       "\n"
      ],
      "text/plain": [
       "       used    (Mb) gc trigger (Mb) max used (Mb) \n",
       "Ncells  680901 36.4  1442291   77.1  1442291  77.1\n",
       "Vcells 1165538  8.9 10563568   80.6 13204460 100.8"
      ]
     },
     "metadata": {},
     "output_type": "display_data"
    }
   ],
   "source": [
    "## Clear memory\n",
    "rm(list=ls())\n",
    "gc()"
   ]
  },
  {
   "cell_type": "markdown",
   "metadata": {},
   "source": [
    "### Loading libraries, functions and data"
   ]
  },
  {
   "cell_type": "code",
   "execution_count": 60,
   "metadata": {},
   "outputs": [
    {
     "data": {
      "text/html": [
       "<ol>\n",
       "\t<li>TRUE</li>\n",
       "\t<li>TRUE</li>\n",
       "\t<li>TRUE</li>\n",
       "</ol>\n"
      ],
      "text/latex": [
       "\\begin{enumerate}\n",
       "\\item TRUE\n",
       "\\item TRUE\n",
       "\\item TRUE\n",
       "\\end{enumerate}\n"
      ],
      "text/markdown": [
       "1. TRUE\n",
       "2. TRUE\n",
       "3. TRUE\n",
       "\n",
       "\n"
      ],
      "text/plain": [
       "[[1]]\n",
       "[1] TRUE\n",
       "\n",
       "[[2]]\n",
       "[1] TRUE\n",
       "\n",
       "[[3]]\n",
       "[1] TRUE\n"
      ]
     },
     "metadata": {},
     "output_type": "display_data"
    },
    {
     "data": {
      "text/html": [
       "<table>\n",
       "<caption>A data.frame: 6 × 25</caption>\n",
       "<thead>\n",
       "\t<tr><th></th><th scope=col>regionMapId</th><th scope=col>lclNumSeals</th><th scope=col>estNumSeals</th><th scope=col>uclNumSeals</th><th scope=col>mapcoords.x1</th><th scope=col>mapcoords.x2</th><th scope=col>acquisition_date</th><th scope=col>region</th><th scope=col>satId</th><th scope=col>numViews</th><th scope=col>⋯</th><th scope=col>year</th><th scope=col>totalTags</th><th scope=col>scaledTotalTags</th><th scope=col>avgTags</th><th scope=col>logAvgTags</th><th scope=col>sinH</th><th scope=col>predicted</th><th scope=col>hourCorr</th><th scope=col>corrLclNumSeals</th><th scope=col>corrUclNumSeals</th></tr>\n",
       "\t<tr><th></th><th scope=col>&lt;chr&gt;</th><th scope=col>&lt;dbl&gt;</th><th scope=col>&lt;dbl&gt;</th><th scope=col>&lt;dbl&gt;</th><th scope=col>&lt;dbl&gt;</th><th scope=col>&lt;dbl&gt;</th><th scope=col>&lt;dttm&gt;</th><th scope=col>&lt;chr&gt;</th><th scope=col>&lt;chr&gt;</th><th scope=col>&lt;dbl&gt;</th><th scope=col>⋯</th><th scope=col>&lt;chr&gt;</th><th scope=col>&lt;dbl&gt;</th><th scope=col>&lt;dbl&gt;</th><th scope=col>&lt;dbl&gt;</th><th scope=col>&lt;dbl&gt;</th><th scope=col>&lt;dbl&gt;</th><th scope=col>&lt;dbl&gt;</th><th scope=col>&lt;dbl&gt;</th><th scope=col>&lt;dbl&gt;</th><th scope=col>&lt;dbl&gt;</th></tr>\n",
       "</thead>\n",
       "<tbody>\n",
       "\t<tr><th scope=row>1</th><td>AMU101663</td><td>1</td><td>1</td><td> 4</td><td>-85.48336</td><td>-73.34752</td><td>2010-11-20 21:50:18</td><td>AMU</td><td>WV01</td><td> 8</td><td>⋯</td><td>2010</td><td>1</td><td>-0.33940735</td><td>1</td><td>0.0000000</td><td>1</td><td>0</td><td>-1</td><td>0</td><td> 3</td></tr>\n",
       "\t<tr><th scope=row>2</th><td>AMU102072</td><td>1</td><td>1</td><td> 4</td><td>-85.44474</td><td>-73.41747</td><td>2010-11-20 21:50:18</td><td>AMU</td><td>WV01</td><td> 6</td><td>⋯</td><td>2010</td><td>2</td><td>-0.29654759</td><td>1</td><td>0.0000000</td><td>1</td><td>0</td><td>-1</td><td>0</td><td> 3</td></tr>\n",
       "\t<tr><th scope=row>3</th><td>AMU102099</td><td>1</td><td>1</td><td> 4</td><td>-85.79235</td><td>-73.17324</td><td>2010-11-20 21:50:18</td><td>AMU</td><td>WV01</td><td> 6</td><td>⋯</td><td>2010</td><td>2</td><td>-0.29654759</td><td>2</td><td>0.6931472</td><td>1</td><td>2</td><td> 1</td><td>2</td><td> 5</td></tr>\n",
       "\t<tr><th scope=row>4</th><td>AMU103615</td><td>1</td><td>1</td><td> 4</td><td>-85.79235</td><td>-73.17696</td><td>2010-11-20 21:50:18</td><td>AMU</td><td>WV01</td><td> 8</td><td>⋯</td><td>2010</td><td>1</td><td>-0.33940735</td><td>1</td><td>0.0000000</td><td>1</td><td>0</td><td>-1</td><td>0</td><td> 3</td></tr>\n",
       "\t<tr><th scope=row>5</th><td>AMU103695</td><td>1</td><td>1</td><td> 4</td><td>-85.79235</td><td>-73.16951</td><td>2010-11-20 21:50:18</td><td>AMU</td><td>WV01</td><td> 9</td><td>⋯</td><td>2010</td><td>1</td><td>-0.33940735</td><td>1</td><td>0.0000000</td><td>1</td><td>0</td><td>-1</td><td>0</td><td> 3</td></tr>\n",
       "\t<tr><th scope=row>6</th><td>AMU103791</td><td>1</td><td>6</td><td>14</td><td>-85.81166</td><td>-73.17324</td><td>2010-11-20 21:50:18</td><td>AMU</td><td>WV01</td><td>15</td><td>⋯</td><td>2010</td><td>8</td><td>-0.03938903</td><td>8</td><td>2.0794415</td><td>1</td><td>8</td><td> 2</td><td>3</td><td>16</td></tr>\n",
       "</tbody>\n",
       "</table>\n"
      ],
      "text/latex": [
       "A data.frame: 6 × 25\n",
       "\\begin{tabular}{r|lllllllllllllllllllll}\n",
       "  & regionMapId & lclNumSeals & estNumSeals & uclNumSeals & mapcoords.x1 & mapcoords.x2 & acquisition\\_date & region & satId & numViews & ⋯ & year & totalTags & scaledTotalTags & avgTags & logAvgTags & sinH & predicted & hourCorr & corrLclNumSeals & corrUclNumSeals\\\\\n",
       "  & <chr> & <dbl> & <dbl> & <dbl> & <dbl> & <dbl> & <dttm> & <chr> & <chr> & <dbl> & ⋯ & <chr> & <dbl> & <dbl> & <dbl> & <dbl> & <dbl> & <dbl> & <dbl> & <dbl> & <dbl>\\\\\n",
       "\\hline\n",
       "\t1 & AMU101663 & 1 & 1 &  4 & -85.48336 & -73.34752 & 2010-11-20 21:50:18 & AMU & WV01 &  8 & ⋯ & 2010 & 1 & -0.33940735 & 1 & 0.0000000 & 1 & 0 & -1 & 0 &  3\\\\\n",
       "\t2 & AMU102072 & 1 & 1 &  4 & -85.44474 & -73.41747 & 2010-11-20 21:50:18 & AMU & WV01 &  6 & ⋯ & 2010 & 2 & -0.29654759 & 1 & 0.0000000 & 1 & 0 & -1 & 0 &  3\\\\\n",
       "\t3 & AMU102099 & 1 & 1 &  4 & -85.79235 & -73.17324 & 2010-11-20 21:50:18 & AMU & WV01 &  6 & ⋯ & 2010 & 2 & -0.29654759 & 2 & 0.6931472 & 1 & 2 &  1 & 2 &  5\\\\\n",
       "\t4 & AMU103615 & 1 & 1 &  4 & -85.79235 & -73.17696 & 2010-11-20 21:50:18 & AMU & WV01 &  8 & ⋯ & 2010 & 1 & -0.33940735 & 1 & 0.0000000 & 1 & 0 & -1 & 0 &  3\\\\\n",
       "\t5 & AMU103695 & 1 & 1 &  4 & -85.79235 & -73.16951 & 2010-11-20 21:50:18 & AMU & WV01 &  9 & ⋯ & 2010 & 1 & -0.33940735 & 1 & 0.0000000 & 1 & 0 & -1 & 0 &  3\\\\\n",
       "\t6 & AMU103791 & 1 & 6 & 14 & -85.81166 & -73.17324 & 2010-11-20 21:50:18 & AMU & WV01 & 15 & ⋯ & 2010 & 8 & -0.03938903 & 8 & 2.0794415 & 1 & 8 &  2 & 3 & 16\\\\\n",
       "\\end{tabular}\n"
      ],
      "text/markdown": [
       "\n",
       "A data.frame: 6 × 25\n",
       "\n",
       "| <!--/--> | regionMapId &lt;chr&gt; | lclNumSeals &lt;dbl&gt; | estNumSeals &lt;dbl&gt; | uclNumSeals &lt;dbl&gt; | mapcoords.x1 &lt;dbl&gt; | mapcoords.x2 &lt;dbl&gt; | acquisition_date &lt;dttm&gt; | region &lt;chr&gt; | satId &lt;chr&gt; | numViews &lt;dbl&gt; | ⋯ ⋯ | year &lt;chr&gt; | totalTags &lt;dbl&gt; | scaledTotalTags &lt;dbl&gt; | avgTags &lt;dbl&gt; | logAvgTags &lt;dbl&gt; | sinH &lt;dbl&gt; | predicted &lt;dbl&gt; | hourCorr &lt;dbl&gt; | corrLclNumSeals &lt;dbl&gt; | corrUclNumSeals &lt;dbl&gt; |\n",
       "|---|---|---|---|---|---|---|---|---|---|---|---|---|---|---|---|---|---|---|---|---|---|\n",
       "| 1 | AMU101663 | 1 | 1 |  4 | -85.48336 | -73.34752 | 2010-11-20 21:50:18 | AMU | WV01 |  8 | ⋯ | 2010 | 1 | -0.33940735 | 1 | 0.0000000 | 1 | 0 | -1 | 0 |  3 |\n",
       "| 2 | AMU102072 | 1 | 1 |  4 | -85.44474 | -73.41747 | 2010-11-20 21:50:18 | AMU | WV01 |  6 | ⋯ | 2010 | 2 | -0.29654759 | 1 | 0.0000000 | 1 | 0 | -1 | 0 |  3 |\n",
       "| 3 | AMU102099 | 1 | 1 |  4 | -85.79235 | -73.17324 | 2010-11-20 21:50:18 | AMU | WV01 |  6 | ⋯ | 2010 | 2 | -0.29654759 | 2 | 0.6931472 | 1 | 2 |  1 | 2 |  5 |\n",
       "| 4 | AMU103615 | 1 | 1 |  4 | -85.79235 | -73.17696 | 2010-11-20 21:50:18 | AMU | WV01 |  8 | ⋯ | 2010 | 1 | -0.33940735 | 1 | 0.0000000 | 1 | 0 | -1 | 0 |  3 |\n",
       "| 5 | AMU103695 | 1 | 1 |  4 | -85.79235 | -73.16951 | 2010-11-20 21:50:18 | AMU | WV01 |  9 | ⋯ | 2010 | 1 | -0.33940735 | 1 | 0.0000000 | 1 | 0 | -1 | 0 |  3 |\n",
       "| 6 | AMU103791 | 1 | 6 | 14 | -85.81166 | -73.17324 | 2010-11-20 21:50:18 | AMU | WV01 | 15 | ⋯ | 2010 | 8 | -0.03938903 | 8 | 2.0794415 | 1 | 8 |  2 | 3 | 16 |\n",
       "\n"
      ],
      "text/plain": [
       "  regionMapId lclNumSeals estNumSeals uclNumSeals mapcoords.x1 mapcoords.x2\n",
       "1 AMU101663   1           1            4          -85.48336    -73.34752   \n",
       "2 AMU102072   1           1            4          -85.44474    -73.41747   \n",
       "3 AMU102099   1           1            4          -85.79235    -73.17324   \n",
       "4 AMU103615   1           1            4          -85.79235    -73.17696   \n",
       "5 AMU103695   1           1            4          -85.79235    -73.16951   \n",
       "6 AMU103791   1           6           14          -85.81166    -73.17324   \n",
       "  acquisition_date    region satId numViews ⋯ year totalTags scaledTotalTags\n",
       "1 2010-11-20 21:50:18 AMU    WV01   8       ⋯ 2010 1         -0.33940735    \n",
       "2 2010-11-20 21:50:18 AMU    WV01   6       ⋯ 2010 2         -0.29654759    \n",
       "3 2010-11-20 21:50:18 AMU    WV01   6       ⋯ 2010 2         -0.29654759    \n",
       "4 2010-11-20 21:50:18 AMU    WV01   8       ⋯ 2010 1         -0.33940735    \n",
       "5 2010-11-20 21:50:18 AMU    WV01   9       ⋯ 2010 1         -0.33940735    \n",
       "6 2010-11-20 21:50:18 AMU    WV01  15       ⋯ 2010 8         -0.03938903    \n",
       "  avgTags logAvgTags sinH predicted hourCorr corrLclNumSeals corrUclNumSeals\n",
       "1 1       0.0000000  1    0         -1       0                3             \n",
       "2 1       0.0000000  1    0         -1       0                3             \n",
       "3 2       0.6931472  1    2          1       2                5             \n",
       "4 1       0.0000000  1    0         -1       0                3             \n",
       "5 1       0.0000000  1    0         -1       0                3             \n",
       "6 8       2.0794415  1    8          2       3               16             "
      ]
     },
     "metadata": {},
     "output_type": "display_data"
    },
    {
     "name": "stdout",
     "output_type": "stream",
     "text": [
      "  region corrLclNumSeals corrNumSeals corrUclNumSeals\n",
      "1    AMU            1289         2465            6499\n",
      "2    EA1            2720         6312           16471\n",
      "3    EA2            2864         5753           14624\n",
      "4    QMA            3682         7991           20186\n",
      "5    RSS            8207        22210           59559\n",
      "6    WAP            3552         8554           22077\n",
      "7  Total           22314        53285          139416\n"
     ]
    }
   ],
   "source": [
    "libs<-c(\"ggplot2\",\"plyr\",\"dplyr\")\n",
    "lapply(libs, require, character.only = TRUE)\n",
    "pathToLocalGit<-\"/home/ubuntu/Workspace/ContinentalWESEestimates/\"\n",
    "\n",
    "source(paste0(pathToLocalGit,\"scripts/countSealsFromTags_functions.R\"))\n",
    "\n",
    "## Load the data - the data were generated from notebook: \"Count Seals From Tags.ipynb\"\n",
    "load(file=paste0(pathToLocalGit,\"data/countsCorrectedByHour.Rdata\"))\n",
    "head(corrcounts)\n",
    "\n",
    "## Print and check that this is the correct version of the data\n",
    "estByRegionCorr<-as.data.frame(corrcounts %>% group_by(region) %>% dplyr::summarize(\n",
    "    corrLclNumSeals=sum(corrLclNumSeals),corrNumSeals=sum(predicted),corrUclNumSeals=sum(corrUclNumSeals))\n",
    ")\n",
    "estByRegionCorr<-rbind(estByRegionCorr,\n",
    "    data.frame(region=\"Total\",\n",
    "        corrLclNumSeals=sum(estByRegionCorr$corrLclNumSeals),corrNumSeals=sum(estByRegionCorr$corrNumSeals),\n",
    "               corrUclNumSeals=sum(estByRegionCorr$corrUclNumSeals)))\n",
    "print(estByRegionCorr)"
   ]
  },
  {
   "cell_type": "markdown",
   "metadata": {},
   "source": [
    "Now we use the handy function to request the detection rates under both models. Note that we can specify the \"weight\" of island counts. This is the proportion of map locations that resemble the islet haul-out locations in Erebus Bay (i.e., Turk's Head-Tryggve and Hutton Cliffs). According to Michelle and David, the vast majority of counts came from such locations. Here we are conservative and assume 95% of locations are islets."
   ]
  },
  {
   "cell_type": "code",
   "execution_count": 61,
   "metadata": {},
   "outputs": [
    {
     "data": {
      "text/html": [
       "<table>\n",
       "<caption>A data.frame: 6 × 4</caption>\n",
       "<thead>\n",
       "\t<tr><th></th><th scope=col>regionMapId</th><th scope=col>wgtPredColRate</th><th scope=col>wgtPredIslRate</th><th scope=col>Year</th></tr>\n",
       "\t<tr><th></th><th scope=col>&lt;chr&gt;</th><th scope=col>&lt;dbl&gt;</th><th scope=col>&lt;dbl&gt;</th><th scope=col>&lt;chr&gt;</th></tr>\n",
       "</thead>\n",
       "<tbody>\n",
       "\t<tr><th scope=row>1</th><td>AMU101663</td><td>0.3267297</td><td>0.2617848</td><td>2010</td></tr>\n",
       "\t<tr><th scope=row>2</th><td>AMU102072</td><td>0.3267297</td><td>0.2617848</td><td>2010</td></tr>\n",
       "\t<tr><th scope=row>3</th><td>AMU102099</td><td>0.3267297</td><td>0.2617848</td><td>2010</td></tr>\n",
       "\t<tr><th scope=row>4</th><td>AMU103615</td><td>0.3267297</td><td>0.2617848</td><td>2010</td></tr>\n",
       "\t<tr><th scope=row>5</th><td>AMU103695</td><td>0.3267297</td><td>0.2617848</td><td>2010</td></tr>\n",
       "\t<tr><th scope=row>6</th><td>AMU103791</td><td>0.3267297</td><td>0.2617848</td><td>2010</td></tr>\n",
       "</tbody>\n",
       "</table>\n"
      ],
      "text/latex": [
       "A data.frame: 6 × 4\n",
       "\\begin{tabular}{r|llll}\n",
       "  & regionMapId & wgtPredColRate & wgtPredIslRate & Year\\\\\n",
       "  & <chr> & <dbl> & <dbl> & <chr>\\\\\n",
       "\\hline\n",
       "\t1 & AMU101663 & 0.3267297 & 0.2617848 & 2010\\\\\n",
       "\t2 & AMU102072 & 0.3267297 & 0.2617848 & 2010\\\\\n",
       "\t3 & AMU102099 & 0.3267297 & 0.2617848 & 2010\\\\\n",
       "\t4 & AMU103615 & 0.3267297 & 0.2617848 & 2010\\\\\n",
       "\t5 & AMU103695 & 0.3267297 & 0.2617848 & 2010\\\\\n",
       "\t6 & AMU103791 & 0.3267297 & 0.2617848 & 2010\\\\\n",
       "\\end{tabular}\n"
      ],
      "text/markdown": [
       "\n",
       "A data.frame: 6 × 4\n",
       "\n",
       "| <!--/--> | regionMapId &lt;chr&gt; | wgtPredColRate &lt;dbl&gt; | wgtPredIslRate &lt;dbl&gt; | Year &lt;chr&gt; |\n",
       "|---|---|---|---|---|\n",
       "| 1 | AMU101663 | 0.3267297 | 0.2617848 | 2010 |\n",
       "| 2 | AMU102072 | 0.3267297 | 0.2617848 | 2010 |\n",
       "| 3 | AMU102099 | 0.3267297 | 0.2617848 | 2010 |\n",
       "| 4 | AMU103615 | 0.3267297 | 0.2617848 | 2010 |\n",
       "| 5 | AMU103695 | 0.3267297 | 0.2617848 | 2010 |\n",
       "| 6 | AMU103791 | 0.3267297 | 0.2617848 | 2010 |\n",
       "\n"
      ],
      "text/plain": [
       "  regionMapId wgtPredColRate wgtPredIslRate Year\n",
       "1 AMU101663   0.3267297      0.2617848      2010\n",
       "2 AMU102072   0.3267297      0.2617848      2010\n",
       "3 AMU102099   0.3267297      0.2617848      2010\n",
       "4 AMU103615   0.3267297      0.2617848      2010\n",
       "5 AMU103695   0.3267297      0.2617848      2010\n",
       "6 AMU103791   0.3267297      0.2617848      2010"
      ]
     },
     "metadata": {},
     "output_type": "display_data"
    }
   ],
   "source": [
    "corrcounts$scaledNumTags<-0\n",
    "\n",
    "adjRates<-predictDetRates(pathToGit=pathToLocalGit,dat=corrcounts,keyFieldName=\"regionMapId\",islandWeight=0.95)\n",
    "head(adjRates)"
   ]
  },
  {
   "cell_type": "markdown",
   "metadata": {},
   "source": [
    "Finally, we add the detection rates to our data.frame of map counts, inflate, and summarize the results.  \n",
    "  \n",
    "Since detectionRate = count-in-map/count-on-the-ground, and we want count-on-the-ground, then:\n",
    "Count-on-the-ground = count-in-map/detectionRate"
   ]
  },
  {
   "cell_type": "code",
   "execution_count": 62,
   "metadata": {},
   "outputs": [
    {
     "data": {
      "text/html": [
       "TRUE"
      ],
      "text/latex": [
       "TRUE"
      ],
      "text/markdown": [
       "TRUE"
      ],
      "text/plain": [
       "[1] TRUE"
      ]
     },
     "metadata": {},
     "output_type": "display_data"
    },
    {
     "data": {
      "text/html": [
       "<table>\n",
       "<caption>A data.frame: 6 × 35</caption>\n",
       "<thead>\n",
       "\t<tr><th></th><th scope=col>regionMapId</th><th scope=col>lclNumSeals</th><th scope=col>estNumSeals</th><th scope=col>uclNumSeals</th><th scope=col>mapcoords.x1</th><th scope=col>mapcoords.x2</th><th scope=col>acquisition_date</th><th scope=col>region</th><th scope=col>satId</th><th scope=col>numViews</th><th scope=col>⋯</th><th scope=col>scaledNumTags</th><th scope=col>wgtPredColRate</th><th scope=col>wgtPredIslRate</th><th scope=col>Year</th><th scope=col>mdlColEstimate</th><th scope=col>mdlColUpper</th><th scope=col>mdlColLower</th><th scope=col>mdlIslEstimate</th><th scope=col>mdlIslUpper</th><th scope=col>mdlIslLower</th></tr>\n",
       "\t<tr><th></th><th scope=col>&lt;chr&gt;</th><th scope=col>&lt;dbl&gt;</th><th scope=col>&lt;dbl&gt;</th><th scope=col>&lt;dbl&gt;</th><th scope=col>&lt;dbl&gt;</th><th scope=col>&lt;dbl&gt;</th><th scope=col>&lt;dttm&gt;</th><th scope=col>&lt;chr&gt;</th><th scope=col>&lt;chr&gt;</th><th scope=col>&lt;dbl&gt;</th><th scope=col>⋯</th><th scope=col>&lt;dbl&gt;</th><th scope=col>&lt;dbl&gt;</th><th scope=col>&lt;dbl&gt;</th><th scope=col>&lt;chr&gt;</th><th scope=col>&lt;dbl&gt;</th><th scope=col>&lt;dbl&gt;</th><th scope=col>&lt;dbl&gt;</th><th scope=col>&lt;dbl&gt;</th><th scope=col>&lt;dbl&gt;</th><th scope=col>&lt;dbl&gt;</th></tr>\n",
       "</thead>\n",
       "<tbody>\n",
       "\t<tr><th scope=row>1</th><td>AMU101663</td><td>1</td><td>1</td><td>4</td><td>-85.48336</td><td>-73.34752</td><td>2010-11-20 21:50:18</td><td>AMU</td><td>WV01</td><td>8</td><td>⋯</td><td>0</td><td>0.3267297</td><td>0.2617848</td><td>2010</td><td>0</td><td> 9</td><td>0</td><td>0</td><td>11</td><td>0</td></tr>\n",
       "\t<tr><th scope=row>2</th><td>AMU101663</td><td>1</td><td>1</td><td>4</td><td>-85.48336</td><td>-73.34752</td><td>2010-11-20 21:50:18</td><td>AMU</td><td>WV01</td><td>8</td><td>⋯</td><td>0</td><td>0.2659764</td><td>0.2174677</td><td>2011</td><td>0</td><td>11</td><td>0</td><td>0</td><td>14</td><td>0</td></tr>\n",
       "\t<tr><th scope=row>3</th><td>AMU102072</td><td>1</td><td>1</td><td>4</td><td>-85.44474</td><td>-73.41747</td><td>2010-11-20 21:50:18</td><td>AMU</td><td>WV01</td><td>6</td><td>⋯</td><td>0</td><td>0.2659764</td><td>0.2174677</td><td>2011</td><td>0</td><td>11</td><td>0</td><td>0</td><td>14</td><td>0</td></tr>\n",
       "\t<tr><th scope=row>4</th><td>AMU102072</td><td>1</td><td>1</td><td>4</td><td>-85.44474</td><td>-73.41747</td><td>2010-11-20 21:50:18</td><td>AMU</td><td>WV01</td><td>6</td><td>⋯</td><td>0</td><td>0.3267297</td><td>0.2617848</td><td>2010</td><td>0</td><td> 9</td><td>0</td><td>0</td><td>11</td><td>0</td></tr>\n",
       "\t<tr><th scope=row>5</th><td>AMU102099</td><td>1</td><td>1</td><td>4</td><td>-85.79235</td><td>-73.17324</td><td>2010-11-20 21:50:18</td><td>AMU</td><td>WV01</td><td>6</td><td>⋯</td><td>0</td><td>0.3267297</td><td>0.2617848</td><td>2010</td><td>6</td><td>15</td><td>6</td><td>8</td><td>19</td><td>8</td></tr>\n",
       "\t<tr><th scope=row>6</th><td>AMU102099</td><td>1</td><td>1</td><td>4</td><td>-85.79235</td><td>-73.17324</td><td>2010-11-20 21:50:18</td><td>AMU</td><td>WV01</td><td>6</td><td>⋯</td><td>0</td><td>0.2659764</td><td>0.2174677</td><td>2011</td><td>8</td><td>19</td><td>8</td><td>9</td><td>23</td><td>9</td></tr>\n",
       "</tbody>\n",
       "</table>\n"
      ],
      "text/latex": [
       "A data.frame: 6 × 35\n",
       "\\begin{tabular}{r|lllllllllllllllllllll}\n",
       "  & regionMapId & lclNumSeals & estNumSeals & uclNumSeals & mapcoords.x1 & mapcoords.x2 & acquisition\\_date & region & satId & numViews & ⋯ & scaledNumTags & wgtPredColRate & wgtPredIslRate & Year & mdlColEstimate & mdlColUpper & mdlColLower & mdlIslEstimate & mdlIslUpper & mdlIslLower\\\\\n",
       "  & <chr> & <dbl> & <dbl> & <dbl> & <dbl> & <dbl> & <dttm> & <chr> & <chr> & <dbl> & ⋯ & <dbl> & <dbl> & <dbl> & <chr> & <dbl> & <dbl> & <dbl> & <dbl> & <dbl> & <dbl>\\\\\n",
       "\\hline\n",
       "\t1 & AMU101663 & 1 & 1 & 4 & -85.48336 & -73.34752 & 2010-11-20 21:50:18 & AMU & WV01 & 8 & ⋯ & 0 & 0.3267297 & 0.2617848 & 2010 & 0 &  9 & 0 & 0 & 11 & 0\\\\\n",
       "\t2 & AMU101663 & 1 & 1 & 4 & -85.48336 & -73.34752 & 2010-11-20 21:50:18 & AMU & WV01 & 8 & ⋯ & 0 & 0.2659764 & 0.2174677 & 2011 & 0 & 11 & 0 & 0 & 14 & 0\\\\\n",
       "\t3 & AMU102072 & 1 & 1 & 4 & -85.44474 & -73.41747 & 2010-11-20 21:50:18 & AMU & WV01 & 6 & ⋯ & 0 & 0.2659764 & 0.2174677 & 2011 & 0 & 11 & 0 & 0 & 14 & 0\\\\\n",
       "\t4 & AMU102072 & 1 & 1 & 4 & -85.44474 & -73.41747 & 2010-11-20 21:50:18 & AMU & WV01 & 6 & ⋯ & 0 & 0.3267297 & 0.2617848 & 2010 & 0 &  9 & 0 & 0 & 11 & 0\\\\\n",
       "\t5 & AMU102099 & 1 & 1 & 4 & -85.79235 & -73.17324 & 2010-11-20 21:50:18 & AMU & WV01 & 6 & ⋯ & 0 & 0.3267297 & 0.2617848 & 2010 & 6 & 15 & 6 & 8 & 19 & 8\\\\\n",
       "\t6 & AMU102099 & 1 & 1 & 4 & -85.79235 & -73.17324 & 2010-11-20 21:50:18 & AMU & WV01 & 6 & ⋯ & 0 & 0.2659764 & 0.2174677 & 2011 & 8 & 19 & 8 & 9 & 23 & 9\\\\\n",
       "\\end{tabular}\n"
      ],
      "text/markdown": [
       "\n",
       "A data.frame: 6 × 35\n",
       "\n",
       "| <!--/--> | regionMapId &lt;chr&gt; | lclNumSeals &lt;dbl&gt; | estNumSeals &lt;dbl&gt; | uclNumSeals &lt;dbl&gt; | mapcoords.x1 &lt;dbl&gt; | mapcoords.x2 &lt;dbl&gt; | acquisition_date &lt;dttm&gt; | region &lt;chr&gt; | satId &lt;chr&gt; | numViews &lt;dbl&gt; | ⋯ ⋯ | scaledNumTags &lt;dbl&gt; | wgtPredColRate &lt;dbl&gt; | wgtPredIslRate &lt;dbl&gt; | Year &lt;chr&gt; | mdlColEstimate &lt;dbl&gt; | mdlColUpper &lt;dbl&gt; | mdlColLower &lt;dbl&gt; | mdlIslEstimate &lt;dbl&gt; | mdlIslUpper &lt;dbl&gt; | mdlIslLower &lt;dbl&gt; |\n",
       "|---|---|---|---|---|---|---|---|---|---|---|---|---|---|---|---|---|---|---|---|---|---|\n",
       "| 1 | AMU101663 | 1 | 1 | 4 | -85.48336 | -73.34752 | 2010-11-20 21:50:18 | AMU | WV01 | 8 | ⋯ | 0 | 0.3267297 | 0.2617848 | 2010 | 0 |  9 | 0 | 0 | 11 | 0 |\n",
       "| 2 | AMU101663 | 1 | 1 | 4 | -85.48336 | -73.34752 | 2010-11-20 21:50:18 | AMU | WV01 | 8 | ⋯ | 0 | 0.2659764 | 0.2174677 | 2011 | 0 | 11 | 0 | 0 | 14 | 0 |\n",
       "| 3 | AMU102072 | 1 | 1 | 4 | -85.44474 | -73.41747 | 2010-11-20 21:50:18 | AMU | WV01 | 6 | ⋯ | 0 | 0.2659764 | 0.2174677 | 2011 | 0 | 11 | 0 | 0 | 14 | 0 |\n",
       "| 4 | AMU102072 | 1 | 1 | 4 | -85.44474 | -73.41747 | 2010-11-20 21:50:18 | AMU | WV01 | 6 | ⋯ | 0 | 0.3267297 | 0.2617848 | 2010 | 0 |  9 | 0 | 0 | 11 | 0 |\n",
       "| 5 | AMU102099 | 1 | 1 | 4 | -85.79235 | -73.17324 | 2010-11-20 21:50:18 | AMU | WV01 | 6 | ⋯ | 0 | 0.3267297 | 0.2617848 | 2010 | 6 | 15 | 6 | 8 | 19 | 8 |\n",
       "| 6 | AMU102099 | 1 | 1 | 4 | -85.79235 | -73.17324 | 2010-11-20 21:50:18 | AMU | WV01 | 6 | ⋯ | 0 | 0.2659764 | 0.2174677 | 2011 | 8 | 19 | 8 | 9 | 23 | 9 |\n",
       "\n"
      ],
      "text/plain": [
       "  regionMapId lclNumSeals estNumSeals uclNumSeals mapcoords.x1 mapcoords.x2\n",
       "1 AMU101663   1           1           4           -85.48336    -73.34752   \n",
       "2 AMU101663   1           1           4           -85.48336    -73.34752   \n",
       "3 AMU102072   1           1           4           -85.44474    -73.41747   \n",
       "4 AMU102072   1           1           4           -85.44474    -73.41747   \n",
       "5 AMU102099   1           1           4           -85.79235    -73.17324   \n",
       "6 AMU102099   1           1           4           -85.79235    -73.17324   \n",
       "  acquisition_date    region satId numViews ⋯ scaledNumTags wgtPredColRate\n",
       "1 2010-11-20 21:50:18 AMU    WV01  8        ⋯ 0             0.3267297     \n",
       "2 2010-11-20 21:50:18 AMU    WV01  8        ⋯ 0             0.2659764     \n",
       "3 2010-11-20 21:50:18 AMU    WV01  6        ⋯ 0             0.2659764     \n",
       "4 2010-11-20 21:50:18 AMU    WV01  6        ⋯ 0             0.3267297     \n",
       "5 2010-11-20 21:50:18 AMU    WV01  6        ⋯ 0             0.3267297     \n",
       "6 2010-11-20 21:50:18 AMU    WV01  6        ⋯ 0             0.2659764     \n",
       "  wgtPredIslRate Year mdlColEstimate mdlColUpper mdlColLower mdlIslEstimate\n",
       "1 0.2617848      2010 0               9          0           0             \n",
       "2 0.2174677      2011 0              11          0           0             \n",
       "3 0.2174677      2011 0              11          0           0             \n",
       "4 0.2617848      2010 0               9          0           0             \n",
       "5 0.2617848      2010 6              15          6           8             \n",
       "6 0.2174677      2011 8              19          8           9             \n",
       "  mdlIslUpper mdlIslLower\n",
       "1 11          0          \n",
       "2 14          0          \n",
       "3 14          0          \n",
       "4 11          0          \n",
       "5 19          8          \n",
       "6 23          9          "
      ]
     },
     "metadata": {},
     "output_type": "display_data"
    }
   ],
   "source": [
    "countdf<-merge(corrcounts,adjRates,by=\"regionMapId\")\n",
    "nrow(countdf)==2*nrow(corrcounts)\n",
    "\n",
    "countdf$mdlColEstimate<-round(countdf$predicted/countdf$wgtPredColRate)\n",
    "countdf$mdlColUpper<-round(countdf$corrUclNumSeals/countdf$wgtPredColRate)\n",
    "countdf$mdlColLower<-round(countdf$corrLclNumSeals/countdf$wgtPredColRate)\n",
    "\n",
    "countdf$mdlIslEstimate<-round(countdf$predicted/countdf$wgtPredIslRate)\n",
    "countdf$mdlIslUpper<-round(countdf$corrUclNumSeals/countdf$wgtPredIslRate)\n",
    "countdf$mdlIslLower<-round(countdf$corrLclNumSeals/countdf$wgtPredIslRate)\n",
    "head(countdf)"
   ]
  },
  {
   "cell_type": "code",
   "execution_count": 63,
   "metadata": {},
   "outputs": [
    {
     "name": "stdout",
     "output_type": "stream",
     "text": [
      "[1] \"Colony model with reference year 2010\"\n",
      "  region Lower Estimate  Upper\n",
      "1    AMU  3867     7439  19739\n",
      "2    EA1  8154    19093  50116\n",
      "3    EA2  8587    17338  44503\n",
      "4    QMA 11041    24148  61444\n",
      "5    RSS 24571    67253 181339\n",
      "6    WAP 10636    25852  67227\n",
      "7  Total 66856   161123 424368\n",
      "\n",
      "[1] \"Colony model with reference year 2011\"\n",
      "  region Lower Estimate  Upper\n",
      "1    AMU  4929     9380  24386\n",
      "2    EA1 10411    23972  61835\n",
      "3    EA2 10981    21874  54916\n",
      "4    QMA 14046    30341  75832\n",
      "5    RSS 31432    84220 223558\n",
      "6    WAP 13593    32458  82898\n",
      "7  Total 85392   202245 523425\n"
     ]
    }
   ],
   "source": [
    "## Using the colony model for 2010:\n",
    "print(\"Colony model with reference year 2010\")\n",
    "countdf10<-subset(countdf,Year==\"2010\")\n",
    "estByRegionCol<-as.data.frame(countdf10[,c(\"region\",\"mdlColLower\",\"mdlColEstimate\",\"mdlColUpper\")] %>% group_by(region) %>% dplyr::summarize(Lower=round(sum(mdlColLower)),Estimate=round(sum(mdlColEstimate)),Upper=round(sum(mdlColUpper))))\n",
    "estByRegionCol<-rbind(estByRegionCol,data.frame(region=\"Total\",Lower=round(sum(countdf10$mdlColLower)),Estimate=round(sum(countdf10$mdlColEstimate)),Upper=round(sum(countdf10$mdlColUpper))))\n",
    "print(estByRegionCol)\n",
    "cat(\"\\n\")\n",
    "## Using the colony model for 2011:\n",
    "print(\"Colony model with reference year 2011\")\n",
    "countdf11<-subset(countdf,Year==\"2011\")\n",
    "estByRegionCol<-as.data.frame(countdf11[,c(\"region\",\"mdlColLower\",\"mdlColEstimate\",\"mdlColUpper\")] %>% group_by(region) %>% dplyr::summarize(Lower=round(sum(mdlColLower)),Estimate=round(sum(mdlColEstimate)),Upper=round(sum(mdlColUpper))))\n",
    "estByRegionCol<-rbind(estByRegionCol,data.frame(region=\"Total\",Lower=round(sum(countdf11$mdlColLower)),Estimate=round(sum(countdf11$mdlColEstimate)),Upper=round(sum(countdf11$mdlColUpper))))\n",
    "print(estByRegionCol)"
   ]
  },
  {
   "cell_type": "code",
   "execution_count": 64,
   "metadata": {},
   "outputs": [
    {
     "name": "stdout",
     "output_type": "stream",
     "text": [
      "[1] \"Islet/mainland model with reference year 2010\"\n",
      "  region Lower Estimate  Upper\n",
      "1    AMU  4928     9456  24630\n",
      "2    EA1 10403    24203  62511\n",
      "3    EA2 10978    22071  55455\n",
      "4    QMA 14040    30638  76648\n",
      "5    RSS 31373    85133 226061\n",
      "6    WAP 13577    32775  83822\n",
      "7  Total 85299   204276 529127\n",
      "\n",
      "[1] \"Islet/mainland model with reference year 2011\"\n",
      "  region  Lower Estimate  Upper\n",
      "1    AMU   5927    11290  29978\n",
      "2    EA1  12507    28921  75909\n",
      "3    EA2  13164    26378  67373\n",
      "4    QMA  16948    36641  93004\n",
      "5    RSS  37756   101856 274408\n",
      "6    WAP  16346    39247 101692\n",
      "7  Total 102648   244333 642364\n"
     ]
    }
   ],
   "source": [
    "## Using the islet/mainland model for 2010:\n",
    "print(\"Islet/mainland model with reference year 2010\")\n",
    "countdf10<-subset(countdf,Year==\"2010\")\n",
    "estByRegionIsl<-as.data.frame(countdf10[,c(\"region\",\"mdlIslLower\",\"mdlIslEstimate\",\"mdlIslUpper\")] %>% group_by(region) %>% dplyr::summarize(Lower=round(sum(mdlIslLower)),Estimate=round(sum(mdlIslEstimate)),Upper=round(sum(mdlIslUpper))))\n",
    "estByRegionIsl<-rbind(estByRegionIsl,data.frame(region=\"Total\",Lower=round(sum(countdf10$mdlIslLower)),Estimate=round(sum(countdf10$mdlIslEstimate)),Upper=round(sum(countdf10$mdlIslUpper))))\n",
    "print(estByRegionIsl)\n",
    "cat(\"\\n\")\n",
    "## Using the islet/mainland model for 2011:\n",
    "print(\"Islet/mainland model with reference year 2011\")\n",
    "countdf11<-subset(countdf,Year==\"2011\")\n",
    "estByRegionIsl<-as.data.frame(countdf11[,c(\"region\",\"mdlIslLower\",\"mdlIslEstimate\",\"mdlIslUpper\")] %>% group_by(region) %>% dplyr::summarize(Lower=round(sum(mdlIslLower)),Estimate=round(sum(mdlIslEstimate)),Upper=round(sum(mdlIslUpper))))\n",
    "estByRegionIsl<-rbind(estByRegionIsl,data.frame(region=\"Total\",Lower=round(sum(countdf11$mdlIslLower)),Estimate=round(sum(countdf11$mdlIslEstimate)),Upper=round(sum(countdf11$mdlIslUpper))))\n",
    "print(estByRegionIsl)"
   ]
  },
  {
   "cell_type": "code",
   "execution_count": 67,
   "metadata": {},
   "outputs": [
    {
     "data": {
      "text/html": [
       "<table>\n",
       "<caption>A data.frame: 6 × 35</caption>\n",
       "<thead>\n",
       "\t<tr><th></th><th scope=col>regionMapId</th><th scope=col>lclNumSeals</th><th scope=col>estNumSeals</th><th scope=col>uclNumSeals</th><th scope=col>mapcoords.x1</th><th scope=col>mapcoords.x2</th><th scope=col>acquisition_date</th><th scope=col>region</th><th scope=col>satId</th><th scope=col>numViews</th><th scope=col>⋯</th><th scope=col>scaledNumTags</th><th scope=col>wgtPredColRate</th><th scope=col>wgtPredIslRate</th><th scope=col>Year</th><th scope=col>mdlColEstimate</th><th scope=col>mdlColUpper</th><th scope=col>mdlColLower</th><th scope=col>mdlIslEstimate</th><th scope=col>mdlIslUpper</th><th scope=col>mdlIslLower</th></tr>\n",
       "\t<tr><th></th><th scope=col>&lt;chr&gt;</th><th scope=col>&lt;dbl&gt;</th><th scope=col>&lt;dbl&gt;</th><th scope=col>&lt;dbl&gt;</th><th scope=col>&lt;dbl&gt;</th><th scope=col>&lt;dbl&gt;</th><th scope=col>&lt;dttm&gt;</th><th scope=col>&lt;chr&gt;</th><th scope=col>&lt;chr&gt;</th><th scope=col>&lt;dbl&gt;</th><th scope=col>⋯</th><th scope=col>&lt;dbl&gt;</th><th scope=col>&lt;dbl&gt;</th><th scope=col>&lt;dbl&gt;</th><th scope=col>&lt;chr&gt;</th><th scope=col>&lt;dbl&gt;</th><th scope=col>&lt;dbl&gt;</th><th scope=col>&lt;dbl&gt;</th><th scope=col>&lt;dbl&gt;</th><th scope=col>&lt;dbl&gt;</th><th scope=col>&lt;dbl&gt;</th></tr>\n",
       "</thead>\n",
       "<tbody>\n",
       "\t<tr><th scope=row>1</th><td>AMU101663</td><td>1</td><td>1</td><td>4</td><td>-85.48336</td><td>-73.34752</td><td>2010-11-20 21:50:18</td><td>AMU</td><td>WV01</td><td>8</td><td>⋯</td><td>0</td><td>0.3267297</td><td>0.2617848</td><td>2010</td><td>0</td><td> 9</td><td>0</td><td>0</td><td>11</td><td>0</td></tr>\n",
       "\t<tr><th scope=row>2</th><td>AMU101663</td><td>1</td><td>1</td><td>4</td><td>-85.48336</td><td>-73.34752</td><td>2010-11-20 21:50:18</td><td>AMU</td><td>WV01</td><td>8</td><td>⋯</td><td>0</td><td>0.2659764</td><td>0.2174677</td><td>2011</td><td>0</td><td>11</td><td>0</td><td>0</td><td>14</td><td>0</td></tr>\n",
       "\t<tr><th scope=row>3</th><td>AMU102072</td><td>1</td><td>1</td><td>4</td><td>-85.44474</td><td>-73.41747</td><td>2010-11-20 21:50:18</td><td>AMU</td><td>WV01</td><td>6</td><td>⋯</td><td>0</td><td>0.2659764</td><td>0.2174677</td><td>2011</td><td>0</td><td>11</td><td>0</td><td>0</td><td>14</td><td>0</td></tr>\n",
       "\t<tr><th scope=row>4</th><td>AMU102072</td><td>1</td><td>1</td><td>4</td><td>-85.44474</td><td>-73.41747</td><td>2010-11-20 21:50:18</td><td>AMU</td><td>WV01</td><td>6</td><td>⋯</td><td>0</td><td>0.3267297</td><td>0.2617848</td><td>2010</td><td>0</td><td> 9</td><td>0</td><td>0</td><td>11</td><td>0</td></tr>\n",
       "\t<tr><th scope=row>5</th><td>AMU102099</td><td>1</td><td>1</td><td>4</td><td>-85.79235</td><td>-73.17324</td><td>2010-11-20 21:50:18</td><td>AMU</td><td>WV01</td><td>6</td><td>⋯</td><td>0</td><td>0.3267297</td><td>0.2617848</td><td>2010</td><td>6</td><td>15</td><td>6</td><td>8</td><td>19</td><td>8</td></tr>\n",
       "\t<tr><th scope=row>6</th><td>AMU102099</td><td>1</td><td>1</td><td>4</td><td>-85.79235</td><td>-73.17324</td><td>2010-11-20 21:50:18</td><td>AMU</td><td>WV01</td><td>6</td><td>⋯</td><td>0</td><td>0.2659764</td><td>0.2174677</td><td>2011</td><td>8</td><td>19</td><td>8</td><td>9</td><td>23</td><td>9</td></tr>\n",
       "</tbody>\n",
       "</table>\n"
      ],
      "text/latex": [
       "A data.frame: 6 × 35\n",
       "\\begin{tabular}{r|lllllllllllllllllllll}\n",
       "  & regionMapId & lclNumSeals & estNumSeals & uclNumSeals & mapcoords.x1 & mapcoords.x2 & acquisition\\_date & region & satId & numViews & ⋯ & scaledNumTags & wgtPredColRate & wgtPredIslRate & Year & mdlColEstimate & mdlColUpper & mdlColLower & mdlIslEstimate & mdlIslUpper & mdlIslLower\\\\\n",
       "  & <chr> & <dbl> & <dbl> & <dbl> & <dbl> & <dbl> & <dttm> & <chr> & <chr> & <dbl> & ⋯ & <dbl> & <dbl> & <dbl> & <chr> & <dbl> & <dbl> & <dbl> & <dbl> & <dbl> & <dbl>\\\\\n",
       "\\hline\n",
       "\t1 & AMU101663 & 1 & 1 & 4 & -85.48336 & -73.34752 & 2010-11-20 21:50:18 & AMU & WV01 & 8 & ⋯ & 0 & 0.3267297 & 0.2617848 & 2010 & 0 &  9 & 0 & 0 & 11 & 0\\\\\n",
       "\t2 & AMU101663 & 1 & 1 & 4 & -85.48336 & -73.34752 & 2010-11-20 21:50:18 & AMU & WV01 & 8 & ⋯ & 0 & 0.2659764 & 0.2174677 & 2011 & 0 & 11 & 0 & 0 & 14 & 0\\\\\n",
       "\t3 & AMU102072 & 1 & 1 & 4 & -85.44474 & -73.41747 & 2010-11-20 21:50:18 & AMU & WV01 & 6 & ⋯ & 0 & 0.2659764 & 0.2174677 & 2011 & 0 & 11 & 0 & 0 & 14 & 0\\\\\n",
       "\t4 & AMU102072 & 1 & 1 & 4 & -85.44474 & -73.41747 & 2010-11-20 21:50:18 & AMU & WV01 & 6 & ⋯ & 0 & 0.3267297 & 0.2617848 & 2010 & 0 &  9 & 0 & 0 & 11 & 0\\\\\n",
       "\t5 & AMU102099 & 1 & 1 & 4 & -85.79235 & -73.17324 & 2010-11-20 21:50:18 & AMU & WV01 & 6 & ⋯ & 0 & 0.3267297 & 0.2617848 & 2010 & 6 & 15 & 6 & 8 & 19 & 8\\\\\n",
       "\t6 & AMU102099 & 1 & 1 & 4 & -85.79235 & -73.17324 & 2010-11-20 21:50:18 & AMU & WV01 & 6 & ⋯ & 0 & 0.2659764 & 0.2174677 & 2011 & 8 & 19 & 8 & 9 & 23 & 9\\\\\n",
       "\\end{tabular}\n"
      ],
      "text/markdown": [
       "\n",
       "A data.frame: 6 × 35\n",
       "\n",
       "| <!--/--> | regionMapId &lt;chr&gt; | lclNumSeals &lt;dbl&gt; | estNumSeals &lt;dbl&gt; | uclNumSeals &lt;dbl&gt; | mapcoords.x1 &lt;dbl&gt; | mapcoords.x2 &lt;dbl&gt; | acquisition_date &lt;dttm&gt; | region &lt;chr&gt; | satId &lt;chr&gt; | numViews &lt;dbl&gt; | ⋯ ⋯ | scaledNumTags &lt;dbl&gt; | wgtPredColRate &lt;dbl&gt; | wgtPredIslRate &lt;dbl&gt; | Year &lt;chr&gt; | mdlColEstimate &lt;dbl&gt; | mdlColUpper &lt;dbl&gt; | mdlColLower &lt;dbl&gt; | mdlIslEstimate &lt;dbl&gt; | mdlIslUpper &lt;dbl&gt; | mdlIslLower &lt;dbl&gt; |\n",
       "|---|---|---|---|---|---|---|---|---|---|---|---|---|---|---|---|---|---|---|---|---|---|\n",
       "| 1 | AMU101663 | 1 | 1 | 4 | -85.48336 | -73.34752 | 2010-11-20 21:50:18 | AMU | WV01 | 8 | ⋯ | 0 | 0.3267297 | 0.2617848 | 2010 | 0 |  9 | 0 | 0 | 11 | 0 |\n",
       "| 2 | AMU101663 | 1 | 1 | 4 | -85.48336 | -73.34752 | 2010-11-20 21:50:18 | AMU | WV01 | 8 | ⋯ | 0 | 0.2659764 | 0.2174677 | 2011 | 0 | 11 | 0 | 0 | 14 | 0 |\n",
       "| 3 | AMU102072 | 1 | 1 | 4 | -85.44474 | -73.41747 | 2010-11-20 21:50:18 | AMU | WV01 | 6 | ⋯ | 0 | 0.2659764 | 0.2174677 | 2011 | 0 | 11 | 0 | 0 | 14 | 0 |\n",
       "| 4 | AMU102072 | 1 | 1 | 4 | -85.44474 | -73.41747 | 2010-11-20 21:50:18 | AMU | WV01 | 6 | ⋯ | 0 | 0.3267297 | 0.2617848 | 2010 | 0 |  9 | 0 | 0 | 11 | 0 |\n",
       "| 5 | AMU102099 | 1 | 1 | 4 | -85.79235 | -73.17324 | 2010-11-20 21:50:18 | AMU | WV01 | 6 | ⋯ | 0 | 0.3267297 | 0.2617848 | 2010 | 6 | 15 | 6 | 8 | 19 | 8 |\n",
       "| 6 | AMU102099 | 1 | 1 | 4 | -85.79235 | -73.17324 | 2010-11-20 21:50:18 | AMU | WV01 | 6 | ⋯ | 0 | 0.2659764 | 0.2174677 | 2011 | 8 | 19 | 8 | 9 | 23 | 9 |\n",
       "\n"
      ],
      "text/plain": [
       "  regionMapId lclNumSeals estNumSeals uclNumSeals mapcoords.x1 mapcoords.x2\n",
       "1 AMU101663   1           1           4           -85.48336    -73.34752   \n",
       "2 AMU101663   1           1           4           -85.48336    -73.34752   \n",
       "3 AMU102072   1           1           4           -85.44474    -73.41747   \n",
       "4 AMU102072   1           1           4           -85.44474    -73.41747   \n",
       "5 AMU102099   1           1           4           -85.79235    -73.17324   \n",
       "6 AMU102099   1           1           4           -85.79235    -73.17324   \n",
       "  acquisition_date    region satId numViews ⋯ scaledNumTags wgtPredColRate\n",
       "1 2010-11-20 21:50:18 AMU    WV01  8        ⋯ 0             0.3267297     \n",
       "2 2010-11-20 21:50:18 AMU    WV01  8        ⋯ 0             0.2659764     \n",
       "3 2010-11-20 21:50:18 AMU    WV01  6        ⋯ 0             0.2659764     \n",
       "4 2010-11-20 21:50:18 AMU    WV01  6        ⋯ 0             0.3267297     \n",
       "5 2010-11-20 21:50:18 AMU    WV01  6        ⋯ 0             0.3267297     \n",
       "6 2010-11-20 21:50:18 AMU    WV01  6        ⋯ 0             0.2659764     \n",
       "  wgtPredIslRate Year mdlColEstimate mdlColUpper mdlColLower mdlIslEstimate\n",
       "1 0.2617848      2010 0               9          0           0             \n",
       "2 0.2174677      2011 0              11          0           0             \n",
       "3 0.2174677      2011 0              11          0           0             \n",
       "4 0.2617848      2010 0               9          0           0             \n",
       "5 0.2617848      2010 6              15          6           8             \n",
       "6 0.2174677      2011 8              19          8           9             \n",
       "  mdlIslUpper mdlIslLower\n",
       "1 11          0          \n",
       "2 14          0          \n",
       "3 14          0          \n",
       "4 11          0          \n",
       "5 19          8          \n",
       "6 23          9          "
      ]
     },
     "metadata": {},
     "output_type": "display_data"
    }
   ],
   "source": [
    "head(countdf)"
   ]
  },
  {
   "cell_type": "code",
   "execution_count": 68,
   "metadata": {},
   "outputs": [],
   "source": [
    "save(countdf, file=paste0(pathToLocalGit,\"data/FinalWESEcounts.RData\"))"
   ]
  },
  {
   "cell_type": "code",
   "execution_count": null,
   "metadata": {},
   "outputs": [],
   "source": []
  }
 ],
 "metadata": {
  "kernelspec": {
   "display_name": "R",
   "language": "R",
   "name": "ir"
  },
  "language_info": {
   "codemirror_mode": "r",
   "file_extension": ".r",
   "mimetype": "text/x-r-source",
   "name": "R",
   "pygments_lexer": "r",
   "version": "3.6.1"
  }
 },
 "nbformat": 4,
 "nbformat_minor": 2
}
