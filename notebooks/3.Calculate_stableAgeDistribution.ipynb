{
 "cells": [
  {
   "cell_type": "markdown",
   "metadata": {},
   "source": [
    "# Calculating the stable age distribution of WESE\n",
    "  \n",
    "### The problem we are trying to solve: \n",
    "  \n",
    "Recall that we used ground counts to \"ground truth\" the satellite counts. That is, we estimated how many seals were missed by the citizen scientists doing the counts in images from the satellites. We did so by comparing their counts in images within 3 days of ground counts in 9 haul-out locations in Erebus Bay. However, there is an additional complication to this correction.  \n",
    "\n",
    "We know that the citizen scientists count seals of all ages. For now we set aside the problem of differentiating between males and females, and assume (assumption 1, A1) that all the seals counted are females. We follow Rotella et al. (2019) to consider that each seal counted belongs to one of four categories of breeding status and age: pre-breeders, first-time breeders, experienced breeders, or skip-breeders (PB/FB/EB/SB respectively - see the reference for definitions). We know that the composition of individuals among these age/breeding status classes varies among haul-out locations around Erebus Bay, and assume (A2) this differential distribution of individuals among locations to be true also outside of Erebus Bay.  \n",
    "  \n",
    "We also know (from Paterson et al. 2018) that the probability of individuals to show up at a haul-out location during the pupping season depends on their age/status. So, the additional problem is that this differential age/status distribution in Erebus Bay vs other locations is probably an important bias in our correction method. If the locations at Erebus Bay have mostly lactating females, attendance rates from all classes combined will be certainly lower than if they were the age/status distribution counted by the citizen scientist, because at Erebus Bay we are missing most of the pre-breeders in the ground counts. These are seals that prefer to stay away in peripheral locations until recruited into the breeding population. If the ground counts occurred at locations encompassing an area large enough to include all the age/status classes of the \"true\" Erebus Bay population, we would be counting 100% of the individuals in the ground counts (minus those few missed because they were in the water at the time of the count, but then these would be missed by the satellite cameras too). This hypothetical count of a sufficietly large area to include the whole population would be much more resembling the populations counted by the citizen scientists, and would result in a more appropriate \"ground truthing\".  \n",
    "  \n",
    "To find a better value for the ground counts to correct the satelite-based counts, we make two more assumptions. First (A3), we assume that at sufficiently large scales (global or large regional) the aggregate of seals will resemble closely the stable age distribution for the species. Second (A4), the vital rates reported in Rotella et al. (2012) are representative of these global or large-scale populations and therefore can be used to calculate the stable age distribution. \n",
    "  \n",
    "With the above assumptions we can estimate what would be the age/status distribution of the 9 Erebus Bay locations if these were at the stable age distribution. Thanks to Paterson et al (2018) we also know what is the attendance rate per age/status group at these locations, so we can then estimate what percentage of individuals we are missing from the Erebus Bay ground count due to the fact that we are not ground-counting the entire population. Knowing this percentage of \"missing\" individuals across all age classes, we can use it to correct the ground counts and thus, the satellite counts in a manner that is more adequate for the global or large regional populations.  \n",
    "  \n",
    "  \n",
    "### Rationale about the breeding status classes  \n",
    "  \n",
    "Following Rotella et al. (2012), pre-breeders at any age class come only from the surviving pre-breeders of the previous age class. Thus we make one more assumption (A5), that individuals permanently emigrating from the population are presumed dead. That is, we have a closed population. Also from Paterson et al. (2018) we assume that after age 12 there any pre-breeders that have not bred will never breed. They may survive and remain in the population for many years, but without breeding. First-time breeders come from surviving pre-breeders that are recruited into the breeding population, and from nowhere else (closed population). Because of this, it must be true that the first-time breeders at time t must be equal to all experienced breeders at time t+1 that were first-time breeders at t, plus all skippers at time t+1 that were first-time breeders at t, plus all first-breeders at time t that did not survive to age t+1. Experienced breeders come from first-time breeders that survived and reproduced again the next year, experienced breeders that survived and reproduced again the next year, or skip-breeders that survived and resumed breeding. Skip-breeders similarly come from surviving first-time breeders that skip breeding the next year, experienced breeders that survive to and opt to skip breeding the next year, and skip-breeders that survive and skip breeding again. As with first-time breeders, we can check that the numbers conform with the closed population assumption.\n",
    "  \n",
    "The above logic is shown in the below equations, with the following conventions:\n",
    "  * PB = pre-breeder, FB = first-time breeder, EB = experienced breeder, SB = Skip-breeder, D = dead\n",
    "  * Psurv is the probability of surviving from year t to year t+1\n",
    "  * Pfb = probability of pre-breeder at time t becoming first-time breeder at time t+1; Pfb_eb = probability of first-breeder at t to become exprienced breeder at time t+1; and so on for Peb_eb, Ps_eb, Pfb_sb, Peb_sb, and Psb_sb.\n",
    "\n",
    "So:  \n",
    "    PB_t+1 = PB_t x Psurv x (1 - Pfb)  \n",
    "    FB_t+1 = PB_t x Psurv x Pfb  \n",
    "    EB_t+1 = Psurv x ((FB_t x Pfb_eb) + (EB_t x Peb_eb) + (SB_t x Psb_eb))  \n",
    "    SB_t+1 = Psurv x ((FB_t x Pfb_sb) + (EB_t x Peb_sb) + (SB_t x Psb_sb))  \n",
    "    D_t+1  = (1 - Psurv) x (PB_t-1 + FB_t-1 + EB_t-1 + SB_t-1) \n",
    "    \n",
    "Note: these are simplified equations by factoring out Psurv or (1 - Psurv). In reality, as shown in the code below, we cannot factor out Psurv because it varies with breeding status and age.  \n",
    "  \n",
    "  \n",
    "### Rationale about calculating the stabe age distribution and the correction factor for Erebus Bay ground counts\n",
    "  \n",
    "We start with 1,000 individuals as pre-breeders at Age 1 (yearlings) and walk them through the above equations, using the appropriate breeding status transition probabilities from Rotella et al. (2012), Table S2, and survival probabilities from Rotella et al. (2012) for pre-breeders, and Paterson et al. (2018), the more recent estimates, for all other categories. We use the quadratic approximation in Paterson et al (2018) for first-time breeders ages 6 and on, and for experienced and skip breeders. We then re-scale the results into proportions of the 1,000 individuals. This gives us the stable age distribution and we partition the ground counts as if these were from a stable age distribution. We then use the attendance rates in Paterson et al. (2018) to calculate how many individuals would be missing from each age/status class in the Erebus Bay ground counts. The difference (as a percentage) is the correction to use for the ground counts. Since this is a multiplicative factor, and the correction from \"truthing\" with ground counts is also a multiplicative factor, we can add this correction at the end, after calculating a population number.\n",
    "\n",
    "#### References:\n",
    "Rotella, J.J., Link, W.A., Chambert, T., Stauffer, G.E. and Garrott, R.A., 2012. Evaluating the demographic buffering hypothesis with vital rates estimated for Weddell seals from 30 years of mark–recapture data. Journal of Animal Ecology, 81(1), pp.162-173.  \n",
    "Paterson, J.T., Rotella, J.J., Link, W.A. and Garrott, R., 2018. Variation in the vital rates of an Antarctic marine predator: the role of individual heterogeneity. Ecology, 99(10), pp.2385-2396.\n",
    "\n",
    "### Missing still - how to handle the count of (and missing to count) males"
   ]
  },
  {
   "cell_type": "code",
   "execution_count": 103,
   "metadata": {},
   "outputs": [],
   "source": [
    "## Functions\n",
    "getTransitionProbs<-function(age_t,status_t){# returns a vector: to FB, to EB, to SB \n",
    "    # we state pobabilities at age t (hence status_t) to calculate transition to some other state at t+1 \n",
    "    # All data for PB from Rotella et al. 2012, Table S2\n",
    "    # All coefficients for calculating transitions for all other classes from Paterson et al. 2018\n",
    "    if(status_t==\"PB\" & age_t<5){\n",
    "        toFB<-0; toEB<-0; toSB<-0\n",
    "    }else if(status_t==\"PB\" & age_t==5){\n",
    "        toFB<-0.03053118; toEB<-0; toSB<-0\n",
    "    }else if(status_t==\"PB\" & age_t==6){\n",
    "        toFB<-0.1551194; toEB<-0; toSB<-0\n",
    "    }else if(status_t==\"PB\" & age_t==7){\n",
    "        toFB<-0.284347; toEB<-0; toSB<-0\n",
    "    }else if(status_t==\"PB\" & age_t==8){\n",
    "        toFB<-0.3775407; toEB<-0; toSB<-0\n",
    "    }else if(status_t==\"PB\" & age_t==9){\n",
    "        toFB<-0.3740221; toEB<-0; toSB<-0\n",
    "    }else if(status_t==\"PB\" & age_t==10){\n",
    "        toFB<-0.4528902; toEB<-0; toSB<-0\n",
    "    }else if(status_t==\"PB\" & (age_t %in% c(11,12))){\n",
    "        toFB<-0.3509195; toEB<-0; toSB<-0\n",
    "    }else if(status_t==\"PB\" & age_t>12){\n",
    "        toFB<-0; toEB<-0; toSB<-0\n",
    "    }else if(status_t != \"PB\"){\n",
    "        brP<-breedingProbs(age_t=age_t,status_t=status_t)\n",
    "        toFB<-0; toEB<-brP$toEB; toSB<-brP$toSB\n",
    "    }else{ #status_t is unknown? \n",
    "        toFB<-0; toEB<-0; toSB<-0\n",
    "    }\n",
    "    return(list(toFB=toFB,toEB=toEB,toSB=toSB))\n",
    "}\n",
    "        \n",
    "\n",
    "logit = function(x){log(x/(1 - x))}\n",
    "ilogit = function(x){1/(1 + exp(-x))}\n",
    "\n",
    "## This function is called by function getTransition Probs above\n",
    "breedingProbs = function(age_t, status_t, age.at.first = 7){ \n",
    "    ## omitting individual and year random effects\n",
    "    age.at.first.piece = -0.23 * (age.at.first - 7) /2\n",
    "    age.piece = -0.36 * ((age_t - 16)/6.77)^2 + -0.08 * (age_t - 16)/6.77\n",
    "    \n",
    "    breeder.this.year = ilogit(1.325 + age.piece + age.at.first.piece)\n",
    "    first.time.breeder.this.year = ilogit(0.895 + age.piece + age.at.first.piece)\n",
    "    logit.skip.seen.this.year = 1.735 + age.piece + age.at.first.piece\n",
    "    logit.skip.gone.this.year = 1.516 + age.piece + age.at.first.piece\n",
    "    skip.this.year = ilogit((logit.skip.seen.this.year + logit.skip.gone.this.year)/2) \n",
    "\n",
    "    if(status_t==\"FB\"){\n",
    "        toEB <- first.time.breeder.this.year; toSB <- 1-first.time.breeder.this.year\n",
    "    }else if(status_t==\"EB\"){\n",
    "        toEB <- breeder.this.year; toSB <- 1-breeder.this.year\n",
    "    }else if(status_t==\"SB\"){\n",
    "        toEB <- skip.this.year; toSB <- 1-skip.this.year\n",
    "    }else{\n",
    "        toEB<-0; toSB<-0\n",
    "    }\n",
    "    \n",
    "    return(list(toEB=toEB, toSB=toSB))\n",
    "}\n",
    "  \n",
    "\n",
    "getSurvivalProb<-function(age_t,status_t){  # This returns the probability of surviving to age t+1 (i.e., from t to t+1)\n",
    "    # Data to use to calculate breeding probabilities for recruited females from Paterson et al. 2018\n",
    "    # Or from Rotella et al. 2012 where indicated\n",
    "    if(age_t==1){ # From Rotella et al. 2012 Table S2\n",
    "        Psurv<-0.4930005\n",
    "    }\n",
    "    if(age_t>=2){ # From Rotella et al. 2012 Table S2\n",
    "        Psurv<-0.9323903\n",
    "        if(status_t != \"PB\"){\n",
    "            Psurv<-survivalProb(age_t=age_t,status_t=status_t)\n",
    "        }else if(status_t==\"PB\" & age_t>12){\n",
    "            # Some pre-breeders never breed and linger in the popuation, with Psurv equal to the general estimate\n",
    "            # From Rotella et al. 2012 Table S2\n",
    "            Psurv<-0.9323903\n",
    "        }\n",
    "    }\n",
    "    return(Psurv)\n",
    "}\n",
    "\n",
    "survivalProb = function(age_t,status_t){\n",
    "    ## Omitting individual and year random effects  \n",
    "    ## omitting age at first reproduction effect, as it is nearly 0\n",
    "\n",
    "    age.piece = -0.15 * ((age_t - 16)/6.77)^2 + -0.48 * (age_t - 16)/6.77\n",
    "\n",
    "    breeder.this.year = ilogit(1.992 + age.piece)\n",
    "    first.time.breeder.this.year = ilogit(2.081 + age.piece)\n",
    "    skip.this.year = ilogit(2.442 + age.piece)\n",
    "\n",
    "    Psurv<-ifelse(status_t==\"FB\",first.time.breeder.this.year, ifelse(status_t==\"EB\",breeder.this.year,skip.this.year))\n",
    "    \n",
    "    return(Psurv)\n",
    "}\n",
    "\n",
    "\n",
    "calcNextYear<-function(Mx_row_t){\n",
    "    \n",
    "    age_t<-Mx_row_t[1] \n",
    "    PB_t<-Mx_row_t[2]; FB_t<-Mx_row_t[3]; EB_t<-Mx_row_t[4]; SB_t<-Mx_row_t[5]\n",
    "    DPB_t<-Mx_row_t[6]; DFB_t<-Mx_row_t[7]; DEB_t<-Mx_row_t[8]; DSB_t<-Mx_row_t[9]\n",
    "    \n",
    "    # calculate PB numbers at age t+1, dead PB at age t+1\n",
    "    PsurvPB<-getSurvivalProb(age_t=age_t, status_t=\"PB\")\n",
    "    transProbPB<-getTransitionProbs(age_t=age_t,status_t=\"PB\")\n",
    "    ProbPBPB<- 1-transProbPB$toFB  #i.e., PB not turning to FB\n",
    "    PB_tp1 <- PB_t * PsurvPB * ProbPBPB  \n",
    "    DPB_tp1 <- PB_t * (1-PsurvPB)\n",
    "    \n",
    "    # calculate FB numbers at age t+1\n",
    "    FB_tp1 <- PB_t * PsurvPB * transProbPB$toFB\n",
    "    # calculate dead FB at age t+1: It's not 0; it should be those that did not become EB or SB, so... \n",
    "    PsurvFB<-getSurvivalProb(age_t=age_t, status_t=\"FB\")\n",
    "    DFB_tp1<- FB_t * (1-PsurvFB)  \n",
    "    \n",
    "    # calculate EB numbers at age t+1\n",
    "    PsurvFB<-getSurvivalProb(age_t=age_t, status_t=\"FB\")\n",
    "    PsurvEB<-getSurvivalProb(age_t=age_t, status_t=\"EB\")\n",
    "    PsurvSB<-getSurvivalProb(age_t=age_t, status_t=\"SB\")\n",
    "    transProbFB<-getTransitionProbs(age_t=age_t,status_t=\"FB\"); Pfb_eb<-transProbFB$toEB\n",
    "    transProbEB<-getTransitionProbs(age_t=age_t,status_t=\"EB\"); Peb_eb<-transProbFB$toEB\n",
    "    transProbSB<-getTransitionProbs(age_t=age_t,status_t=\"SB\"); Psb_eb<-transProbFB$toEB\n",
    "    EB_tp1 <- (FB_t * PsurvFB * Pfb_eb) + (EB_t * PsurvEB * Peb_eb) + (SB_t * PsurvSB * Psb_eb)\n",
    "    # calculate dead EB at age t+1 \n",
    "    DEB_tp1 <- EB_t * (1-PsurvEB)\n",
    "    \n",
    "    # calculate SB numbers at age t+1\n",
    "    Pfb_sb<-transProbFB$toSB\n",
    "    Peb_sb<-transProbFB$toSB\n",
    "    Psb_sb<-transProbFB$toSB\n",
    "    SB_tp1 <- (FB_t * PsurvFB * Pfb_sb) + (EB_t * PsurvEB * Peb_sb) + (SB_t * PsurvSB * Psb_sb)\n",
    "    # calculate dead SB at age t+1\n",
    "    DSB_tp1 <- SB_t * (1-PsurvSB)\n",
    "    \n",
    "    #return Mx_row_tp1 - i.e., the row of values at age tp1, i.e., \"the next row\"\n",
    "    age_tp1<-age_t+1\n",
    "    Mx_row_tp1<-c(age_tp1,PB_tp1,FB_tp1,EB_tp1,SB_tp1,DPB_tp1,DFB_tp1,DEB_tp1,DSB_tp1)\n",
    "    return(Mx_row_tp1)\n",
    "}\n"
   ]
  },
  {
   "cell_type": "code",
   "execution_count": 188,
   "metadata": {},
   "outputs": [
    {
     "name": "stdout",
     "output_type": "stream",
     "text": [
      "   age    PB   FB   EB   SB  DPB DFB DEB DSB Alive CumDead Balance\n",
      "1    1 15335    0    0    0    0   0   0   0 15335       0   15335\n",
      "2    2  7560    0    0    0 7775   0   0   0  7560    7775   15335\n",
      "3    3  7049    0    0    0  511   0   0   0  7049    8286   15335\n",
      "4    4  6572    0    0    0  477   0   0   0  6572    8763   15335\n",
      "5    5  6128    0    0    0  444   0   0   0  6128    9207   15335\n",
      "6    6  5539  174    0    0  414   0   0   0  5713    9621   15334\n",
      "7    7  4363  801   89   71  374  14   0   0  5324   10009   15333\n",
      "8    8  2911 1157  523  363  295  63   8   4  4954   10379   15333\n",
      "9    9  1689 1025 1167  717  197  93  46  21  4598   10736   15334\n",
      "10  10   986  589 1726  954  114  84 104  42  4255   11080   15335\n",
      "11  11   503  416 1997 1008   67  50 157  57  3924   11411   15335\n",
      "12  12   304  165 2134 1000   34  36 188  63  3603   11732   15335\n",
      "13  13   184   99 2088  923   21  15 208  65  3294   12041   15335\n",
      "14  14   172    0 1985  840   12   9 213  62  2997   12337   15334\n",
      "15  15   160    0 1808  745   12   0 213  60  2713   12622   15335\n",
      "16  16   149    0 1629  663   11   0 204  56  2441   12893   15334\n",
      "17  17   139    0 1451  593   10   0 196  53  2183   13152   15335\n",
      "18  18   130    0 1276  532    9   0 186  51  1938   13398   15336\n",
      "19  19   121    0 1106  478    9   0 175  49  1705   13631   15336\n",
      "20  20   113    0  944  429    8   0 164  48  1486   13851   15337\n",
      "21  21   105    0  791  384    8   0 151  47  1280   14057   15337\n",
      "22  22    98    0  649  342    7   0 138  46  1089   14248   15337\n",
      "23  23    91    0  520  303    7   0 123  45   914   14423   15337\n",
      "24  24    85    0  406  265    6   0 108  44   756   14581   15337\n",
      "25  25    79    0  308  228    6   0  93  42   615   14722   15337\n",
      "26  26    74    0  225  193    5   0  78  40   492   14845   15337\n",
      "27  27    69    0  158  159    5   0  62  38   386   14950   15336\n",
      "28  28    64    0  106  128    5   0  48  35   298   15038   15336\n",
      "29  29    60    0   68   99    4   0  36  31   227   15109   15336\n",
      "30  30    56    0   41   73    4   0  25  27   170   15165   15335\n"
     ]
    }
   ],
   "source": [
    "## Dimension starting matrix, seed with 15,335 PB seals, as this results in 100,000 individuals in the population\n",
    "## Loop through 29 age class transitions and update the appropriate row in the matrix.\n",
    "WESEmx<-matrix(rep(0,times=30*9),ncol=9)\n",
    "WESEmx[,1]<-c(1:30)\n",
    "WESEmx[1,]<-c(1,15335,0,0,0,0,0,0,0)\n",
    "\n",
    "for(rr in 1:29){\n",
    "    Mx_row_tp1<-calcNextYear(WESEmx[rr,])\n",
    "    WESEmx[rr+1,]<-round(Mx_row_tp1)\n",
    "}\n",
    "wesedf<-as.data.frame(WESEmx);names(wesedf)<-c(\"age\",\"PB\",\"FB\",\"EB\",\"SB\",\"DPB\",\"DFB\",\"DEB\",\"DSB\")\n",
    "wesedf$Alive<-apply(wesedf[,2:5],1,sum)\n",
    "wesedf$CumDead<-sapply(1:30,function(dd,wesedf){\n",
    "    cnd<-numeric()\n",
    "    for(rr in 1:dd){\n",
    "        cdv<-sum(wesedf[rr,6:9])\n",
    "        cnd<-c(cnd,cdv)\n",
    "    }\n",
    "    return(sum(cnd))\n",
    "},wesedf=wesedf)\n",
    "wesedf$Balance<-wesedf$Alive+wesedf$CumDead\n",
    "print(wesedf)"
   ]
  },
  {
   "cell_type": "code",
   "execution_count": 189,
   "metadata": {},
   "outputs": [
    {
     "data": {
      "text/html": [
       "0.0544605446054461"
      ],
      "text/latex": [
       "0.0544605446054461"
      ],
      "text/markdown": [
       "0.0544605446054461"
      ],
      "text/plain": [
       "[1] 0.05446054"
      ]
     },
     "metadata": {},
     "output_type": "display_data"
    }
   ],
   "source": [
    "#Checking: Percent seals > 20 yrs old\n",
    "(sum(wesedf$EB[21:30]) + sum(wesedf$SB[21:30]))/sum(wesedf$Alive)"
   ]
  },
  {
   "cell_type": "code",
   "execution_count": 190,
   "metadata": {},
   "outputs": [
    {
     "data": {
      "image/png": "[encoded data removed]",
      "text/plain": [
       "plot without title"
      ]
     },
     "metadata": {
      "image/png": {
       "height": 420,
       "width": 420
      },
      "text/plain": {
       "height": 420,
       "width": 420
      }
     },
     "output_type": "display_data"
    }
   ],
   "source": [
    "#Checking: number of breeding seals by age \n",
    "wesedf$numRecruited<-apply(wesedf[,c(\"FB\",\"EB\",\"SB\")],1,sum)\n",
    "library(ggplot2)\n",
    "ggplot(wesedf,aes(age,numRecruited)) + geom_bar(stat=\"identity\") + labs(x=\"Age of seals\", y=\"Number of breeding seals\")"
   ]
  },
  {
   "cell_type": "markdown",
   "metadata": {},
   "source": [
    "## Correcting the Erebus Bay ground counts for incomplete survey of the stable age abundances\n",
    "Now that we know what percentage of individuals should be expected in each age class (under the assumption that the vital rates from Erebus Bay are representative of those elsewhere in the continent), we need to know the true percentage in age classes in the ground counts, or alternatively, the colony attenance rates per age class. Per JR, all recruitment to the population happens at the Erebus Bay locations, so the attendance rate of FB seals is 100%. The same is the case for EB seals. That is, if the seal is not breeding at the Erebus Bay locations, it is not breeding elsewhere. From inspecting peripheral haul-out sites, JR and his team know that there is a good percentage of missing PB seals. Also a very small percentage of EB may choose to skip breeding away from the Erebus Bay locations. A larger number of FB may skip attendance to the Erebus Bay locations and skip breeding in any year by going to some other location: 16% per Paterson et al. 2018.  \n",
    "  \n",
    "Stauffer et al. 2013, Supplemental material, Figure S2 panel b, shows that the precent of pre-breeders skipping attendance at Erebus Bay locations varies throughout the season. An average value is 65% attendance. Paterson et al. 2018 report an attendance rate of 96% for SB, and 84% for FB that skip.  \n",
    "  \n",
    "We use these percentages below to estimate the number of individuals missed in the ground counts because they were not at the haul out locations in Erebus Bay in 2011."
   ]
  },
  {
   "cell_type": "code",
   "execution_count": 191,
   "metadata": {},
   "outputs": [
    {
     "data": {
      "text/html": [
       "<style>\n",
       ".dl-inline {width: auto; margin:0; padding: 0}\n",
       ".dl-inline>dt, .dl-inline>dd {float: none; width: auto; display: inline-block}\n",
       ".dl-inline>dt::after {content: \":\\0020\"; padding-right: .5ex}\n",
       ".dl-inline>dt:not(:first-of-type) {padding-left: .5ex}\n",
       "</style><dl class=dl-inline><dt>PB</dt><dd>60888</dd><dt>FB</dt><dd>4426</dd><dt>EB</dt><dd>23195</dd><dt>SB</dt><dd>11490</dd></dl>\n"
      ],
      "text/latex": [
       "\\begin{description*}\n",
       "\\item[PB] 60888\n",
       "\\item[FB] 4426\n",
       "\\item[EB] 23195\n",
       "\\item[SB] 11490\n",
       "\\end{description*}\n"
      ],
      "text/markdown": [
       "PB\n",
       ":   60888FB\n",
       ":   4426EB\n",
       ":   23195SB\n",
       ":   11490\n",
       "\n"
      ],
      "text/plain": [
       "   PB    FB    EB    SB \n",
       "60888  4426 23195 11490 "
      ]
     },
     "metadata": {},
     "output_type": "display_data"
    }
   ],
   "source": [
    "## From the above calculations, we have the following totals per age class:\n",
    "(countsByClass<-apply(wesedf[,2:5],2,sum))"
   ]
  },
  {
   "cell_type": "code",
   "execution_count": 192,
   "metadata": {},
   "outputs": [
    {
     "name": "stdout",
     "output_type": "stream",
     "text": [
      "[1] 0.9345591\n"
     ]
    }
   ],
   "source": [
    "## Here are the attendance rates by age class\n",
    "arPB<-0.65 # From Sauffer et al. 2013, supplemental Figure S2, panel b - value of the curve for survey period 4 (approx. date of our ground counts)\n",
    "arFB<-1 # All seals recruit in rebus Bay locations\n",
    "arEB<-1 # All expereinced breeders breed again in Eerebus Bay locations\n",
    "arFBSB<-0.84\n",
    "arEBSB<-0.94\n",
    "arSBSB<-0.96\n",
    "## To calculate arSB, we compute a weighted average:\n",
    "arSBall<-c(arFBSB,arEBSB,arSBSB)\n",
    "arSB<-as.numeric((arSBall %*% countsByClass[2:4])/sum(countsByClass[2:4]))\n",
    "print(arSB)"
   ]
  },
  {
   "cell_type": "code",
   "execution_count": 193,
   "metadata": {},
   "outputs": [
    {
     "name": "stdout",
     "output_type": "stream",
     "text": [
      "[1] \"Stable Age count: 99999\"\n",
      "[1] \"Available to count: 77936\"\n"
     ]
    }
   ],
   "source": [
    "## By stable age distribution the ground counts should find, with perfect detection of all females, as many as...\n",
    "print(paste(\"Stable Age count:\",sum(countsByClass)))\n",
    "\n",
    "## Accounting for the attendance rates above, the true number of females available for counting is...\n",
    "attRates<-c(arPB,arFB,arEB,arSB)\n",
    "sealsToCount<-round(countsByClass * attRates)\n",
    "print(paste(\"Available to count:\",sum(sealsToCount)))"
   ]
  },
  {
   "cell_type": "code",
   "execution_count": 194,
   "metadata": {},
   "outputs": [
    {
     "data": {
      "text/html": [
       "1.283"
      ],
      "text/latex": [
       "1.283"
      ],
      "text/markdown": [
       "1.283"
      ],
      "text/plain": [
       "[1] 1.283"
      ]
     },
     "metadata": {},
     "output_type": "display_data"
    }
   ],
   "source": [
    "## Count inflation ratio is then:\n",
    "(round(sum(countsByClass)/sum(sealsToCount),3))"
   ]
  },
  {
   "cell_type": "markdown",
   "metadata": {},
   "source": [
    "## Dealing with males in the counts\n",
    "We know that the satellite images captured males on ice. We have the known problem that the Erebus Bay locations will host mostly breeding males; those not breeding will be found in larger numbers in peripheral locations. Breeding males and non-breeding males behave very differently, too. The breeders spend considerable time in the water defending territories and access to receptive females. Thus, the ground count of males at Erebus Bay will probably miss many, whereas this would not be the case if the location was a non-breeding haul-out. So, one piece of the problem is that there is a difference in the ratio of males to females at a haul-out location that makes it so that the Erebus Bay locations have fewer males than they should if the social effects (males competing for access to receptive females) were not at play. The other part is that the territorial males spend a lot more time in the water, and not on ice and available for detection via a atellite image. As a result of these two issues, the percentage of males at Erebus Bay is underrepresented in the ground counts and it is very likely not reflective of the true number of males in the population.  \n",
    "  \n",
    "We cannot follow the same approach as we did with the female vital rates, because we don't have the critical transition probabilities (esp. recruitment rates) and the differential probability of being in the water at the time of a ground count, which is also dependent on breeding status. These data do not exist for locations outside of Erebus Bay. A simple approach is to assume that the ratio of males to females in the ground counts at Erebus Bay is the same elsewhere (JR and his team know this not to be true, DA also knows this not to be true from his own experience, but we acknowledge our limitations and the consequences of this very impactful assumption), and then adjust the total estimates for the percent of females in the ground counts, so as to limit our estimates to only females. For this approach, all we need to know is the percent of males on the ground during the ground counts, which JR and his team have estimated at 22.1% (excluding pups)."
   ]
  },
  {
   "cell_type": "markdown",
   "metadata": {},
   "source": [
    "### Adjusting for stable age distribution and counting only females\n",
    "All we have left to do is multiply these two adjustment rates and the product will give us the value of the correction factor."
   ]
  },
  {
   "cell_type": "code",
   "execution_count": 133,
   "metadata": {},
   "outputs": [
    {
     "data": {
      "text/html": [
       "0.999457"
      ],
      "text/latex": [
       "0.999457"
      ],
      "text/markdown": [
       "0.999457"
      ],
      "text/plain": [
       "[1] 0.999457"
      ]
     },
     "metadata": {},
     "output_type": "display_data"
    }
   ],
   "source": [
    "## corrFactor = percent_FemalesInCounts x stableAgeDistribution_correction\n",
    "(corrFactor<-0.779 * 1.283)"
   ]
  },
  {
   "cell_type": "markdown",
   "metadata": {},
   "source": [
    "That is, if our global or regional counts using volunteers that tag seals in satellite images say there were 100,000 seals, then 100,000 x 0.999457 = 99,946 of these were female seals."
   ]
  }
 ],
 "metadata": {
  "kernelspec": {
   "display_name": "R",
   "language": "R",
   "name": "ir"
  },
  "language_info": {
   "codemirror_mode": "r",
   "file_extension": ".r",
   "mimetype": "text/x-r-source",
   "name": "R",
   "pygments_lexer": "r",
   "version": "3.6.3"
  }
 },
 "nbformat": 4,
 "nbformat_minor": 2
}
