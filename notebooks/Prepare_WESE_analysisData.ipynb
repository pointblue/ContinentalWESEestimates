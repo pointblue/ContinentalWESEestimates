{
 "cells": [
  {
   "cell_type": "markdown",
   "metadata": {},
   "source": [
    "# Prepare data to fit regression models of seal abundance and presence\n",
    "This notebook uses the information on the estimated number of seals per 5 x 5 KM grid cell to construct the data.frame used to build regression models that aim to explain some of the factors that explain the observed distribution and abundance of Weddell seals around Antarctica.\n",
    "\n",
    "Run this file every time you run the notebook \"Attribute geospatial data with seal abundance data\", as it means you have new geospatial covariates to analyze."
   ]
  },
  {
   "cell_type": "markdown",
   "metadata": {},
   "source": [
    "### Loading the required libraries and other dependencies"
   ]
  },
  {
   "cell_type": "code",
   "execution_count": 33,
   "metadata": {
    "scrolled": true
   },
   "outputs": [
    {
     "data": {
      "text/html": [
       "<table>\n",
       "<caption>A matrix: 2 × 6 of type dbl</caption>\n",
       "<thead>\n",
       "\t<tr><th></th><th scope=col>used</th><th scope=col>(Mb)</th><th scope=col>gc trigger</th><th scope=col>(Mb)</th><th scope=col>max used</th><th scope=col>(Mb)</th></tr>\n",
       "</thead>\n",
       "<tbody>\n",
       "\t<tr><th scope=row>Ncells</th><td>2233027</td><td>119.3</td><td> 4703850</td><td>251.3</td><td> 4703850</td><td>251.3</td></tr>\n",
       "\t<tr><th scope=row>Vcells</th><td>2675966</td><td> 20.5</td><td>43948875</td><td>335.4</td><td>54842130</td><td>418.5</td></tr>\n",
       "</tbody>\n",
       "</table>\n"
      ],
      "text/latex": [
       "A matrix: 2 × 6 of type dbl\n",
       "\\begin{tabular}{r|llllll}\n",
       "  & used & (Mb) & gc trigger & (Mb) & max used & (Mb)\\\\\n",
       "\\hline\n",
       "\tNcells & 2233027 & 119.3 &  4703850 & 251.3 &  4703850 & 251.3\\\\\n",
       "\tVcells & 2675966 &  20.5 & 43948875 & 335.4 & 54842130 & 418.5\\\\\n",
       "\\end{tabular}\n"
      ],
      "text/markdown": [
       "\n",
       "A matrix: 2 × 6 of type dbl\n",
       "\n",
       "| <!--/--> | used | (Mb) | gc trigger | (Mb) | max used | (Mb) |\n",
       "|---|---|---|---|---|---|---|\n",
       "| Ncells | 2233027 | 119.3 |  4703850 | 251.3 |  4703850 | 251.3 |\n",
       "| Vcells | 2675966 |  20.5 | 43948875 | 335.4 | 54842130 | 418.5 |\n",
       "\n"
      ],
      "text/plain": [
       "       used    (Mb)  gc trigger (Mb)  max used (Mb) \n",
       "Ncells 2233027 119.3  4703850   251.3  4703850 251.3\n",
       "Vcells 2675966  20.5 43948875   335.4 54842130 418.5"
      ]
     },
     "metadata": {},
     "output_type": "display_data"
    }
   ],
   "source": [
    "## Clear memory\n",
    "rm(list=ls())\n",
    "gc()"
   ]
  },
  {
   "cell_type": "code",
   "execution_count": 34,
   "metadata": {
    "scrolled": false
   },
   "outputs": [
    {
     "data": {
      "text/html": [
       "<ol>\n",
       "\t<li>TRUE</li>\n",
       "\t<li>TRUE</li>\n",
       "\t<li>TRUE</li>\n",
       "\t<li>TRUE</li>\n",
       "\t<li>TRUE</li>\n",
       "\t<li>TRUE</li>\n",
       "\t<li>TRUE</li>\n",
       "\t<li>TRUE</li>\n",
       "\t<li>TRUE</li>\n",
       "\t<li>TRUE</li>\n",
       "\t<li>TRUE</li>\n",
       "\t<li>TRUE</li>\n",
       "\t<li>TRUE</li>\n",
       "\t<li>TRUE</li>\n",
       "</ol>\n"
      ],
      "text/latex": [
       "\\begin{enumerate}\n",
       "\\item TRUE\n",
       "\\item TRUE\n",
       "\\item TRUE\n",
       "\\item TRUE\n",
       "\\item TRUE\n",
       "\\item TRUE\n",
       "\\item TRUE\n",
       "\\item TRUE\n",
       "\\item TRUE\n",
       "\\item TRUE\n",
       "\\item TRUE\n",
       "\\item TRUE\n",
       "\\item TRUE\n",
       "\\item TRUE\n",
       "\\end{enumerate}\n"
      ],
      "text/markdown": [
       "1. TRUE\n",
       "2. TRUE\n",
       "3. TRUE\n",
       "4. TRUE\n",
       "5. TRUE\n",
       "6. TRUE\n",
       "7. TRUE\n",
       "8. TRUE\n",
       "9. TRUE\n",
       "10. TRUE\n",
       "11. TRUE\n",
       "12. TRUE\n",
       "13. TRUE\n",
       "14. TRUE\n",
       "\n",
       "\n"
      ],
      "text/plain": [
       "[[1]]\n",
       "[1] TRUE\n",
       "\n",
       "[[2]]\n",
       "[1] TRUE\n",
       "\n",
       "[[3]]\n",
       "[1] TRUE\n",
       "\n",
       "[[4]]\n",
       "[1] TRUE\n",
       "\n",
       "[[5]]\n",
       "[1] TRUE\n",
       "\n",
       "[[6]]\n",
       "[1] TRUE\n",
       "\n",
       "[[7]]\n",
       "[1] TRUE\n",
       "\n",
       "[[8]]\n",
       "[1] TRUE\n",
       "\n",
       "[[9]]\n",
       "[1] TRUE\n",
       "\n",
       "[[10]]\n",
       "[1] TRUE\n",
       "\n",
       "[[11]]\n",
       "[1] TRUE\n",
       "\n",
       "[[12]]\n",
       "[1] TRUE\n",
       "\n",
       "[[13]]\n",
       "[1] TRUE\n",
       "\n",
       "[[14]]\n",
       "[1] TRUE\n"
      ]
     },
     "metadata": {},
     "output_type": "display_data"
    }
   ],
   "source": [
    "libs<-c(\"ggplot2\",\"plyr\",\"dplyr\",\"sp\",\"rgeos\",\"rgdal\",\"raster\",\"MASS\",\"fitdistrplus\",\n",
    "        \"jsonlite\",\"plot3D\",\"caret\",\"plotROC\",\"lmtest\")\n",
    "lapply(libs, require, character.only = TRUE)\n",
    "pathToLocalGit<-\"~/Workspace/ContinentalWESEestimates/\"\n",
    "\n",
    "## Load the source utility functions file\n",
    "source(file=paste0(pathToLocalGit,\"scripts/fitRegressionModels_functions.R\"))\n",
    "\n",
    "dataproj<-\"+proj=stere +lat_0=-90 +lat_ts=-71 +lon_0=0 +k=1 +x_0=0 +y_0=0 +datum=WGS84 +units=m +no_defs +ellps=WGS84 +towgs84=0,0,0\""
   ]
  },
  {
   "cell_type": "code",
   "execution_count": 35,
   "metadata": {},
   "outputs": [
    {
     "data": {
      "text/html": [
       "<table>\n",
       "<caption>A data.frame: 6 × 27</caption>\n",
       "<thead>\n",
       "\t<tr><th></th><th scope=col>gridCellId</th><th scope=col>meanslope</th><th scope=col>meanbathy</th><th scope=col>glacierdist</th><th scope=col>distToShore</th><th scope=col>cont300dist</th><th scope=col>cont800dist</th><th scope=col>DecemberIcePresence</th><th scope=col>Persistence2Years</th><th scope=col>PredictabilityDec5Years</th><th scope=col>⋯</th><th scope=col>EMPEdist</th><th scope=col>EMPEabund</th><th scope=col>coords.x1</th><th scope=col>coords.x2</th><th scope=col>mdlCol</th><th scope=col>mdlIsl</th><th scope=col>hasMaps</th><th scope=col>Persistence3Years</th><th scope=col>PredictabilityOct5Years</th><th scope=col>fastIceRatio</th></tr>\n",
       "\t<tr><th></th><th scope=col>&lt;int&gt;</th><th scope=col>&lt;dbl&gt;</th><th scope=col>&lt;dbl&gt;</th><th scope=col>&lt;dbl&gt;</th><th scope=col>&lt;dbl&gt;</th><th scope=col>&lt;dbl&gt;</th><th scope=col>&lt;dbl&gt;</th><th scope=col>&lt;dbl&gt;</th><th scope=col>&lt;dbl&gt;</th><th scope=col>&lt;dbl&gt;</th><th scope=col>⋯</th><th scope=col>&lt;dbl&gt;</th><th scope=col>&lt;dbl&gt;</th><th scope=col>&lt;dbl&gt;</th><th scope=col>&lt;dbl&gt;</th><th scope=col>&lt;dbl&gt;</th><th scope=col>&lt;dbl&gt;</th><th scope=col>&lt;dbl&gt;</th><th scope=col>&lt;dbl&gt;</th><th scope=col>&lt;dbl&gt;</th><th scope=col>&lt;dbl&gt;</th></tr>\n",
       "</thead>\n",
       "<tbody>\n",
       "\t<tr><th scope=row>1</th><td>68791</td><td>2.621992</td><td>-2846.908</td><td>247849.6</td><td>201526.4</td><td>142791.6</td><td>588996.1</td><td>0</td><td>0</td><td>0</td><td>⋯</td><td>NA</td><td>NA</td><td>-2191000</td><td>2511000</td><td>0</td><td>0</td><td>0</td><td>0</td><td>0</td><td>0</td></tr>\n",
       "\t<tr><th scope=row>2</th><td>68792</td><td>4.591249</td><td>-2587.330</td><td>250334.0</td><td>203621.5</td><td>142791.6</td><td>588996.1</td><td>0</td><td>0</td><td>0</td><td>⋯</td><td>NA</td><td>NA</td><td>-2186000</td><td>2511000</td><td>0</td><td>0</td><td>0</td><td>0</td><td>0</td><td>0</td></tr>\n",
       "\t<tr><th scope=row>3</th><td>68819</td><td>1.411659</td><td>-3014.080</td><td>241050.2</td><td>194935.5</td><td>138016.9</td><td>584654.8</td><td>0</td><td>0</td><td>0</td><td>⋯</td><td>NA</td><td>NA</td><td>-2196000</td><td>2506000</td><td>0</td><td>0</td><td>0</td><td>0</td><td>0</td><td>0</td></tr>\n",
       "\t<tr><th scope=row>4</th><td>68820</td><td>1.413779</td><td>-2920.630</td><td>243501.3</td><td>196973.9</td><td>138016.9</td><td>584654.8</td><td>0</td><td>0</td><td>0</td><td>⋯</td><td>NA</td><td>NA</td><td>-2191000</td><td>2506000</td><td>0</td><td>0</td><td>0</td><td>0</td><td>0</td><td>0</td></tr>\n",
       "\t<tr><th scope=row>5</th><td>68821</td><td>4.561732</td><td>-2686.220</td><td>246029.6</td><td>199116.9</td><td>138016.9</td><td>584654.8</td><td>0</td><td>0</td><td>0</td><td>⋯</td><td>NA</td><td>NA</td><td>-2186000</td><td>2506000</td><td>0</td><td>0</td><td>0</td><td>0</td><td>0</td><td>0</td></tr>\n",
       "\t<tr><th scope=row>6</th><td>68822</td><td>4.902608</td><td>-2264.930</td><td>248632.8</td><td>201361.3</td><td>138016.9</td><td>584654.8</td><td>0</td><td>0</td><td>0</td><td>⋯</td><td>NA</td><td>NA</td><td>-2181000</td><td>2506000</td><td>0</td><td>0</td><td>0</td><td>0</td><td>0</td><td>0</td></tr>\n",
       "</tbody>\n",
       "</table>\n"
      ],
      "text/latex": [
       "A data.frame: 6 × 27\n",
       "\\begin{tabular}{r|lllllllllllllllllllll}\n",
       "  & gridCellId & meanslope & meanbathy & glacierdist & distToShore & cont300dist & cont800dist & DecemberIcePresence & Persistence2Years & PredictabilityDec5Years & ⋯ & EMPEdist & EMPEabund & coords.x1 & coords.x2 & mdlCol & mdlIsl & hasMaps & Persistence3Years & PredictabilityOct5Years & fastIceRatio\\\\\n",
       "  & <int> & <dbl> & <dbl> & <dbl> & <dbl> & <dbl> & <dbl> & <dbl> & <dbl> & <dbl> & ⋯ & <dbl> & <dbl> & <dbl> & <dbl> & <dbl> & <dbl> & <dbl> & <dbl> & <dbl> & <dbl>\\\\\n",
       "\\hline\n",
       "\t1 & 68791 & 2.621992 & -2846.908 & 247849.6 & 201526.4 & 142791.6 & 588996.1 & 0 & 0 & 0 & ⋯ & NA & NA & -2191000 & 2511000 & 0 & 0 & 0 & 0 & 0 & 0\\\\\n",
       "\t2 & 68792 & 4.591249 & -2587.330 & 250334.0 & 203621.5 & 142791.6 & 588996.1 & 0 & 0 & 0 & ⋯ & NA & NA & -2186000 & 2511000 & 0 & 0 & 0 & 0 & 0 & 0\\\\\n",
       "\t3 & 68819 & 1.411659 & -3014.080 & 241050.2 & 194935.5 & 138016.9 & 584654.8 & 0 & 0 & 0 & ⋯ & NA & NA & -2196000 & 2506000 & 0 & 0 & 0 & 0 & 0 & 0\\\\\n",
       "\t4 & 68820 & 1.413779 & -2920.630 & 243501.3 & 196973.9 & 138016.9 & 584654.8 & 0 & 0 & 0 & ⋯ & NA & NA & -2191000 & 2506000 & 0 & 0 & 0 & 0 & 0 & 0\\\\\n",
       "\t5 & 68821 & 4.561732 & -2686.220 & 246029.6 & 199116.9 & 138016.9 & 584654.8 & 0 & 0 & 0 & ⋯ & NA & NA & -2186000 & 2506000 & 0 & 0 & 0 & 0 & 0 & 0\\\\\n",
       "\t6 & 68822 & 4.902608 & -2264.930 & 248632.8 & 201361.3 & 138016.9 & 584654.8 & 0 & 0 & 0 & ⋯ & NA & NA & -2181000 & 2506000 & 0 & 0 & 0 & 0 & 0 & 0\\\\\n",
       "\\end{tabular}\n"
      ],
      "text/markdown": [
       "\n",
       "A data.frame: 6 × 27\n",
       "\n",
       "| <!--/--> | gridCellId &lt;int&gt; | meanslope &lt;dbl&gt; | meanbathy &lt;dbl&gt; | glacierdist &lt;dbl&gt; | distToShore &lt;dbl&gt; | cont300dist &lt;dbl&gt; | cont800dist &lt;dbl&gt; | DecemberIcePresence &lt;dbl&gt; | Persistence2Years &lt;dbl&gt; | PredictabilityDec5Years &lt;dbl&gt; | ⋯ ⋯ | EMPEdist &lt;dbl&gt; | EMPEabund &lt;dbl&gt; | coords.x1 &lt;dbl&gt; | coords.x2 &lt;dbl&gt; | mdlCol &lt;dbl&gt; | mdlIsl &lt;dbl&gt; | hasMaps &lt;dbl&gt; | Persistence3Years &lt;dbl&gt; | PredictabilityOct5Years &lt;dbl&gt; | fastIceRatio &lt;dbl&gt; |\n",
       "|---|---|---|---|---|---|---|---|---|---|---|---|---|---|---|---|---|---|---|---|---|---|\n",
       "| 1 | 68791 | 2.621992 | -2846.908 | 247849.6 | 201526.4 | 142791.6 | 588996.1 | 0 | 0 | 0 | ⋯ | NA | NA | -2191000 | 2511000 | 0 | 0 | 0 | 0 | 0 | 0 |\n",
       "| 2 | 68792 | 4.591249 | -2587.330 | 250334.0 | 203621.5 | 142791.6 | 588996.1 | 0 | 0 | 0 | ⋯ | NA | NA | -2186000 | 2511000 | 0 | 0 | 0 | 0 | 0 | 0 |\n",
       "| 3 | 68819 | 1.411659 | -3014.080 | 241050.2 | 194935.5 | 138016.9 | 584654.8 | 0 | 0 | 0 | ⋯ | NA | NA | -2196000 | 2506000 | 0 | 0 | 0 | 0 | 0 | 0 |\n",
       "| 4 | 68820 | 1.413779 | -2920.630 | 243501.3 | 196973.9 | 138016.9 | 584654.8 | 0 | 0 | 0 | ⋯ | NA | NA | -2191000 | 2506000 | 0 | 0 | 0 | 0 | 0 | 0 |\n",
       "| 5 | 68821 | 4.561732 | -2686.220 | 246029.6 | 199116.9 | 138016.9 | 584654.8 | 0 | 0 | 0 | ⋯ | NA | NA | -2186000 | 2506000 | 0 | 0 | 0 | 0 | 0 | 0 |\n",
       "| 6 | 68822 | 4.902608 | -2264.930 | 248632.8 | 201361.3 | 138016.9 | 584654.8 | 0 | 0 | 0 | ⋯ | NA | NA | -2181000 | 2506000 | 0 | 0 | 0 | 0 | 0 | 0 |\n",
       "\n"
      ],
      "text/plain": [
       "  gridCellId meanslope meanbathy glacierdist distToShore cont300dist\n",
       "1 68791      2.621992  -2846.908 247849.6    201526.4    142791.6   \n",
       "2 68792      4.591249  -2587.330 250334.0    203621.5    142791.6   \n",
       "3 68819      1.411659  -3014.080 241050.2    194935.5    138016.9   \n",
       "4 68820      1.413779  -2920.630 243501.3    196973.9    138016.9   \n",
       "5 68821      4.561732  -2686.220 246029.6    199116.9    138016.9   \n",
       "6 68822      4.902608  -2264.930 248632.8    201361.3    138016.9   \n",
       "  cont800dist DecemberIcePresence Persistence2Years PredictabilityDec5Years ⋯\n",
       "1 588996.1    0                   0                 0                       ⋯\n",
       "2 588996.1    0                   0                 0                       ⋯\n",
       "3 584654.8    0                   0                 0                       ⋯\n",
       "4 584654.8    0                   0                 0                       ⋯\n",
       "5 584654.8    0                   0                 0                       ⋯\n",
       "6 584654.8    0                   0                 0                       ⋯\n",
       "  EMPEdist EMPEabund coords.x1 coords.x2 mdlCol mdlIsl hasMaps\n",
       "1 NA       NA        -2191000  2511000   0      0      0      \n",
       "2 NA       NA        -2186000  2511000   0      0      0      \n",
       "3 NA       NA        -2196000  2506000   0      0      0      \n",
       "4 NA       NA        -2191000  2506000   0      0      0      \n",
       "5 NA       NA        -2186000  2506000   0      0      0      \n",
       "6 NA       NA        -2181000  2506000   0      0      0      \n",
       "  Persistence3Years PredictabilityOct5Years fastIceRatio\n",
       "1 0                 0                       0           \n",
       "2 0                 0                       0           \n",
       "3 0                 0                       0           \n",
       "4 0                 0                       0           \n",
       "5 0                 0                       0           \n",
       "6 0                 0                       0           "
      ]
     },
     "metadata": {},
     "output_type": "display_data"
    }
   ],
   "source": [
    "## load the WESE grid data\n",
    "load(file=paste0(pathToLocalGit,\"data/continentalWESE.RData\"))\n",
    "wesedf$fastIceRatio<-ifelse(is.na(wesedf$fastIceWidth),0,\n",
    "                            ifelse(wesedf$fastIceWidth==0,0,wesedf$distNearestIceEdge/wesedf$fastIceWidth))\n",
    "head(wesedf)\n",
    "wesedf$ADPEname<-as.character(wesedf$ADPEname)\n",
    "wesedf$EMPEname<-as.character(wesedf$EMPEname)\n",
    "#removing the original abundances to use only the 2011, MLR approved values\n",
    "wesedf<-wesedf[,which(!names(wesedf) %in% c(\"ADPEabund\",\"EMPEabund\"))]\n"
   ]
  },
  {
   "cell_type": "code",
   "execution_count": 36,
   "metadata": {},
   "outputs": [
    {
     "data": {
      "text/html": [
       "<table>\n",
       "<caption>A data.frame: 6 × 7</caption>\n",
       "<thead>\n",
       "\t<tr><th></th><th scope=col>pointid</th><th scope=col>ADPEname</th><th scope=col>ADPEdist</th><th scope=col>ADPEabund</th><th scope=col>EMPEname</th><th scope=col>EMPEdist</th><th scope=col>EMPEabund</th></tr>\n",
       "\t<tr><th></th><th scope=col>&lt;int&gt;</th><th scope=col>&lt;chr&gt;</th><th scope=col>&lt;dbl&gt;</th><th scope=col>&lt;dbl&gt;</th><th scope=col>&lt;chr&gt;</th><th scope=col>&lt;dbl&gt;</th><th scope=col>&lt;dbl&gt;</th></tr>\n",
       "</thead>\n",
       "<tbody>\n",
       "\t<tr><th scope=row>1</th><td>121905</td><td>Thule Island</td><td>1597981</td><td>0</td><td>Atka </td><td>110055.3</td><td>1623.017</td></tr>\n",
       "\t<tr><th scope=row>2</th><td>121906</td><td>Thule Island</td><td>1602203</td><td>0</td><td>Atka </td><td>114386.0</td><td>1541.087</td></tr>\n",
       "\t<tr><th scope=row>3</th><td>121907</td><td>Thule Island</td><td>1606429</td><td>0</td><td>Atka </td><td>118769.4</td><td>1802.988</td></tr>\n",
       "\t<tr><th scope=row>4</th><td>121908</td><td>Thule Island</td><td>1610660</td><td>0</td><td>Atka </td><td>123199.7</td><td>1749.174</td></tr>\n",
       "\t<tr><th scope=row>5</th><td>121909</td><td>Thule Island</td><td>1614895</td><td>0</td><td>Atka </td><td>127672.1</td><td>1698.200</td></tr>\n",
       "\t<tr><th scope=row>6</th><td>121910</td><td>Kujira Point</td><td>1618768</td><td>0</td><td>Sanae</td><td>130802.4</td><td>1650.068</td></tr>\n",
       "</tbody>\n",
       "</table>\n"
      ],
      "text/latex": [
       "A data.frame: 6 × 7\n",
       "\\begin{tabular}{r|lllllll}\n",
       "  & pointid & ADPEname & ADPEdist & ADPEabund & EMPEname & EMPEdist & EMPEabund\\\\\n",
       "  & <int> & <chr> & <dbl> & <dbl> & <chr> & <dbl> & <dbl>\\\\\n",
       "\\hline\n",
       "\t1 & 121905 & Thule Island & 1597981 & 0 & Atka  & 110055.3 & 1623.017\\\\\n",
       "\t2 & 121906 & Thule Island & 1602203 & 0 & Atka  & 114386.0 & 1541.087\\\\\n",
       "\t3 & 121907 & Thule Island & 1606429 & 0 & Atka  & 118769.4 & 1802.988\\\\\n",
       "\t4 & 121908 & Thule Island & 1610660 & 0 & Atka  & 123199.7 & 1749.174\\\\\n",
       "\t5 & 121909 & Thule Island & 1614895 & 0 & Atka  & 127672.1 & 1698.200\\\\\n",
       "\t6 & 121910 & Kujira Point & 1618768 & 0 & Sanae & 130802.4 & 1650.068\\\\\n",
       "\\end{tabular}\n"
      ],
      "text/markdown": [
       "\n",
       "A data.frame: 6 × 7\n",
       "\n",
       "| <!--/--> | pointid &lt;int&gt; | ADPEname &lt;chr&gt; | ADPEdist &lt;dbl&gt; | ADPEabund &lt;dbl&gt; | EMPEname &lt;chr&gt; | EMPEdist &lt;dbl&gt; | EMPEabund &lt;dbl&gt; |\n",
       "|---|---|---|---|---|---|---|---|\n",
       "| 1 | 121905 | Thule Island | 1597981 | 0 | Atka  | 110055.3 | 1623.017 |\n",
       "| 2 | 121906 | Thule Island | 1602203 | 0 | Atka  | 114386.0 | 1541.087 |\n",
       "| 3 | 121907 | Thule Island | 1606429 | 0 | Atka  | 118769.4 | 1802.988 |\n",
       "| 4 | 121908 | Thule Island | 1610660 | 0 | Atka  | 123199.7 | 1749.174 |\n",
       "| 5 | 121909 | Thule Island | 1614895 | 0 | Atka  | 127672.1 | 1698.200 |\n",
       "| 6 | 121910 | Kujira Point | 1618768 | 0 | Sanae | 130802.4 | 1650.068 |\n",
       "\n"
      ],
      "text/plain": [
       "  pointid ADPEname     ADPEdist ADPEabund EMPEname EMPEdist EMPEabund\n",
       "1 121905  Thule Island 1597981  0         Atka     110055.3 1623.017 \n",
       "2 121906  Thule Island 1602203  0         Atka     114386.0 1541.087 \n",
       "3 121907  Thule Island 1606429  0         Atka     118769.4 1802.988 \n",
       "4 121908  Thule Island 1610660  0         Atka     123199.7 1749.174 \n",
       "5 121909  Thule Island 1614895  0         Atka     127672.1 1698.200 \n",
       "6 121910  Kujira Point 1618768  0         Sanae    130802.4 1650.068 "
      ]
     },
     "metadata": {},
     "output_type": "display_data"
    }
   ],
   "source": [
    "## Read the ADPE and EMPE colony size data from Michelle\n",
    "adpedat<-read.csv(file=paste0(pathToLocalGit,\"data/ADPE_colonies_20200416.csv\"),stringsAsFactors=FALSE)\n",
    "empedat<-read.csv(file=paste0(pathToLocalGit,\"data/EMPE_colonies_20200327.csv\"),stringsAsFactors=FALSE)\n",
    "\n",
    "wesesp<-wesedf\n",
    "names(wesesp)<-gsub(\"gridCellId\",\"pointid\",names(wesesp))\n",
    "coordinates(wesesp)<-c(\"coords.x1\",\"coords.x2\")\n",
    "proj4string(wesesp)<-CRS(dataproj)\n",
    "## We want to rescale them by the decay function as discussed with Nadav and david\n",
    "source(\"/home/ubuntu/fastIce/FastIceCovars/scripts/fastIceCovars_utils.R\")\n",
    "penguindf<-getDistanceToPenguins2011(studyarea_pointswLand=wesesp,adpedf=adpedat,empedf=empedat)\n",
    "head(penguindf)"
   ]
  },
  {
   "cell_type": "code",
   "execution_count": 37,
   "metadata": {},
   "outputs": [],
   "source": [
    "## Merge these penguin abundance data back to wesedf\n",
    "names(penguindf)<-gsub(\"pointid\",\"gridCellId\",names(penguindf))\n",
    "wesedf<-merge(wesedf,penguindf[,c(\"gridCellId\",\"ADPEabund\",\"EMPEabund\")],by=\"gridCellId\",all.x=TRUE)\n",
    "wesedf$ADPEabund<-ifelse(is.na(wesedf$ADPEabund),0,wesedf$ADPEabund)\n",
    "wesedf$EMPEabund<-ifelse(is.na(wesedf$EMPEabund),0,wesedf$EMPEabund)"
   ]
  },
  {
   "cell_type": "code",
   "execution_count": 38,
   "metadata": {},
   "outputs": [
    {
     "data": {
      "text/html": [
       "1684"
      ],
      "text/latex": [
       "1684"
      ],
      "text/markdown": [
       "1684"
      ],
      "text/plain": [
       "[1] 1684"
      ]
     },
     "metadata": {},
     "output_type": "display_data"
    },
    {
     "data": {
      "text/html": [
       "37"
      ],
      "text/latex": [
       "37"
      ],
      "text/markdown": [
       "37"
      ],
      "text/plain": [
       "[1] 37"
      ]
     },
     "metadata": {},
     "output_type": "display_data"
    },
    {
     "data": {
      "text/html": [
       "37"
      ],
      "text/latex": [
       "37"
      ],
      "text/markdown": [
       "37"
      ],
      "text/plain": [
       "[1] 37"
      ]
     },
     "metadata": {},
     "output_type": "display_data"
    },
    {
     "data": {
      "text/html": [
       "202245"
      ],
      "text/latex": [
       "202245"
      ],
      "text/markdown": [
       "202245"
      ],
      "text/plain": [
       "[1] 202245"
      ]
     },
     "metadata": {},
     "output_type": "display_data"
    },
    {
     "data": {
      "text/html": [
       "199405"
      ],
      "text/latex": [
       "199405"
      ],
      "text/markdown": [
       "199405"
      ],
      "text/plain": [
       "[1] 199405"
      ]
     },
     "metadata": {},
     "output_type": "display_data"
    },
    {
     "data": {
      "text/html": [
       "227507"
      ],
      "text/latex": [
       "227507"
      ],
      "text/markdown": [
       "227507"
      ],
      "text/plain": [
       "[1] 227507"
      ]
     },
     "metadata": {},
     "output_type": "display_data"
    },
    {
     "data": {
      "text/html": [
       "227470"
      ],
      "text/latex": [
       "227470"
      ],
      "text/markdown": [
       "227470"
      ],
      "text/plain": [
       "[1] 227470"
      ]
     },
     "metadata": {},
     "output_type": "display_data"
    }
   ],
   "source": [
    "## Some of the locatons with WESE have no penguin data\n",
    "sum(wesedf$mdlCol>0)\n",
    "sum(wesedf$mdlCol>0 & is.na(wesedf$ADPEname))\n",
    "sum(wesedf$mdlCol>0 & is.na(wesedf$EMPEname))\n",
    "## These also have no fastIce, so we filter them out\n",
    "sum(wesedf$mdlCol)\n",
    "sum(subset(wesedf,mdlCol>0 & fastIcePresent==TRUE)$mdlCol)\n",
    "nrow(wesedf)\n",
    "wesedf<-subset(wesedf,(mdlCol==0) | (mdlCol>0 & fastIcePresent==TRUE))\n",
    "nrow(wesedf)"
   ]
  },
  {
   "cell_type": "code",
   "execution_count": 41,
   "metadata": {},
   "outputs": [
    {
     "data": {
      "text/html": [
       "0"
      ],
      "text/latex": [
       "0"
      ],
      "text/markdown": [
       "0"
      ],
      "text/plain": [
       "[1] 0"
      ]
     },
     "metadata": {},
     "output_type": "display_data"
    },
    {
     "data": {
      "text/html": [
       "1"
      ],
      "text/latex": [
       "1"
      ],
      "text/markdown": [
       "1"
      ],
      "text/plain": [
       "[1] 1"
      ]
     },
     "metadata": {},
     "output_type": "display_data"
    }
   ],
   "source": [
    "# So, we lose 2,840 seals from locations with no fast ice on Nov 14, 2011.\n",
    "# Too many cells with WESE have no bathymetry or slope data. \n",
    "# We use the mean bathymetry of cells with WESE for those those cells without bathymetry and with WESE\n",
    "# We use the mean bathymetry of cells without WESE for those those cells without bathymetry and without WESE\n",
    "sum(is.na(wesedf$meanbathy))\n",
    "meanWbathy<-mean(subset(wesedf,mdlCol>0)$meanbathy,na.rm=T); meanNWbathy<-mean(subset(wesedf,mdlCol==0)$meanbathy,na.rm=T)\n",
    "wesedf$meanbathy<-ifelse(!is.na(wesedf$meanbathy),wesedf$meanbathy,\n",
    "                         ifelse(is.na(wesedf$meanbathy) & wesedf$mdlCol>0,meanWbathy,meanNWbathy))\n",
    "sum(wesedf$meanbathy==meanWbathy) + sum(wesedf$meanbathy==meanNWbathy)"
   ]
  },
  {
   "cell_type": "code",
   "execution_count": 25,
   "metadata": {},
   "outputs": [
    {
     "data": {
      "text/html": [
       "4360"
      ],
      "text/latex": [
       "4360"
      ],
      "text/markdown": [
       "4360"
      ],
      "text/plain": [
       "[1] 4360"
      ]
     },
     "metadata": {},
     "output_type": "display_data"
    },
    {
     "data": {
      "text/html": [
       "4360"
      ],
      "text/latex": [
       "4360"
      ],
      "text/markdown": [
       "4360"
      ],
      "text/plain": [
       "[1] 4360"
      ]
     },
     "metadata": {},
     "output_type": "display_data"
    }
   ],
   "source": [
    "# We do the same mutatis mutandi for cells without slope\n",
    "sum(is.na(wesedf$meanslope))\n",
    "meanWslope<-mean(subset(wesedf,mdlCol>0)$meanslope,na.rm=T); meanNWslope<-mean(subset(wesedf,mdlCol==0)$meanslope,na.rm=T)\n",
    "wesedf$meanslope<-ifelse(!is.na(wesedf$meanslope),wesedf$meanslope,\n",
    "                         ifelse(is.na(wesedf$meanslope) & wesedf$mdlCol>0,meanWslope,meanNWslope))\n",
    "sum(wesedf$meanslope==meanWslope) + sum(wesedf$meanslope==meanNWslope)"
   ]
  },
  {
   "cell_type": "code",
   "execution_count": 26,
   "metadata": {},
   "outputs": [],
   "source": [
    "# There are 12 numeric variables in the data to be use for modeling, but 3 of these should be converted to factors\n",
    "# One is DecemberIcePresence - since it is binary (0/1) there is no need to convert to a factor\n",
    "wesedf$Persistence2Years<-as.numeric(as.character(wesedf$Persistence2Years))\n",
    "wesedf$PredictabilityDec5Years<-as.numeric(as.character(wesedf$PredictabilityDec5Years))\n",
    "wesedf$Persistence3Years<-as.numeric(as.character(wesedf$Persistence3Years))\n",
    "wesedf$PredictabilityOct5Years<-as.numeric(as.character(wesedf$PredictabilityOct5Years))\n",
    "\n",
    "# All other numeric variables need to be rescaled (except the ratio distEdge/width)\n",
    "# Rescaling is so that values are bound between 0 and 14\n",
    "wesedf$scaledmeanslope<-wesedf$meanslope/2\n",
    "wesedf$logmeanbathy<--1*log(-1*wesedf$meanbathy) \n",
    "wesedf$logglacierdist<-log(wesedf$glacierdist+1) \n",
    "wesedf$logdistToShore<-log(wesedf$distToShore+1) \n",
    "wesedf$logcont300dist<-log(wesedf$cont300dist+1) \n",
    "wesedf$logcont800dist<-log(wesedf$cont800dist+1) \n",
    "wesedf$logdistNearestIceEdge<-log(wesedf$distNearestIceEdge+1)\n",
    "wesedf$logfastIceWidth<-log(wesedf$fastIceWidth)\n",
    "wesedf$logempedist<-log(wesedf$EMPEdist+1) \n",
    "wesedf$logadpedist<-log(wesedf$ADPEdist+1) \n",
    "wesedf$logADPEabund<-log(wesedf$ADPEabund+1)\n",
    "wesedf$logEMPEabund<-log(wesedf$EMPEabund+1)\n"
   ]
  },
  {
   "cell_type": "code",
   "execution_count": 27,
   "metadata": {},
   "outputs": [],
   "source": [
    "#Save copy of wesedf for EMPE work\n",
    "save(wesedf, file=\"~/Workspace/ContinentalWESEestimates/data/wesedf_grid.RData\")"
   ]
  },
  {
   "cell_type": "markdown",
   "metadata": {},
   "source": [
    "## Regresion analysis preliminaries"
   ]
  },
  {
   "cell_type": "markdown",
   "metadata": {},
   "source": [
    "The above tble (wesedf) is ready for fitting regression models, but first we will need the following:\n",
    "1. Be able to extend the attribution of the table with geospatial hypotheses (e.g., David's WESE zones vs. Michelle's WESE zones)\n",
    "2. Generate N samples of \"no-seal\" locations of identical size as the number of grid cells with WESE presence\n",
    "3. Be able to compute a linear model with the set of N bootstrap samples, and have it summarized for us\n",
    "  \n",
    "### On the above needs\n",
    "__Regarding #1__ it is done with the functions \"readShapeFile\" and \"attributeWithShape\". The first function reads the shape file into a spatial object and the second one uses information on the spatial object (e.g., David's WESE zones) into the data.  \n",
    "Here's an example to load a point shapefile, from an example copied into the repository's data folder:"
   ]
  },
  {
   "cell_type": "code",
   "execution_count": 28,
   "metadata": {},
   "outputs": [
    {
     "name": "stdout",
     "output_type": "stream",
     "text": [
      "OGR data source with driver: ESRI Shapefile \n",
      "Source: \"/home/ubuntu/Workspace/ContinentalWESEestimates/data/Antarctic Regions_shapefile_20200528\", layer: \"Antarctic_Regions_WESE_v2\"\n",
      "with 4 features\n",
      "It has 3 fields\n"
     ]
    },
    {
     "data": {
      "image/png": "[encoded data removed]",
      "text/plain": [
       "plot without title"
      ]
     },
     "metadata": {
      "image/png": {
       "height": 420,
       "width": 420
      },
      "text/plain": {
       "height": 420,
       "width": 420
      }
     },
     "output_type": "display_data"
    }
   ],
   "source": [
    "arWESE<-readShapeFile(pathToGit=pathToLocalGit,folderName=\"Antarctic Regions_shapefile_20200528\",shapeName=\"Antarctic_Regions_WESE_v2\")\n",
    "proj4string(arWESE)<-CRS(dataproj)\n",
    "#folderName is the folder name in the workspace, and shapeName is the name of the .shp file\n",
    "wesespdf<-wesedf[,c(\"coords.x1\",\"coords.x2\")]\n",
    "coordinates(wesespdf)<-c(\"coords.x1\",\"coords.x2\")\n",
    "proj4string(wesespdf)<-CRS(dataproj)\n",
    "plot(wesespdf,col=\"red\")\n",
    "plot(arWESE, add=T)\n"
   ]
  },
  {
   "cell_type": "markdown",
   "metadata": {},
   "source": [
    "We could (but we don't because this is a point shapefile, not a polygon shapefile) use the spatial object \"icebergs\" ploted above to attribute wesedf with some information in it. We can see the contents of \"icebergs\" with a head:"
   ]
  },
  {
   "cell_type": "code",
   "execution_count": 29,
   "metadata": {},
   "outputs": [
    {
     "data": {
      "text/html": [
       "<table>\n",
       "<caption>A data.frame: 4 × 3</caption>\n",
       "<thead>\n",
       "\t<tr><th></th><th scope=col>Id</th><th scope=col>Region</th><th scope=col>RegionNum</th></tr>\n",
       "\t<tr><th></th><th scope=col>&lt;int&gt;</th><th scope=col>&lt;fct&gt;</th><th scope=col>&lt;int&gt;</th></tr>\n",
       "</thead>\n",
       "<tbody>\n",
       "\t<tr><th scope=row>0</th><td>0</td><td>Ross Sea                   </td><td>1</td></tr>\n",
       "\t<tr><th scope=row>1</th><td>0</td><td>Amundsen-Bellingshausen-WAP</td><td>2</td></tr>\n",
       "\t<tr><th scope=row>2</th><td>0</td><td>Weddell Sea                </td><td>3</td></tr>\n",
       "\t<tr><th scope=row>3</th><td>0</td><td>East Antarctica            </td><td>4</td></tr>\n",
       "</tbody>\n",
       "</table>\n"
      ],
      "text/latex": [
       "A data.frame: 4 × 3\n",
       "\\begin{tabular}{r|lll}\n",
       "  & Id & Region & RegionNum\\\\\n",
       "  & <int> & <fct> & <int>\\\\\n",
       "\\hline\n",
       "\t0 & 0 & Ross Sea                    & 1\\\\\n",
       "\t1 & 0 & Amundsen-Bellingshausen-WAP & 2\\\\\n",
       "\t2 & 0 & Weddell Sea                 & 3\\\\\n",
       "\t3 & 0 & East Antarctica             & 4\\\\\n",
       "\\end{tabular}\n"
      ],
      "text/markdown": [
       "\n",
       "A data.frame: 4 × 3\n",
       "\n",
       "| <!--/--> | Id &lt;int&gt; | Region &lt;fct&gt; | RegionNum &lt;int&gt; |\n",
       "|---|---|---|---|\n",
       "| 0 | 0 | Ross Sea                    | 1 |\n",
       "| 1 | 0 | Amundsen-Bellingshausen-WAP | 2 |\n",
       "| 2 | 0 | Weddell Sea                 | 3 |\n",
       "| 3 | 0 | East Antarctica             | 4 |\n",
       "\n"
      ],
      "text/plain": [
       "  Id Region                      RegionNum\n",
       "0 0  Ross Sea                    1        \n",
       "1 0  Amundsen-Bellingshausen-WAP 2        \n",
       "2 0  Weddell Sea                 3        \n",
       "3 0  East Antarctica             4        "
      ]
     },
     "metadata": {},
     "output_type": "display_data"
    }
   ],
   "source": [
    "head(arWESE)"
   ]
  },
  {
   "cell_type": "markdown",
   "metadata": {},
   "source": [
    "We should remove all areas without region attribution"
   ]
  },
  {
   "cell_type": "markdown",
   "metadata": {},
   "source": [
    "So, we could attribute the wesedf table with the parameter \"place_name\", like so:"
   ]
  },
  {
   "cell_type": "code",
   "execution_count": 30,
   "metadata": {},
   "outputs": [],
   "source": [
    "wesedf2<-attributeWithShape(shpobj=arWESE,attribName=\"Region\",data=wesedf,datKey=\"gridCellId\",\n",
    "                              lonfld=\"coords.x1\",latfld=\"coords.x2\",dataproj=dataproj)"
   ]
  },
  {
   "cell_type": "markdown",
   "metadata": {},
   "source": [
    "The example shapefileAntarcticRegions did not go far north enough to cover the entire fast ice region. We need to check and see if some of those grid cells missing region attribution had seals."
   ]
  },
  {
   "cell_type": "code",
   "execution_count": 31,
   "metadata": {},
   "outputs": [
    {
     "data": {
      "text/html": [
       "<table>\n",
       "<caption>A data.frame: 6 × 40</caption>\n",
       "<thead>\n",
       "\t<tr><th></th><th scope=col>gridCellId</th><th scope=col>meanslope</th><th scope=col>meanbathy</th><th scope=col>glacierdist</th><th scope=col>distToShore</th><th scope=col>cont300dist</th><th scope=col>cont800dist</th><th scope=col>DecemberIcePresence</th><th scope=col>Persistence2Years</th><th scope=col>PredictabilityDec5Years</th><th scope=col>⋯</th><th scope=col>logdistToShore</th><th scope=col>logcont300dist</th><th scope=col>logcont800dist</th><th scope=col>logdistNearestIceEdge</th><th scope=col>logfastIceWidth</th><th scope=col>logempedist</th><th scope=col>logadpedist</th><th scope=col>logADPEabund</th><th scope=col>logEMPEabund</th><th scope=col>Region</th></tr>\n",
       "\t<tr><th></th><th scope=col>&lt;int&gt;</th><th scope=col>&lt;dbl&gt;</th><th scope=col>&lt;dbl&gt;</th><th scope=col>&lt;dbl&gt;</th><th scope=col>&lt;dbl&gt;</th><th scope=col>&lt;dbl&gt;</th><th scope=col>&lt;dbl&gt;</th><th scope=col>&lt;dbl&gt;</th><th scope=col>&lt;dbl&gt;</th><th scope=col>&lt;dbl&gt;</th><th scope=col>⋯</th><th scope=col>&lt;dbl&gt;</th><th scope=col>&lt;dbl&gt;</th><th scope=col>&lt;dbl&gt;</th><th scope=col>&lt;dbl&gt;</th><th scope=col>&lt;dbl&gt;</th><th scope=col>&lt;dbl&gt;</th><th scope=col>&lt;dbl&gt;</th><th scope=col>&lt;dbl&gt;</th><th scope=col>&lt;dbl&gt;</th><th scope=col>&lt;fct&gt;</th></tr>\n",
       "</thead>\n",
       "<tbody>\n",
       "\t<tr><th scope=row>1</th><td>68791</td><td>2.621992</td><td>-2846.908</td><td>247849.6</td><td>201526.4</td><td>142791.6</td><td>588996.1</td><td>0</td><td>0</td><td>0</td><td>⋯</td><td>12.21368</td><td>11.86915</td><td>13.28618</td><td>NA</td><td>NA</td><td>NA</td><td>NA</td><td>0</td><td>0</td><td>NA</td></tr>\n",
       "\t<tr><th scope=row>2</th><td>68792</td><td>4.591249</td><td>-2587.330</td><td>250334.0</td><td>203621.5</td><td>142791.6</td><td>588996.1</td><td>0</td><td>0</td><td>0</td><td>⋯</td><td>12.22402</td><td>11.86915</td><td>13.28618</td><td>NA</td><td>NA</td><td>NA</td><td>NA</td><td>0</td><td>0</td><td>NA</td></tr>\n",
       "\t<tr><th scope=row>3</th><td>68819</td><td>1.411659</td><td>-3014.080</td><td>241050.2</td><td>194935.5</td><td>138016.9</td><td>584654.8</td><td>0</td><td>0</td><td>0</td><td>⋯</td><td>12.18043</td><td>11.83514</td><td>13.27878</td><td>NA</td><td>NA</td><td>NA</td><td>NA</td><td>0</td><td>0</td><td>NA</td></tr>\n",
       "\t<tr><th scope=row>4</th><td>68820</td><td>1.413779</td><td>-2920.630</td><td>243501.3</td><td>196973.9</td><td>138016.9</td><td>584654.8</td><td>0</td><td>0</td><td>0</td><td>⋯</td><td>12.19083</td><td>11.83514</td><td>13.27878</td><td>NA</td><td>NA</td><td>NA</td><td>NA</td><td>0</td><td>0</td><td>NA</td></tr>\n",
       "\t<tr><th scope=row>5</th><td>68821</td><td>4.561732</td><td>-2686.220</td><td>246029.6</td><td>199116.9</td><td>138016.9</td><td>584654.8</td><td>0</td><td>0</td><td>0</td><td>⋯</td><td>12.20165</td><td>11.83514</td><td>13.27878</td><td>NA</td><td>NA</td><td>NA</td><td>NA</td><td>0</td><td>0</td><td>NA</td></tr>\n",
       "\t<tr><th scope=row>6</th><td>68822</td><td>4.902608</td><td>-2264.930</td><td>248632.8</td><td>201361.3</td><td>138016.9</td><td>584654.8</td><td>0</td><td>0</td><td>0</td><td>⋯</td><td>12.21286</td><td>11.83514</td><td>13.27878</td><td>NA</td><td>NA</td><td>NA</td><td>NA</td><td>0</td><td>0</td><td>NA</td></tr>\n",
       "</tbody>\n",
       "</table>\n"
      ],
      "text/latex": [
       "A data.frame: 6 × 40\n",
       "\\begin{tabular}{r|lllllllllllllllllllll}\n",
       "  & gridCellId & meanslope & meanbathy & glacierdist & distToShore & cont300dist & cont800dist & DecemberIcePresence & Persistence2Years & PredictabilityDec5Years & ⋯ & logdistToShore & logcont300dist & logcont800dist & logdistNearestIceEdge & logfastIceWidth & logempedist & logadpedist & logADPEabund & logEMPEabund & Region\\\\\n",
       "  & <int> & <dbl> & <dbl> & <dbl> & <dbl> & <dbl> & <dbl> & <dbl> & <dbl> & <dbl> & ⋯ & <dbl> & <dbl> & <dbl> & <dbl> & <dbl> & <dbl> & <dbl> & <dbl> & <dbl> & <fct>\\\\\n",
       "\\hline\n",
       "\t1 & 68791 & 2.621992 & -2846.908 & 247849.6 & 201526.4 & 142791.6 & 588996.1 & 0 & 0 & 0 & ⋯ & 12.21368 & 11.86915 & 13.28618 & NA & NA & NA & NA & 0 & 0 & NA\\\\\n",
       "\t2 & 68792 & 4.591249 & -2587.330 & 250334.0 & 203621.5 & 142791.6 & 588996.1 & 0 & 0 & 0 & ⋯ & 12.22402 & 11.86915 & 13.28618 & NA & NA & NA & NA & 0 & 0 & NA\\\\\n",
       "\t3 & 68819 & 1.411659 & -3014.080 & 241050.2 & 194935.5 & 138016.9 & 584654.8 & 0 & 0 & 0 & ⋯ & 12.18043 & 11.83514 & 13.27878 & NA & NA & NA & NA & 0 & 0 & NA\\\\\n",
       "\t4 & 68820 & 1.413779 & -2920.630 & 243501.3 & 196973.9 & 138016.9 & 584654.8 & 0 & 0 & 0 & ⋯ & 12.19083 & 11.83514 & 13.27878 & NA & NA & NA & NA & 0 & 0 & NA\\\\\n",
       "\t5 & 68821 & 4.561732 & -2686.220 & 246029.6 & 199116.9 & 138016.9 & 584654.8 & 0 & 0 & 0 & ⋯ & 12.20165 & 11.83514 & 13.27878 & NA & NA & NA & NA & 0 & 0 & NA\\\\\n",
       "\t6 & 68822 & 4.902608 & -2264.930 & 248632.8 & 201361.3 & 138016.9 & 584654.8 & 0 & 0 & 0 & ⋯ & 12.21286 & 11.83514 & 13.27878 & NA & NA & NA & NA & 0 & 0 & NA\\\\\n",
       "\\end{tabular}\n"
      ],
      "text/markdown": [
       "\n",
       "A data.frame: 6 × 40\n",
       "\n",
       "| <!--/--> | gridCellId &lt;int&gt; | meanslope &lt;dbl&gt; | meanbathy &lt;dbl&gt; | glacierdist &lt;dbl&gt; | distToShore &lt;dbl&gt; | cont300dist &lt;dbl&gt; | cont800dist &lt;dbl&gt; | DecemberIcePresence &lt;dbl&gt; | Persistence2Years &lt;dbl&gt; | PredictabilityDec5Years &lt;dbl&gt; | ⋯ ⋯ | logdistToShore &lt;dbl&gt; | logcont300dist &lt;dbl&gt; | logcont800dist &lt;dbl&gt; | logdistNearestIceEdge &lt;dbl&gt; | logfastIceWidth &lt;dbl&gt; | logempedist &lt;dbl&gt; | logadpedist &lt;dbl&gt; | logADPEabund &lt;dbl&gt; | logEMPEabund &lt;dbl&gt; | Region &lt;fct&gt; |\n",
       "|---|---|---|---|---|---|---|---|---|---|---|---|---|---|---|---|---|---|---|---|---|---|\n",
       "| 1 | 68791 | 2.621992 | -2846.908 | 247849.6 | 201526.4 | 142791.6 | 588996.1 | 0 | 0 | 0 | ⋯ | 12.21368 | 11.86915 | 13.28618 | NA | NA | NA | NA | 0 | 0 | NA |\n",
       "| 2 | 68792 | 4.591249 | -2587.330 | 250334.0 | 203621.5 | 142791.6 | 588996.1 | 0 | 0 | 0 | ⋯ | 12.22402 | 11.86915 | 13.28618 | NA | NA | NA | NA | 0 | 0 | NA |\n",
       "| 3 | 68819 | 1.411659 | -3014.080 | 241050.2 | 194935.5 | 138016.9 | 584654.8 | 0 | 0 | 0 | ⋯ | 12.18043 | 11.83514 | 13.27878 | NA | NA | NA | NA | 0 | 0 | NA |\n",
       "| 4 | 68820 | 1.413779 | -2920.630 | 243501.3 | 196973.9 | 138016.9 | 584654.8 | 0 | 0 | 0 | ⋯ | 12.19083 | 11.83514 | 13.27878 | NA | NA | NA | NA | 0 | 0 | NA |\n",
       "| 5 | 68821 | 4.561732 | -2686.220 | 246029.6 | 199116.9 | 138016.9 | 584654.8 | 0 | 0 | 0 | ⋯ | 12.20165 | 11.83514 | 13.27878 | NA | NA | NA | NA | 0 | 0 | NA |\n",
       "| 6 | 68822 | 4.902608 | -2264.930 | 248632.8 | 201361.3 | 138016.9 | 584654.8 | 0 | 0 | 0 | ⋯ | 12.21286 | 11.83514 | 13.27878 | NA | NA | NA | NA | 0 | 0 | NA |\n",
       "\n"
      ],
      "text/plain": [
       "  gridCellId meanslope meanbathy glacierdist distToShore cont300dist\n",
       "1 68791      2.621992  -2846.908 247849.6    201526.4    142791.6   \n",
       "2 68792      4.591249  -2587.330 250334.0    203621.5    142791.6   \n",
       "3 68819      1.411659  -3014.080 241050.2    194935.5    138016.9   \n",
       "4 68820      1.413779  -2920.630 243501.3    196973.9    138016.9   \n",
       "5 68821      4.561732  -2686.220 246029.6    199116.9    138016.9   \n",
       "6 68822      4.902608  -2264.930 248632.8    201361.3    138016.9   \n",
       "  cont800dist DecemberIcePresence Persistence2Years PredictabilityDec5Years ⋯\n",
       "1 588996.1    0                   0                 0                       ⋯\n",
       "2 588996.1    0                   0                 0                       ⋯\n",
       "3 584654.8    0                   0                 0                       ⋯\n",
       "4 584654.8    0                   0                 0                       ⋯\n",
       "5 584654.8    0                   0                 0                       ⋯\n",
       "6 584654.8    0                   0                 0                       ⋯\n",
       "  logdistToShore logcont300dist logcont800dist logdistNearestIceEdge\n",
       "1 12.21368       11.86915       13.28618       NA                   \n",
       "2 12.22402       11.86915       13.28618       NA                   \n",
       "3 12.18043       11.83514       13.27878       NA                   \n",
       "4 12.19083       11.83514       13.27878       NA                   \n",
       "5 12.20165       11.83514       13.27878       NA                   \n",
       "6 12.21286       11.83514       13.27878       NA                   \n",
       "  logfastIceWidth logempedist logadpedist logADPEabund logEMPEabund Region\n",
       "1 NA              NA          NA          0            0            NA    \n",
       "2 NA              NA          NA          0            0            NA    \n",
       "3 NA              NA          NA          0            0            NA    \n",
       "4 NA              NA          NA          0            0            NA    \n",
       "5 NA              NA          NA          0            0            NA    \n",
       "6 NA              NA          NA          0            0            NA    "
      ]
     },
     "metadata": {},
     "output_type": "display_data"
    },
    {
     "name": "stdout",
     "output_type": "stream",
     "text": [
      "                       Region Num.Cells\n",
      "1 Amundsen-Bellingshausen-WAP     40897\n",
      "2             East Antarctica     81198\n",
      "3                    Ross Sea     23216\n",
      "4                 Weddell Sea     50286\n"
     ]
    },
    {
     "data": {
      "text/html": [
       "31873"
      ],
      "text/latex": [
       "31873"
      ],
      "text/markdown": [
       "31873"
      ],
      "text/plain": [
       "[1] 31873"
      ]
     },
     "metadata": {},
     "output_type": "display_data"
    },
    {
     "data": {
      "text/html": [
       "0"
      ],
      "text/latex": [
       "0"
      ],
      "text/markdown": [
       "0"
      ],
      "text/plain": [
       "[1] 0"
      ]
     },
     "metadata": {},
     "output_type": "display_data"
    },
    {
     "data": {
      "text/html": [
       "1647"
      ],
      "text/latex": [
       "1647"
      ],
      "text/markdown": [
       "1647"
      ],
      "text/plain": [
       "[1] 1647"
      ]
     },
     "metadata": {},
     "output_type": "display_data"
    }
   ],
   "source": [
    "head(wesedf2)    #see the data\n",
    "aa<-aggregate(gridCellId~Region,wesedf2,NROW)\n",
    "    names(aa)<-c(\"Region\",\"Num.Cells\"); print(aa)    #count number of grid cells per region\n",
    "sum(is.na(wesedf2$Region))    #How many grid cells without region attribution\n",
    "sum(is.na(wesedf2$Region) & wesedf2$mdlCol>0)   #How many grid cells without a region yet with WESE?\n",
    "sum(wesedf2$mdlCol>0 & wesedf2$fastIcePresent==TRUE)   #How many grid cells without a region yet with WESE?"
   ]
  },
  {
   "cell_type": "markdown",
   "metadata": {},
   "source": [
    "We can safely remove these grid points without region attribution, and grid points without fast ice. We lose 1647 seals in remote small islands...  \n",
    "But saving a copy of the file first."
   ]
  },
  {
   "cell_type": "code",
   "execution_count": 32,
   "metadata": {},
   "outputs": [],
   "source": [
    "save(wesedf2,file=paste0(pathToLocalGit,\"data/allWESE_unfiltered_attributed.RData\"))\n",
    "wesedf2<-subset(wesedf2,!is.na(Region))\n",
    "wesedf2<-subset(wesedf2,fastIcePresent==TRUE)\n",
    "wesedf2$Region<-as.character(wesedf2$Region)"
   ]
  },
  {
   "cell_type": "code",
   "execution_count": 15,
   "metadata": {},
   "outputs": [
    {
     "data": {
      "text/html": [
       "<style>\n",
       ".list-inline {list-style: none; margin:0; padding: 0}\n",
       ".list-inline>li {display: inline-block}\n",
       ".list-inline>li:not(:last-child)::after {content: \"\\00b7\"; padding: 0 .5ex}\n",
       "</style>\n",
       "<ol class=list-inline><li>'Weddell Sea'</li><li>'East Antarctica'</li><li>'Amundsen-Bellingshausen-WAP'</li><li>'Ross Sea'</li></ol>\n"
      ],
      "text/latex": [
       "\\begin{enumerate*}\n",
       "\\item 'Weddell Sea'\n",
       "\\item 'East Antarctica'\n",
       "\\item 'Amundsen-Bellingshausen-WAP'\n",
       "\\item 'Ross Sea'\n",
       "\\end{enumerate*}\n"
      ],
      "text/markdown": [
       "1. 'Weddell Sea'\n",
       "2. 'East Antarctica'\n",
       "3. 'Amundsen-Bellingshausen-WAP'\n",
       "4. 'Ross Sea'\n",
       "\n",
       "\n"
      ],
      "text/plain": [
       "[1] \"Weddell Sea\"                 \"East Antarctica\"            \n",
       "[3] \"Amundsen-Bellingshausen-WAP\" \"Ross Sea\"                   "
      ]
     },
     "metadata": {},
     "output_type": "display_data"
    }
   ],
   "source": [
    "unique(wesedf2$Region)"
   ]
  },
  {
   "cell_type": "markdown",
   "metadata": {},
   "source": [
    "# Filtering for offshore small pockets\n",
    "95% of all seals are found within 22 km from shore, as shown in the plot below."
   ]
  },
  {
   "cell_type": "code",
   "execution_count": 16,
   "metadata": {},
   "outputs": [
    {
     "data": {
      "image/png": "[encoded data removed]",
      "text/plain": [
       "plot without title"
      ]
     },
     "metadata": {
      "image/png": {
       "height": 420,
       "width": 420
      },
      "text/plain": {
       "height": 420,
       "width": 420
      }
     },
     "output_type": "display_data"
    }
   ],
   "source": [
    "wesedf3<-wesedf2;wesedf3$presence<-ifelse(wesedf3$mdlCol>0,1,0)\n",
    "brpres<-subset(wesedf3,presence==1)\n",
    "qp<-table(cut(x=brpres$distToShore/1000,\n",
    "        breaks=seq(min(wesedf3$distToShore/1000),max(wesedf3$distToShore/1000),by=2)))\n",
    "brabs<-subset(wesedf3,presence==0)\n",
    "qa<-table(cut(x=brabs$distToShore/1000,\n",
    "        breaks=seq(min(wesedf3$distToShore/1000),max(wesedf3$distToShore/1000),by=2)))\n",
    "brpdf<-as.data.frame(qp);names(brpdf)<-c(\"Bin\",\"freqPres\")\n",
    "bradf<-as.data.frame(qa);names(bradf)<-c(\"Bin\",\"freqAbs\")\n",
    "brdf<-merge(brpdf,bradf,by=\"Bin\")\n",
    "brdf$total<-brdf$freqPres+brdf$freqAbs\n",
    "brdf$ratioPres<-ifelse(brdf$total==0,0,brdf$freqPres/brdf$total)\n",
    "ggplot(brdf,aes(x=Bin,y=ratioPres)) + geom_bar(stat=\"identity\") + coord_flip()\n"
   ]
  },
  {
   "cell_type": "code",
   "execution_count": 17,
   "metadata": {},
   "outputs": [
    {
     "data": {
      "text/html": [
       "19896"
      ],
      "text/latex": [
       "19896"
      ],
      "text/markdown": [
       "19896"
      ],
      "text/plain": [
       "[1] 19896"
      ]
     },
     "metadata": {},
     "output_type": "display_data"
    }
   ],
   "source": [
    "nrow(wesedf2)\n",
    "wesedf2<-subset(wesedf2,distToShore <=22000)\n",
    "save(wesedf2,file=paste0(pathToLocalGit,\"data/dataForLeo.RData\"))"
   ]
  },
  {
   "cell_type": "markdown",
   "metadata": {},
   "source": [
    "## Attributing with canyons and troughs data ##\n",
    "We use the above function to attribute the data with the canyons and glacial troughs data from Jarrod Santora.  \n",
    "IMPORTANT: we are adding Canyon_ID (i.e., the ID of the canyon), InCanyon (binary to say the grid cell is on a canyon), canyonLength, canyonWidth, and canyonMeanDepth. We are also adding gtID (i.e., the ID of the glacial through), InTrough (binary), and troughArea (the area of the glacial trough) for each grid cell that is on top of a trough. Cells not on trough or canyons get NA for the numeric values, and 0 for the InCanyon or InTrough fields."
   ]
  },
  {
   "cell_type": "code",
   "execution_count": 18,
   "metadata": {},
   "outputs": [
    {
     "name": "stdout",
     "output_type": "stream",
     "text": [
      "OGR data source with driver: ESRI Shapefile \n",
      "Source: \"/home/ubuntu/Workspace/ContinentalWESEestimates/data/CanyonsTroughs\", layer: \"Canyons\"\n",
      "with 800 features\n",
      "It has 11 fields\n",
      "OGR data source with driver: ESRI Shapefile \n",
      "Source: \"/home/ubuntu/Workspace/ContinentalWESEestimates/data/CanyonsTroughs\", layer: \"Glacial_Trough\"\n",
      "with 64 features\n",
      "It has 3 fields\n"
     ]
    }
   ],
   "source": [
    "canyons<-readShapeFile(pathToGit=pathToLocalGit,folderName=\"CanyonsTroughs\",shapeName=\"Canyons\")\n",
    "troughs<-readShapeFile(pathToGit=pathToLocalGit,folderName=\"CanyonsTroughs\",shapeName=\"Glacial_Trough\")\n",
    "troughs$gtID<-paste0(\"gtID_\",1:nrow(troughs))\n",
    "\n",
    "wesedf2<-attributeWithShape(shpobj=canyons,attribName=\"Canyon_ID\",data=wesedf2,datKey=\"gridCellId\",\n",
    "                              lonfld=\"coords.x1\",latfld=\"coords.x2\",dataproj=dataproj)\n",
    "wesedf2$InCanyon<-ifelse(is.na(wesedf2$Canyon_ID),0,1)\n",
    "wesedf2<-attributeWithShape(shpobj=canyons,attribName=\"Length\",data=wesedf2,datKey=\"gridCellId\",\n",
    "                              lonfld=\"coords.x1\",latfld=\"coords.x2\",dataproj=dataproj)\n",
    "names(wesedf2)<-gsub(\"Length\",\"canyonLength\",names(wesedf2))\n",
    "wesedf2<-attributeWithShape(shpobj=canyons,attribName=\"Width\",data=wesedf2,datKey=\"gridCellId\",\n",
    "                              lonfld=\"coords.x1\",latfld=\"coords.x2\",dataproj=dataproj)\n",
    "names(wesedf2)<-gsub(\"Width\",\"canyonWidth\",names(wesedf2))\n",
    "wesedf2<-attributeWithShape(shpobj=canyons,attribName=\"Mean_Depth\",data=wesedf2,datKey=\"gridCellId\",\n",
    "                              lonfld=\"coords.x1\",latfld=\"coords.x2\",dataproj=dataproj)\n",
    "names(wesedf2)<-gsub(\"Mean_Depth\",\"canyonMeanDepth\",names(wesedf2))\n",
    "\n",
    "wesedf2<-attributeWithShape(shpobj=troughs,attribName=\"gtID\",data=wesedf2,datKey=\"gridCellId\",\n",
    "                              lonfld=\"coords.x1\",latfld=\"coords.x2\",dataproj=dataproj)\n",
    "wesedf2$InTrough<-ifelse(is.na(wesedf2$gtID),0,1)\n",
    "wesedf2<-attributeWithShape(shpobj=troughs,attribName=\"area_km2\",data=wesedf2,datKey=\"gridCellId\",\n",
    "                              lonfld=\"coords.x1\",latfld=\"coords.x2\",dataproj=dataproj)\n",
    "names(wesedf2)<-gsub(\"area_km2\",\"troughArea\",names(wesedf2))\n",
    "\n",
    "#And then there is this silliness...\n",
    "names(wesedf2)<-gsub(\"fastIcecanyonWidth\",\"fastIceWidth\",names(wesedf2))\n",
    "names(wesedf2)<-gsub(\"scaledfastIcecanyonWidth\",\"scaledfastIceWidth\",names(wesedf2))"
   ]
  },
  {
   "cell_type": "markdown",
   "metadata": {},
   "source": [
    "There are very many grid points without canyon or trough data.\n",
    "## ONLY USE variables InCanyon and InThrough\n",
    "All other data have too many missing values"
   ]
  },
  {
   "cell_type": "markdown",
   "metadata": {},
   "source": [
    "# Export a copy of the data but only for the Weddell Sea"
   ]
  },
  {
   "cell_type": "markdown",
   "metadata": {},
   "source": [
    "This is for Mia (DELETE WHEN DONE)"
   ]
  },
  {
   "cell_type": "code",
   "execution_count": 19,
   "metadata": {},
   "outputs": [
    {
     "data": {
      "text/html": [
       "1844"
      ],
      "text/latex": [
       "1844"
      ],
      "text/markdown": [
       "1844"
      ],
      "text/plain": [
       "[1] 1844"
      ]
     },
     "metadata": {},
     "output_type": "display_data"
    },
    {
     "data": {
      "text/html": [
       "191"
      ],
      "text/latex": [
       "191"
      ],
      "text/markdown": [
       "191"
      ],
      "text/plain": [
       "[1] 191"
      ]
     },
     "metadata": {},
     "output_type": "display_data"
    }
   ],
   "source": [
    "weddellSeaData<-getWeddellSeaData(wesedf2)\n",
    "nrow(weddellSeaData)\n",
    "sum(weddellSeaData$presence>0)\n",
    "save(weddellSeaData,file=paste0(pathToLocalGit,\"data/weddellSeaData.RData\"))"
   ]
  },
  {
   "cell_type": "markdown",
   "metadata": {},
   "source": [
    "__Regarding #2__ we use the function \"bootSampleWESEdata\". This function by default generates 100 bootstrap samples (but change with the parameter \"nsamples\") and returns a list object. Each element of the list is one of the samples. Each sample is a table like wesedf, but it contains an equal number of grids with seals and no seals.  \n",
    "\n",
    "We need this bootstrap to subsample among the cells with no seals, which are much more numerous than those with seals. \n",
    "  \n",
    "The first distinction we must make is to determine if cells inspected in maps, but with no seals, are truly not seal habitat or simply areas with undetected seals. The wesedf table has a column called \"hasMaps\" to indicate cells with maps inspected by the crowd. The function \"bootSampleWESEdata\" can treat these as if they had no seals, or as if they did. You may indicate the behavior with the parameter \"hasMapsBehavior\". Set the parameter to 0 (this is the default behavior, what we consider is the right approach) to treat these cells as if there are no seals there, or 1 otherwise.\n",
    "\n",
    "Additionally, we my want to stratify the sample by bins of the variables in wesedf. To do so, we use the parameter \"strtifyByClusters\". This parameter is a number between 2 and 5. The function will find clusters in the covariate space in the data, then assign each record to one of these clusters, and it will then stratify the random sample such that it includes an even number of values in each of the clusters.  \n",
    "\n",
    "It is important to be able to select proper no-seal data points prior to clustering for sampling. Most critical is to select areas that are within a reasonable distance to shore (i.e., not to exceed the maximum observed). So, we first subsample the no-seal data within each region to exclude grid cells further away from shore than the farthest distance recorded for a colony in the region.\n",
    "\n",
    "Lastly, the function can also return an ensemble of data converted to presence-absence. Again, if a grid with maps is considered to have seals (i.e., hasMapsBehavior=1), then it will be assigned presence = 1.\n",
    "\n",
    "Here's an example on how to create an ensemble of abundance (no clustering, just normal random sampling):"
   ]
  },
  {
   "cell_type": "code",
   "execution_count": 20,
   "metadata": {},
   "outputs": [],
   "source": [
    "# IF we want to stratify sampling by clusters, we'll need this\n",
    "clustByVars<-c(\"scaledmeanslope\",\"logmeanbathy\",\"logglacierdist\",\"logdistToShore\",\"logcont300dist\",\n",
    "               \"logcont800dist\",\"logdistNearestIceEdge\",\"logfastIceWidth\",\"logempedist\",\"logadpedist\",\n",
    "                \"logADPEabund\",\"logEMPEabund\",\"Region\",\"InCanyon\",\"InTrough\")"
   ]
  },
  {
   "cell_type": "markdown",
   "metadata": {},
   "source": [
    "Here we filter for distances to shore not exceding 22 km"
   ]
  },
  {
   "cell_type": "code",
   "execution_count": 21,
   "metadata": {},
   "outputs": [],
   "source": [
    "wesedf2$logdistToShore<-ifelse(wesedf2$logdistToShore<5.2,5.2,wesedf2$logdistToShore)\n",
    "wesedf$distToShore<-ifelse(wesedf$distToShore<250,250,wesedf$distToShore)\n",
    "wesedf2$invlogDistToShore<-1/(wesedf2$logdistToShore+1)"
   ]
  },
  {
   "cell_type": "markdown",
   "metadata": {},
   "source": [
    "Here we add adpepresent, a binary variable we will need in our analyses; same for empepresent"
   ]
  },
  {
   "cell_type": "code",
   "execution_count": 22,
   "metadata": {},
   "outputs": [],
   "source": [
    "wesedf2$adpepresent<-ifelse(wesedf2$logADPEabund==0,\"no\",\"yes\")\n",
    "wesedf2$adpepresent<-as.factor(wesedf2$adpepresent)\n",
    "wesedf2$adpepresent<-relevel(wesedf2$adpepresent,ref=\"yes\")\n",
    "\n",
    "wesedf2$empepresent<-ifelse(wesedf2$logEMPEabund==0,\"no\",\"yes\")\n",
    "wesedf2$empepresent<-as.factor(wesedf2$empepresent)\n",
    "wesedf2$empepresent<-relevel(wesedf2$empepresent,ref=\"yes\")"
   ]
  },
  {
   "cell_type": "markdown",
   "metadata": {},
   "source": [
    "We also want to re-name the region \"Amundsen-Bellingshausen-WAP\" to \"A-B-WAP\" to keep the table short"
   ]
  },
  {
   "cell_type": "code",
   "execution_count": 23,
   "metadata": {},
   "outputs": [
    {
     "data": {
      "text/html": [
       "<style>\n",
       ".list-inline {list-style: none; margin:0; padding: 0}\n",
       ".list-inline>li {display: inline-block}\n",
       ".list-inline>li:not(:last-child)::after {content: \"\\00b7\"; padding: 0 .5ex}\n",
       "</style>\n",
       "<ol class=list-inline><li>'Wedd_Sea'</li><li>'EAnt'</li><li>'A-B-WAP'</li><li>'Ross Sea'</li></ol>\n"
      ],
      "text/latex": [
       "\\begin{enumerate*}\n",
       "\\item 'Wedd\\_Sea'\n",
       "\\item 'EAnt'\n",
       "\\item 'A-B-WAP'\n",
       "\\item 'Ross Sea'\n",
       "\\end{enumerate*}\n"
      ],
      "text/markdown": [
       "1. 'Wedd_Sea'\n",
       "2. 'EAnt'\n",
       "3. 'A-B-WAP'\n",
       "4. 'Ross Sea'\n",
       "\n",
       "\n"
      ],
      "text/plain": [
       "[1] \"Wedd_Sea\" \"EAnt\"     \"A-B-WAP\"  \"Ross Sea\""
      ]
     },
     "metadata": {},
     "output_type": "display_data"
    },
    {
     "data": {
      "text/html": [
       "'character'"
      ],
      "text/latex": [
       "'character'"
      ],
      "text/markdown": [
       "'character'"
      ],
      "text/plain": [
       "[1] \"character\""
      ]
     },
     "metadata": {},
     "output_type": "display_data"
    }
   ],
   "source": [
    "wesedf2$Region<-ifelse(wesedf2$Region==\"Amundsen-Bellingshausen-WAP\",\"A-B-WAP\",wesedf2$Region)\n",
    "wesedf2$Region<-ifelse(wesedf2$Region==\"East Antarctica\",\"EAnt\",wesedf2$Region)\n",
    "wesedf2$Region<-ifelse(wesedf2$Region==\"Weddell Sea\",\"Wedd_Sea\",wesedf2$Region)\n",
    "unique(wesedf2$Region);class(wesedf2$Region)\n"
   ]
  },
  {
   "cell_type": "markdown",
   "metadata": {},
   "source": [
    "Now we relevel the Region values to set the Ross Sea as the reference region"
   ]
  },
  {
   "cell_type": "code",
   "execution_count": 24,
   "metadata": {},
   "outputs": [
    {
     "data": {
      "text/html": [
       "<style>\n",
       ".list-inline {list-style: none; margin:0; padding: 0}\n",
       ".list-inline>li {display: inline-block}\n",
       ".list-inline>li:not(:last-child)::after {content: \"\\00b7\"; padding: 0 .5ex}\n",
       "</style>\n",
       "<ol class=list-inline><li>Wedd_Sea</li><li>EAnt</li><li>A-B-WAP</li><li>Ross Sea</li></ol>\n",
       "\n",
       "<details>\n",
       "\t<summary style=display:list-item;cursor:pointer>\n",
       "\t\t<strong>Levels</strong>:\n",
       "\t</summary>\n",
       "\t<style>\n",
       "\t.list-inline {list-style: none; margin:0; padding: 0}\n",
       "\t.list-inline>li {display: inline-block}\n",
       "\t.list-inline>li:not(:last-child)::after {content: \"\\00b7\"; padding: 0 .5ex}\n",
       "\t</style>\n",
       "\t<ol class=list-inline><li>'Ross Sea'</li><li>'A-B-WAP'</li><li>'EAnt'</li><li>'Wedd_Sea'</li></ol>\n",
       "</details>"
      ],
      "text/latex": [
       "\\begin{enumerate*}\n",
       "\\item Wedd\\_Sea\n",
       "\\item EAnt\n",
       "\\item A-B-WAP\n",
       "\\item Ross Sea\n",
       "\\end{enumerate*}\n",
       "\n",
       "\\emph{Levels}: \\begin{enumerate*}\n",
       "\\item 'Ross Sea'\n",
       "\\item 'A-B-WAP'\n",
       "\\item 'EAnt'\n",
       "\\item 'Wedd\\_Sea'\n",
       "\\end{enumerate*}\n"
      ],
      "text/markdown": [
       "1. Wedd_Sea\n",
       "2. EAnt\n",
       "3. A-B-WAP\n",
       "4. Ross Sea\n",
       "\n",
       "\n",
       "\n",
       "**Levels**: 1. 'Ross Sea'\n",
       "2. 'A-B-WAP'\n",
       "3. 'EAnt'\n",
       "4. 'Wedd_Sea'\n",
       "\n",
       "\n"
      ],
      "text/plain": [
       "[1] Wedd_Sea EAnt     A-B-WAP  Ross Sea\n",
       "Levels: Ross Sea A-B-WAP EAnt Wedd_Sea"
      ]
     },
     "metadata": {},
     "output_type": "display_data"
    },
    {
     "data": {
      "text/html": [
       "'factor'"
      ],
      "text/latex": [
       "'factor'"
      ],
      "text/markdown": [
       "'factor'"
      ],
      "text/plain": [
       "[1] \"factor\""
      ]
     },
     "metadata": {},
     "output_type": "display_data"
    }
   ],
   "source": [
    "wesedf2$Region<-as.factor(wesedf2$Region)\n",
    "\n",
    "wesedf2$Region<-relevel(wesedf2$Region,ref=\"Ross Sea\")\n",
    "unique(wesedf2$Region);class(wesedf2$Region)"
   ]
  },
  {
   "cell_type": "code",
   "execution_count": 25,
   "metadata": {},
   "outputs": [
    {
     "data": {
      "text/html": [
       "<table>\n",
       "<caption>A data.frame: 6 × 51</caption>\n",
       "<thead>\n",
       "\t<tr><th></th><th scope=col>gridCellId</th><th scope=col>meanslope</th><th scope=col>meanbathy</th><th scope=col>glacierdist</th><th scope=col>distToShore</th><th scope=col>cont300dist</th><th scope=col>cont800dist</th><th scope=col>DecemberIcePresence</th><th scope=col>Persistence2Years</th><th scope=col>PredictabilityDec5Years</th><th scope=col>⋯</th><th scope=col>InCanyon</th><th scope=col>canyonLength</th><th scope=col>canyonWidth</th><th scope=col>canyonMeanDepth</th><th scope=col>gtID</th><th scope=col>InTrough</th><th scope=col>troughArea</th><th scope=col>invlogDistToShore</th><th scope=col>adpepresent</th><th scope=col>empepresent</th></tr>\n",
       "\t<tr><th></th><th scope=col>&lt;int&gt;</th><th scope=col>&lt;dbl&gt;</th><th scope=col>&lt;dbl&gt;</th><th scope=col>&lt;dbl&gt;</th><th scope=col>&lt;dbl&gt;</th><th scope=col>&lt;dbl&gt;</th><th scope=col>&lt;dbl&gt;</th><th scope=col>&lt;dbl&gt;</th><th scope=col>&lt;dbl&gt;</th><th scope=col>&lt;dbl&gt;</th><th scope=col>⋯</th><th scope=col>&lt;dbl&gt;</th><th scope=col>&lt;dbl&gt;</th><th scope=col>&lt;dbl&gt;</th><th scope=col>&lt;dbl&gt;</th><th scope=col>&lt;chr&gt;</th><th scope=col>&lt;dbl&gt;</th><th scope=col>&lt;dbl&gt;</th><th scope=col>&lt;dbl&gt;</th><th scope=col>&lt;fct&gt;</th><th scope=col>&lt;fct&gt;</th></tr>\n",
       "</thead>\n",
       "<tbody>\n",
       "\t<tr><th scope=row>1</th><td>985180</td><td>1.27726877</td><td> -359.56</td><td> 13653.29</td><td> 9096.503</td><td>455053.8</td><td>274311.28</td><td>0</td><td>0</td><td>2</td><td>⋯</td><td>0</td><td>     NA</td><td>     NA</td><td>      NA</td><td>NA     </td><td>0</td><td>       NA</td><td>0.09885569</td><td>yes</td><td>no </td></tr>\n",
       "\t<tr><th scope=row>2</th><td>460497</td><td>6.19859219</td><td>-1436.09</td><td> 35168.23</td><td>17843.036</td><td> 50406.3</td><td>124664.18</td><td>1</td><td>1</td><td>5</td><td>⋯</td><td>1</td><td>64.1755</td><td>33.8899</td><td>724.6881</td><td>gtID_41</td><td>1</td><td> 6888.595</td><td>0.09268335</td><td>no </td><td>yes</td></tr>\n",
       "\t<tr><th scope=row>3</th><td>978562</td><td>0.52921081</td><td> -331.62</td><td> 61998.16</td><td>18042.660</td><td>282171.3</td><td>182037.92</td><td>0</td><td>2</td><td>4</td><td>⋯</td><td>0</td><td>     NA</td><td>     NA</td><td>      NA</td><td>gtID_57</td><td>1</td><td> 1766.159</td><td>0.09258788</td><td>no </td><td>yes</td></tr>\n",
       "\t<tr><th scope=row>4</th><td>812613</td><td>0.66440380</td><td> -210.39</td><td> 13536.36</td><td>14383.299</td><td>130836.5</td><td> 56334.89</td><td>1</td><td>2</td><td>4</td><td>⋯</td><td>0</td><td>     NA</td><td>     NA</td><td>      NA</td><td>gtID_46</td><td>1</td><td> 2513.261</td><td>0.09457255</td><td>no </td><td>no </td></tr>\n",
       "\t<tr><th scope=row>5</th><td>652842</td><td>0.18318224</td><td> -412.02</td><td>211774.19</td><td>11762.518</td><td>158085.5</td><td> 27348.26</td><td>1</td><td>2</td><td>3</td><td>⋯</td><td>0</td><td>     NA</td><td>     NA</td><td>      NA</td><td>NA     </td><td>0</td><td>       NA</td><td>0.09640637</td><td>no </td><td>no </td></tr>\n",
       "\t<tr><th scope=row>6</th><td>368537</td><td>0.07970408</td><td> -337.03</td><td> 95785.88</td><td>18076.256</td><td>147219.1</td><td>307361.04</td><td>1</td><td>2</td><td>5</td><td>⋯</td><td>0</td><td>     NA</td><td>     NA</td><td>      NA</td><td>gtID_61</td><td>1</td><td>68087.698</td><td>0.09257194</td><td>no </td><td>yes</td></tr>\n",
       "</tbody>\n",
       "</table>\n"
      ],
      "text/latex": [
       "A data.frame: 6 × 51\n",
       "\\begin{tabular}{r|lllllllllllllllllllll}\n",
       "  & gridCellId & meanslope & meanbathy & glacierdist & distToShore & cont300dist & cont800dist & DecemberIcePresence & Persistence2Years & PredictabilityDec5Years & ⋯ & InCanyon & canyonLength & canyonWidth & canyonMeanDepth & gtID & InTrough & troughArea & invlogDistToShore & adpepresent & empepresent\\\\\n",
       "  & <int> & <dbl> & <dbl> & <dbl> & <dbl> & <dbl> & <dbl> & <dbl> & <dbl> & <dbl> & ⋯ & <dbl> & <dbl> & <dbl> & <dbl> & <chr> & <dbl> & <dbl> & <dbl> & <fct> & <fct>\\\\\n",
       "\\hline\n",
       "\t1 & 985180 & 1.27726877 &  -359.56 &  13653.29 &  9096.503 & 455053.8 & 274311.28 & 0 & 0 & 2 & ⋯ & 0 &      NA &      NA &       NA & NA      & 0 &        NA & 0.09885569 & yes & no \\\\\n",
       "\t2 & 460497 & 6.19859219 & -1436.09 &  35168.23 & 17843.036 &  50406.3 & 124664.18 & 1 & 1 & 5 & ⋯ & 1 & 64.1755 & 33.8899 & 724.6881 & gtID\\_41 & 1 &  6888.595 & 0.09268335 & no  & yes\\\\\n",
       "\t3 & 978562 & 0.52921081 &  -331.62 &  61998.16 & 18042.660 & 282171.3 & 182037.92 & 0 & 2 & 4 & ⋯ & 0 &      NA &      NA &       NA & gtID\\_57 & 1 &  1766.159 & 0.09258788 & no  & yes\\\\\n",
       "\t4 & 812613 & 0.66440380 &  -210.39 &  13536.36 & 14383.299 & 130836.5 &  56334.89 & 1 & 2 & 4 & ⋯ & 0 &      NA &      NA &       NA & gtID\\_46 & 1 &  2513.261 & 0.09457255 & no  & no \\\\\n",
       "\t5 & 652842 & 0.18318224 &  -412.02 & 211774.19 & 11762.518 & 158085.5 &  27348.26 & 1 & 2 & 3 & ⋯ & 0 &      NA &      NA &       NA & NA      & 0 &        NA & 0.09640637 & no  & no \\\\\n",
       "\t6 & 368537 & 0.07970408 &  -337.03 &  95785.88 & 18076.256 & 147219.1 & 307361.04 & 1 & 2 & 5 & ⋯ & 0 &      NA &      NA &       NA & gtID\\_61 & 1 & 68087.698 & 0.09257194 & no  & yes\\\\\n",
       "\\end{tabular}\n"
      ],
      "text/markdown": [
       "\n",
       "A data.frame: 6 × 51\n",
       "\n",
       "| <!--/--> | gridCellId &lt;int&gt; | meanslope &lt;dbl&gt; | meanbathy &lt;dbl&gt; | glacierdist &lt;dbl&gt; | distToShore &lt;dbl&gt; | cont300dist &lt;dbl&gt; | cont800dist &lt;dbl&gt; | DecemberIcePresence &lt;dbl&gt; | Persistence2Years &lt;dbl&gt; | PredictabilityDec5Years &lt;dbl&gt; | ⋯ ⋯ | InCanyon &lt;dbl&gt; | canyonLength &lt;dbl&gt; | canyonWidth &lt;dbl&gt; | canyonMeanDepth &lt;dbl&gt; | gtID &lt;chr&gt; | InTrough &lt;dbl&gt; | troughArea &lt;dbl&gt; | invlogDistToShore &lt;dbl&gt; | adpepresent &lt;fct&gt; | empepresent &lt;fct&gt; |\n",
       "|---|---|---|---|---|---|---|---|---|---|---|---|---|---|---|---|---|---|---|---|---|---|\n",
       "| 1 | 985180 | 1.27726877 |  -359.56 |  13653.29 |  9096.503 | 455053.8 | 274311.28 | 0 | 0 | 2 | ⋯ | 0 |      NA |      NA |       NA | NA      | 0 |        NA | 0.09885569 | yes | no  |\n",
       "| 2 | 460497 | 6.19859219 | -1436.09 |  35168.23 | 17843.036 |  50406.3 | 124664.18 | 1 | 1 | 5 | ⋯ | 1 | 64.1755 | 33.8899 | 724.6881 | gtID_41 | 1 |  6888.595 | 0.09268335 | no  | yes |\n",
       "| 3 | 978562 | 0.52921081 |  -331.62 |  61998.16 | 18042.660 | 282171.3 | 182037.92 | 0 | 2 | 4 | ⋯ | 0 |      NA |      NA |       NA | gtID_57 | 1 |  1766.159 | 0.09258788 | no  | yes |\n",
       "| 4 | 812613 | 0.66440380 |  -210.39 |  13536.36 | 14383.299 | 130836.5 |  56334.89 | 1 | 2 | 4 | ⋯ | 0 |      NA |      NA |       NA | gtID_46 | 1 |  2513.261 | 0.09457255 | no  | no  |\n",
       "| 5 | 652842 | 0.18318224 |  -412.02 | 211774.19 | 11762.518 | 158085.5 |  27348.26 | 1 | 2 | 3 | ⋯ | 0 |      NA |      NA |       NA | NA      | 0 |        NA | 0.09640637 | no  | no  |\n",
       "| 6 | 368537 | 0.07970408 |  -337.03 |  95785.88 | 18076.256 | 147219.1 | 307361.04 | 1 | 2 | 5 | ⋯ | 0 |      NA |      NA |       NA | gtID_61 | 1 | 68087.698 | 0.09257194 | no  | yes |\n",
       "\n"
      ],
      "text/plain": [
       "  gridCellId meanslope  meanbathy glacierdist distToShore cont300dist\n",
       "1 985180     1.27726877  -359.56   13653.29    9096.503   455053.8   \n",
       "2 460497     6.19859219 -1436.09   35168.23   17843.036    50406.3   \n",
       "3 978562     0.52921081  -331.62   61998.16   18042.660   282171.3   \n",
       "4 812613     0.66440380  -210.39   13536.36   14383.299   130836.5   \n",
       "5 652842     0.18318224  -412.02  211774.19   11762.518   158085.5   \n",
       "6 368537     0.07970408  -337.03   95785.88   18076.256   147219.1   \n",
       "  cont800dist DecemberIcePresence Persistence2Years PredictabilityDec5Years ⋯\n",
       "1 274311.28   0                   0                 2                       ⋯\n",
       "2 124664.18   1                   1                 5                       ⋯\n",
       "3 182037.92   0                   2                 4                       ⋯\n",
       "4  56334.89   1                   2                 4                       ⋯\n",
       "5  27348.26   1                   2                 3                       ⋯\n",
       "6 307361.04   1                   2                 5                       ⋯\n",
       "  InCanyon canyonLength canyonWidth canyonMeanDepth gtID    InTrough troughArea\n",
       "1 0             NA           NA           NA        NA      0               NA \n",
       "2 1        64.1755      33.8899     724.6881        gtID_41 1         6888.595 \n",
       "3 0             NA           NA           NA        gtID_57 1         1766.159 \n",
       "4 0             NA           NA           NA        gtID_46 1         2513.261 \n",
       "5 0             NA           NA           NA        NA      0               NA \n",
       "6 0             NA           NA           NA        gtID_61 1        68087.698 \n",
       "  invlogDistToShore adpepresent empepresent\n",
       "1 0.09885569        yes         no         \n",
       "2 0.09268335        no          yes        \n",
       "3 0.09258788        no          yes        \n",
       "4 0.09457255        no          no         \n",
       "5 0.09640637        no          no         \n",
       "6 0.09257194        no          yes        "
      ]
     },
     "metadata": {},
     "output_type": "display_data"
    },
    {
     "data": {
      "text/html": [
       "<table>\n",
       "<caption>A data.frame: 6 × 51</caption>\n",
       "<thead>\n",
       "\t<tr><th></th><th scope=col>gridCellId</th><th scope=col>meanslope</th><th scope=col>meanbathy</th><th scope=col>glacierdist</th><th scope=col>distToShore</th><th scope=col>cont300dist</th><th scope=col>cont800dist</th><th scope=col>DecemberIcePresence</th><th scope=col>Persistence2Years</th><th scope=col>PredictabilityDec5Years</th><th scope=col>⋯</th><th scope=col>InCanyon</th><th scope=col>canyonLength</th><th scope=col>canyonWidth</th><th scope=col>canyonMeanDepth</th><th scope=col>gtID</th><th scope=col>InTrough</th><th scope=col>troughArea</th><th scope=col>invlogDistToShore</th><th scope=col>adpepresent</th><th scope=col>empepresent</th></tr>\n",
       "\t<tr><th></th><th scope=col>&lt;int&gt;</th><th scope=col>&lt;dbl&gt;</th><th scope=col>&lt;dbl&gt;</th><th scope=col>&lt;dbl&gt;</th><th scope=col>&lt;dbl&gt;</th><th scope=col>&lt;dbl&gt;</th><th scope=col>&lt;dbl&gt;</th><th scope=col>&lt;dbl&gt;</th><th scope=col>&lt;dbl&gt;</th><th scope=col>&lt;dbl&gt;</th><th scope=col>⋯</th><th scope=col>&lt;dbl&gt;</th><th scope=col>&lt;dbl&gt;</th><th scope=col>&lt;dbl&gt;</th><th scope=col>&lt;dbl&gt;</th><th scope=col>&lt;chr&gt;</th><th scope=col>&lt;dbl&gt;</th><th scope=col>&lt;dbl&gt;</th><th scope=col>&lt;dbl&gt;</th><th scope=col>&lt;fct&gt;</th><th scope=col>&lt;fct&gt;</th></tr>\n",
       "</thead>\n",
       "<tbody>\n",
       "\t<tr><th scope=row>11693</th><td>1264355</td><td>0.3815142</td><td>-403.40</td><td>34786.34</td><td> 2868.045</td><td>1018372</td><td>970261.5</td><td>1</td><td>1</td><td>5</td><td>⋯</td><td>0</td><td>NA</td><td>NA</td><td>NA</td><td>NA     </td><td>0</td><td>      NA</td><td>0.11158554</td><td>yes</td><td>yes</td></tr>\n",
       "\t<tr><th scope=row>11719</th><td>1264733</td><td>0.7591642</td><td>-247.11</td><td>28629.81</td><td> 4546.889</td><td>1029342</td><td>981803.6</td><td>1</td><td>2</td><td>5</td><td>⋯</td><td>0</td><td>NA</td><td>NA</td><td>NA</td><td>NA     </td><td>0</td><td>      NA</td><td>0.10612986</td><td>yes</td><td>yes</td></tr>\n",
       "\t<tr><th scope=row>11720</th><td>1264734</td><td>0.8076776</td><td>-307.09</td><td>33628.94</td><td> 3474.870</td><td>1029342</td><td>981803.6</td><td>1</td><td>2</td><td>5</td><td>⋯</td><td>0</td><td>NA</td><td>NA</td><td>NA</td><td>gtID_58</td><td>1</td><td>13812.46</td><td>0.10924663</td><td>yes</td><td>yes</td></tr>\n",
       "\t<tr><th scope=row>11735</th><td>1264861</td><td>0.7865700</td><td>-303.30</td><td>28963.48</td><td> 8938.282</td><td>1033021</td><td>985671.7</td><td>1</td><td>2</td><td>5</td><td>⋯</td><td>0</td><td>NA</td><td>NA</td><td>NA</td><td>gtID_58</td><td>1</td><td>13812.46</td><td>0.09902745</td><td>no </td><td>yes</td></tr>\n",
       "\t<tr><th scope=row>11736</th><td>1264862</td><td>0.5470907</td><td>-330.04</td><td>33913.46</td><td> 8299.567</td><td>1033021</td><td>985671.7</td><td>1</td><td>2</td><td>5</td><td>⋯</td><td>0</td><td>NA</td><td>NA</td><td>NA</td><td>gtID_58</td><td>1</td><td>13812.46</td><td>0.09975979</td><td>no </td><td>yes</td></tr>\n",
       "\t<tr><th scope=row>11752</th><td>1264989</td><td>0.5477518</td><td>-359.48</td><td>30134.71</td><td>13663.857</td><td>1036711</td><td>989550.0</td><td>1</td><td>2</td><td>5</td><td>⋯</td><td>0</td><td>NA</td><td>NA</td><td>NA</td><td>gtID_58</td><td>1</td><td>13812.46</td><td>0.09503370</td><td>no </td><td>yes</td></tr>\n",
       "</tbody>\n",
       "</table>\n"
      ],
      "text/latex": [
       "A data.frame: 6 × 51\n",
       "\\begin{tabular}{r|lllllllllllllllllllll}\n",
       "  & gridCellId & meanslope & meanbathy & glacierdist & distToShore & cont300dist & cont800dist & DecemberIcePresence & Persistence2Years & PredictabilityDec5Years & ⋯ & InCanyon & canyonLength & canyonWidth & canyonMeanDepth & gtID & InTrough & troughArea & invlogDistToShore & adpepresent & empepresent\\\\\n",
       "  & <int> & <dbl> & <dbl> & <dbl> & <dbl> & <dbl> & <dbl> & <dbl> & <dbl> & <dbl> & ⋯ & <dbl> & <dbl> & <dbl> & <dbl> & <chr> & <dbl> & <dbl> & <dbl> & <fct> & <fct>\\\\\n",
       "\\hline\n",
       "\t11693 & 1264355 & 0.3815142 & -403.40 & 34786.34 &  2868.045 & 1018372 & 970261.5 & 1 & 1 & 5 & ⋯ & 0 & NA & NA & NA & NA      & 0 &       NA & 0.11158554 & yes & yes\\\\\n",
       "\t11719 & 1264733 & 0.7591642 & -247.11 & 28629.81 &  4546.889 & 1029342 & 981803.6 & 1 & 2 & 5 & ⋯ & 0 & NA & NA & NA & NA      & 0 &       NA & 0.10612986 & yes & yes\\\\\n",
       "\t11720 & 1264734 & 0.8076776 & -307.09 & 33628.94 &  3474.870 & 1029342 & 981803.6 & 1 & 2 & 5 & ⋯ & 0 & NA & NA & NA & gtID\\_58 & 1 & 13812.46 & 0.10924663 & yes & yes\\\\\n",
       "\t11735 & 1264861 & 0.7865700 & -303.30 & 28963.48 &  8938.282 & 1033021 & 985671.7 & 1 & 2 & 5 & ⋯ & 0 & NA & NA & NA & gtID\\_58 & 1 & 13812.46 & 0.09902745 & no  & yes\\\\\n",
       "\t11736 & 1264862 & 0.5470907 & -330.04 & 33913.46 &  8299.567 & 1033021 & 985671.7 & 1 & 2 & 5 & ⋯ & 0 & NA & NA & NA & gtID\\_58 & 1 & 13812.46 & 0.09975979 & no  & yes\\\\\n",
       "\t11752 & 1264989 & 0.5477518 & -359.48 & 30134.71 & 13663.857 & 1036711 & 989550.0 & 1 & 2 & 5 & ⋯ & 0 & NA & NA & NA & gtID\\_58 & 1 & 13812.46 & 0.09503370 & no  & yes\\\\\n",
       "\\end{tabular}\n"
      ],
      "text/markdown": [
       "\n",
       "A data.frame: 6 × 51\n",
       "\n",
       "| <!--/--> | gridCellId &lt;int&gt; | meanslope &lt;dbl&gt; | meanbathy &lt;dbl&gt; | glacierdist &lt;dbl&gt; | distToShore &lt;dbl&gt; | cont300dist &lt;dbl&gt; | cont800dist &lt;dbl&gt; | DecemberIcePresence &lt;dbl&gt; | Persistence2Years &lt;dbl&gt; | PredictabilityDec5Years &lt;dbl&gt; | ⋯ ⋯ | InCanyon &lt;dbl&gt; | canyonLength &lt;dbl&gt; | canyonWidth &lt;dbl&gt; | canyonMeanDepth &lt;dbl&gt; | gtID &lt;chr&gt; | InTrough &lt;dbl&gt; | troughArea &lt;dbl&gt; | invlogDistToShore &lt;dbl&gt; | adpepresent &lt;fct&gt; | empepresent &lt;fct&gt; |\n",
       "|---|---|---|---|---|---|---|---|---|---|---|---|---|---|---|---|---|---|---|---|---|---|\n",
       "| 11693 | 1264355 | 0.3815142 | -403.40 | 34786.34 |  2868.045 | 1018372 | 970261.5 | 1 | 1 | 5 | ⋯ | 0 | NA | NA | NA | NA      | 0 |       NA | 0.11158554 | yes | yes |\n",
       "| 11719 | 1264733 | 0.7591642 | -247.11 | 28629.81 |  4546.889 | 1029342 | 981803.6 | 1 | 2 | 5 | ⋯ | 0 | NA | NA | NA | NA      | 0 |       NA | 0.10612986 | yes | yes |\n",
       "| 11720 | 1264734 | 0.8076776 | -307.09 | 33628.94 |  3474.870 | 1029342 | 981803.6 | 1 | 2 | 5 | ⋯ | 0 | NA | NA | NA | gtID_58 | 1 | 13812.46 | 0.10924663 | yes | yes |\n",
       "| 11735 | 1264861 | 0.7865700 | -303.30 | 28963.48 |  8938.282 | 1033021 | 985671.7 | 1 | 2 | 5 | ⋯ | 0 | NA | NA | NA | gtID_58 | 1 | 13812.46 | 0.09902745 | no  | yes |\n",
       "| 11736 | 1264862 | 0.5470907 | -330.04 | 33913.46 |  8299.567 | 1033021 | 985671.7 | 1 | 2 | 5 | ⋯ | 0 | NA | NA | NA | gtID_58 | 1 | 13812.46 | 0.09975979 | no  | yes |\n",
       "| 11752 | 1264989 | 0.5477518 | -359.48 | 30134.71 | 13663.857 | 1036711 | 989550.0 | 1 | 2 | 5 | ⋯ | 0 | NA | NA | NA | gtID_58 | 1 | 13812.46 | 0.09503370 | no  | yes |\n",
       "\n"
      ],
      "text/plain": [
       "      gridCellId meanslope meanbathy glacierdist distToShore cont300dist\n",
       "11693 1264355    0.3815142 -403.40   34786.34     2868.045   1018372    \n",
       "11719 1264733    0.7591642 -247.11   28629.81     4546.889   1029342    \n",
       "11720 1264734    0.8076776 -307.09   33628.94     3474.870   1029342    \n",
       "11735 1264861    0.7865700 -303.30   28963.48     8938.282   1033021    \n",
       "11736 1264862    0.5470907 -330.04   33913.46     8299.567   1033021    \n",
       "11752 1264989    0.5477518 -359.48   30134.71    13663.857   1036711    \n",
       "      cont800dist DecemberIcePresence Persistence2Years PredictabilityDec5Years\n",
       "11693 970261.5    1                   1                 5                      \n",
       "11719 981803.6    1                   2                 5                      \n",
       "11720 981803.6    1                   2                 5                      \n",
       "11735 985671.7    1                   2                 5                      \n",
       "11736 985671.7    1                   2                 5                      \n",
       "11752 989550.0    1                   2                 5                      \n",
       "      ⋯ InCanyon canyonLength canyonWidth canyonMeanDepth gtID    InTrough\n",
       "11693 ⋯ 0        NA           NA          NA              NA      0       \n",
       "11719 ⋯ 0        NA           NA          NA              NA      0       \n",
       "11720 ⋯ 0        NA           NA          NA              gtID_58 1       \n",
       "11735 ⋯ 0        NA           NA          NA              gtID_58 1       \n",
       "11736 ⋯ 0        NA           NA          NA              gtID_58 1       \n",
       "11752 ⋯ 0        NA           NA          NA              gtID_58 1       \n",
       "      troughArea invlogDistToShore adpepresent empepresent\n",
       "11693       NA   0.11158554        yes         yes        \n",
       "11719       NA   0.10612986        yes         yes        \n",
       "11720 13812.46   0.10924663        yes         yes        \n",
       "11735 13812.46   0.09902745        no          yes        \n",
       "11736 13812.46   0.09975979        no          yes        \n",
       "11752 13812.46   0.09503370        no          yes        "
      ]
     },
     "metadata": {},
     "output_type": "display_data"
    },
    {
     "data": {
      "text/html": [
       "2924"
      ],
      "text/latex": [
       "2924"
      ],
      "text/markdown": [
       "2924"
      ],
      "text/plain": [
       "[1] 2924"
      ]
     },
     "metadata": {},
     "output_type": "display_data"
    }
   ],
   "source": [
    "bootsamp<-bootSampleWESEdata(data=wesedf2,nsamples=100,hasMapsBehavior=0,stratifyByClusters=0,clustByVars=NA,countVar=\"mdlCol\",setBinomial=TRUE)\n",
    "head(bootsamp[[23]])\n",
    "tail(bootsamp[[67]])\n",
    "nrow(bootsamp[[85]])"
   ]
  },
  {
   "cell_type": "code",
   "execution_count": 26,
   "metadata": {},
   "outputs": [
    {
     "data": {
      "text/html": [
       "<table>\n",
       "<caption>A data.frame: 6 × 51</caption>\n",
       "<thead>\n",
       "\t<tr><th></th><th scope=col>gridCellId</th><th scope=col>meanslope</th><th scope=col>meanbathy</th><th scope=col>glacierdist</th><th scope=col>distToShore</th><th scope=col>cont300dist</th><th scope=col>cont800dist</th><th scope=col>DecemberIcePresence</th><th scope=col>Persistence2Years</th><th scope=col>PredictabilityDec5Years</th><th scope=col>⋯</th><th scope=col>InCanyon</th><th scope=col>canyonLength</th><th scope=col>canyonWidth</th><th scope=col>canyonMeanDepth</th><th scope=col>gtID</th><th scope=col>InTrough</th><th scope=col>troughArea</th><th scope=col>invlogDistToShore</th><th scope=col>adpepresent</th><th scope=col>empepresent</th></tr>\n",
       "\t<tr><th></th><th scope=col>&lt;int&gt;</th><th scope=col>&lt;dbl&gt;</th><th scope=col>&lt;dbl&gt;</th><th scope=col>&lt;dbl&gt;</th><th scope=col>&lt;dbl&gt;</th><th scope=col>&lt;dbl&gt;</th><th scope=col>&lt;dbl&gt;</th><th scope=col>&lt;dbl&gt;</th><th scope=col>&lt;dbl&gt;</th><th scope=col>&lt;dbl&gt;</th><th scope=col>⋯</th><th scope=col>&lt;dbl&gt;</th><th scope=col>&lt;dbl&gt;</th><th scope=col>&lt;dbl&gt;</th><th scope=col>&lt;dbl&gt;</th><th scope=col>&lt;chr&gt;</th><th scope=col>&lt;dbl&gt;</th><th scope=col>&lt;dbl&gt;</th><th scope=col>&lt;dbl&gt;</th><th scope=col>&lt;fct&gt;</th><th scope=col>&lt;fct&gt;</th></tr>\n",
       "</thead>\n",
       "<tbody>\n",
       "\t<tr><th scope=row>1</th><td>1237582</td><td>0.4160016</td><td>-419.2000</td><td>189462.14</td><td>20003.913</td><td>1196222.33</td><td>1155799.18</td><td>0</td><td>0</td><td>1</td><td>⋯</td><td>0</td><td>     NA</td><td>     NA</td><td>      NA</td><td>NA     </td><td>0</td><td>      NA</td><td>0.09171171</td><td>no </td><td>no </td></tr>\n",
       "\t<tr><th scope=row>2</th><td> 984671</td><td>1.4886589</td><td>-304.8900</td><td> 17799.52</td><td>12814.954</td><td> 439336.14</td><td> 266016.31</td><td>0</td><td>0</td><td>3</td><td>⋯</td><td>0</td><td>     NA</td><td>     NA</td><td>      NA</td><td>NA     </td><td>0</td><td>      NA</td><td>0.09561650</td><td>yes</td><td>no </td></tr>\n",
       "\t<tr><th scope=row>3</th><td> 460237</td><td>1.4354551</td><td>-114.2128</td><td> 39732.55</td><td> 1651.698</td><td>  51279.14</td><td> 120119.47</td><td>1</td><td>2</td><td>5</td><td>⋯</td><td>1</td><td>64.1755</td><td>33.8899</td><td>724.6881</td><td>NA     </td><td>0</td><td>      NA</td><td>0.11890374</td><td>no </td><td>yes</td></tr>\n",
       "\t<tr><th scope=row>4</th><td> 653220</td><td>0.1438390</td><td>-331.6700</td><td>200556.43</td><td> 3978.919</td><td> 169630.90</td><td>  20727.01</td><td>1</td><td>2</td><td>4</td><td>⋯</td><td>0</td><td>     NA</td><td>     NA</td><td>      NA</td><td>NA     </td><td>0</td><td>      NA</td><td>0.10765402</td><td>no </td><td>no </td></tr>\n",
       "\t<tr><th scope=row>5</th><td>1131414</td><td>0.5826356</td><td>-618.9400</td><td> 53077.01</td><td>15375.090</td><td> 839618.18</td><td> 779608.08</td><td>1</td><td>2</td><td>5</td><td>⋯</td><td>0</td><td>     NA</td><td>     NA</td><td>      NA</td><td>gtID_56</td><td>1</td><td>22676.05</td><td>0.09397994</td><td>no </td><td>no </td></tr>\n",
       "\t<tr><th scope=row>6</th><td> 821605</td><td>0.1467698</td><td>-353.1900</td><td>168943.91</td><td> 3333.474</td><td> 182863.90</td><td> 100453.02</td><td>1</td><td>2</td><td>5</td><td>⋯</td><td>0</td><td>     NA</td><td>     NA</td><td>      NA</td><td>NA     </td><td>0</td><td>      NA</td><td>0.10974454</td><td>no </td><td>yes</td></tr>\n",
       "</tbody>\n",
       "</table>\n"
      ],
      "text/latex": [
       "A data.frame: 6 × 51\n",
       "\\begin{tabular}{r|lllllllllllllllllllll}\n",
       "  & gridCellId & meanslope & meanbathy & glacierdist & distToShore & cont300dist & cont800dist & DecemberIcePresence & Persistence2Years & PredictabilityDec5Years & ⋯ & InCanyon & canyonLength & canyonWidth & canyonMeanDepth & gtID & InTrough & troughArea & invlogDistToShore & adpepresent & empepresent\\\\\n",
       "  & <int> & <dbl> & <dbl> & <dbl> & <dbl> & <dbl> & <dbl> & <dbl> & <dbl> & <dbl> & ⋯ & <dbl> & <dbl> & <dbl> & <dbl> & <chr> & <dbl> & <dbl> & <dbl> & <fct> & <fct>\\\\\n",
       "\\hline\n",
       "\t1 & 1237582 & 0.4160016 & -419.2000 & 189462.14 & 20003.913 & 1196222.33 & 1155799.18 & 0 & 0 & 1 & ⋯ & 0 &      NA &      NA &       NA & NA      & 0 &       NA & 0.09171171 & no  & no \\\\\n",
       "\t2 &  984671 & 1.4886589 & -304.8900 &  17799.52 & 12814.954 &  439336.14 &  266016.31 & 0 & 0 & 3 & ⋯ & 0 &      NA &      NA &       NA & NA      & 0 &       NA & 0.09561650 & yes & no \\\\\n",
       "\t3 &  460237 & 1.4354551 & -114.2128 &  39732.55 &  1651.698 &   51279.14 &  120119.47 & 1 & 2 & 5 & ⋯ & 1 & 64.1755 & 33.8899 & 724.6881 & NA      & 0 &       NA & 0.11890374 & no  & yes\\\\\n",
       "\t4 &  653220 & 0.1438390 & -331.6700 & 200556.43 &  3978.919 &  169630.90 &   20727.01 & 1 & 2 & 4 & ⋯ & 0 &      NA &      NA &       NA & NA      & 0 &       NA & 0.10765402 & no  & no \\\\\n",
       "\t5 & 1131414 & 0.5826356 & -618.9400 &  53077.01 & 15375.090 &  839618.18 &  779608.08 & 1 & 2 & 5 & ⋯ & 0 &      NA &      NA &       NA & gtID\\_56 & 1 & 22676.05 & 0.09397994 & no  & no \\\\\n",
       "\t6 &  821605 & 0.1467698 & -353.1900 & 168943.91 &  3333.474 &  182863.90 &  100453.02 & 1 & 2 & 5 & ⋯ & 0 &      NA &      NA &       NA & NA      & 0 &       NA & 0.10974454 & no  & yes\\\\\n",
       "\\end{tabular}\n"
      ],
      "text/markdown": [
       "\n",
       "A data.frame: 6 × 51\n",
       "\n",
       "| <!--/--> | gridCellId &lt;int&gt; | meanslope &lt;dbl&gt; | meanbathy &lt;dbl&gt; | glacierdist &lt;dbl&gt; | distToShore &lt;dbl&gt; | cont300dist &lt;dbl&gt; | cont800dist &lt;dbl&gt; | DecemberIcePresence &lt;dbl&gt; | Persistence2Years &lt;dbl&gt; | PredictabilityDec5Years &lt;dbl&gt; | ⋯ ⋯ | InCanyon &lt;dbl&gt; | canyonLength &lt;dbl&gt; | canyonWidth &lt;dbl&gt; | canyonMeanDepth &lt;dbl&gt; | gtID &lt;chr&gt; | InTrough &lt;dbl&gt; | troughArea &lt;dbl&gt; | invlogDistToShore &lt;dbl&gt; | adpepresent &lt;fct&gt; | empepresent &lt;fct&gt; |\n",
       "|---|---|---|---|---|---|---|---|---|---|---|---|---|---|---|---|---|---|---|---|---|---|\n",
       "| 1 | 1237582 | 0.4160016 | -419.2000 | 189462.14 | 20003.913 | 1196222.33 | 1155799.18 | 0 | 0 | 1 | ⋯ | 0 |      NA |      NA |       NA | NA      | 0 |       NA | 0.09171171 | no  | no  |\n",
       "| 2 |  984671 | 1.4886589 | -304.8900 |  17799.52 | 12814.954 |  439336.14 |  266016.31 | 0 | 0 | 3 | ⋯ | 0 |      NA |      NA |       NA | NA      | 0 |       NA | 0.09561650 | yes | no  |\n",
       "| 3 |  460237 | 1.4354551 | -114.2128 |  39732.55 |  1651.698 |   51279.14 |  120119.47 | 1 | 2 | 5 | ⋯ | 1 | 64.1755 | 33.8899 | 724.6881 | NA      | 0 |       NA | 0.11890374 | no  | yes |\n",
       "| 4 |  653220 | 0.1438390 | -331.6700 | 200556.43 |  3978.919 |  169630.90 |   20727.01 | 1 | 2 | 4 | ⋯ | 0 |      NA |      NA |       NA | NA      | 0 |       NA | 0.10765402 | no  | no  |\n",
       "| 5 | 1131414 | 0.5826356 | -618.9400 |  53077.01 | 15375.090 |  839618.18 |  779608.08 | 1 | 2 | 5 | ⋯ | 0 |      NA |      NA |       NA | gtID_56 | 1 | 22676.05 | 0.09397994 | no  | no  |\n",
       "| 6 |  821605 | 0.1467698 | -353.1900 | 168943.91 |  3333.474 |  182863.90 |  100453.02 | 1 | 2 | 5 | ⋯ | 0 |      NA |      NA |       NA | NA      | 0 |       NA | 0.10974454 | no  | yes |\n",
       "\n"
      ],
      "text/plain": [
       "  gridCellId meanslope meanbathy glacierdist distToShore cont300dist\n",
       "1 1237582    0.4160016 -419.2000 189462.14   20003.913   1196222.33 \n",
       "2  984671    1.4886589 -304.8900  17799.52   12814.954    439336.14 \n",
       "3  460237    1.4354551 -114.2128  39732.55    1651.698     51279.14 \n",
       "4  653220    0.1438390 -331.6700 200556.43    3978.919    169630.90 \n",
       "5 1131414    0.5826356 -618.9400  53077.01   15375.090    839618.18 \n",
       "6  821605    0.1467698 -353.1900 168943.91    3333.474    182863.90 \n",
       "  cont800dist DecemberIcePresence Persistence2Years PredictabilityDec5Years ⋯\n",
       "1 1155799.18  0                   0                 1                       ⋯\n",
       "2  266016.31  0                   0                 3                       ⋯\n",
       "3  120119.47  1                   2                 5                       ⋯\n",
       "4   20727.01  1                   2                 4                       ⋯\n",
       "5  779608.08  1                   2                 5                       ⋯\n",
       "6  100453.02  1                   2                 5                       ⋯\n",
       "  InCanyon canyonLength canyonWidth canyonMeanDepth gtID    InTrough troughArea\n",
       "1 0             NA           NA           NA        NA      0              NA  \n",
       "2 0             NA           NA           NA        NA      0              NA  \n",
       "3 1        64.1755      33.8899     724.6881        NA      0              NA  \n",
       "4 0             NA           NA           NA        NA      0              NA  \n",
       "5 0             NA           NA           NA        gtID_56 1        22676.05  \n",
       "6 0             NA           NA           NA        NA      0              NA  \n",
       "  invlogDistToShore adpepresent empepresent\n",
       "1 0.09171171        no          no         \n",
       "2 0.09561650        yes         no         \n",
       "3 0.11890374        no          yes        \n",
       "4 0.10765402        no          no         \n",
       "5 0.09397994        no          no         \n",
       "6 0.10974454        no          yes        "
      ]
     },
     "metadata": {},
     "output_type": "display_data"
    }
   ],
   "source": [
    "save(wesedf2,bootsamp,file=\"~/Workspace/ContinentalWESEestimates/data/WESEdata_forContinentalAnalyses.RData\")\n",
    "head(bootsamp[[3]])"
   ]
  },
  {
   "cell_type": "code",
   "execution_count": 27,
   "metadata": {},
   "outputs": [
    {
     "data": {
      "image/png": "[encoded data removed]",
      "text/plain": [
       "plot without title"
      ]
     },
     "metadata": {
      "image/png": {
       "height": 420,
       "width": 420
      },
      "text/plain": {
       "height": 420,
       "width": 420
      }
     },
     "output_type": "display_data"
    },
    {
     "data": {
      "image/png": "[encoded data removed]",
      "text/plain": [
       "plot without title"
      ]
     },
     "metadata": {
      "image/png": {
       "height": 420,
       "width": 420
      },
      "text/plain": {
       "height": 420,
       "width": 420
      }
     },
     "output_type": "display_data"
    },
    {
     "data": {
      "image/png": "[encoded data removed]",
      "text/plain": [
       "plot without title"
      ]
     },
     "metadata": {
      "image/png": {
       "height": 420,
       "width": 420
      },
      "text/plain": {
       "height": 420,
       "width": 420
      }
     },
     "output_type": "display_data"
    }
   ],
   "source": [
    "bdf<-bootsamp[[66]]\n",
    "bdf$Present<-ifelse(bdf$presence==0,\"No\",\"Yes\")\n",
    "ggplot(bdf,aes(x=logdistToShore)) + geom_histogram(aes(fill=Present),bins=44)\n",
    "ggplot(bdf,aes(x=distToShore)) + geom_histogram(aes(fill=Present),bins=44)\n",
    "ggplot(subset(bdf,presence==0),aes(x=distToShore)) + geom_histogram(bins=44)"
   ]
  },
  {
   "cell_type": "markdown",
   "metadata": {},
   "source": [
    "__Regarding #3__ we use the function \"fitModelToBootstrap\" to fit a simple or generalized regression model to the full ensemble. The function just requires a formula, the ensemble as generated above, and the error family link (by default the Gaussian, which is a normal error).  \n",
    "  \n",
    "The default behavior (i.e., Gaussian error) fits a normal linear model. Otherwise, use \"poisson\" if you think it is appropriate for the counts, or \"binomial\" if fitting logistic regressions (that is, if you set the setBinomial parameter to TRUE when generating the ensemble above). In the case of poisson or logistic regression, a generalized linear model is fit. We can add a negative binomial option later, to accommodate for overdispersion. But for now let's start working with this to get it going.  \n",
    "  \n",
    "Whether fitting a simple regression or a generalized liner model, the output is the same, with the exception that R-squared values cannot be obtained from a GLM. Instead, the function returns the residual deviance of the model for each sample bootstrap.  \n",
    "  \n",
    "The function returns a list with 3 objects: coefficients, goodness-of-fit data, and residuals. But because it performs the model fit on an ensemble of data, it returns a collection of results within each of the above objects.  \n",
    "  \n",
    "For example, the coefficients object is actually 4 data.frames. Each data.frame has as many columns as datasets in the ensemble (from the example above, 100 columns), and each row in the data.frame is a different coefficient from the model. The four data.frames are, respectively: the coefficient estimates, their standard errors, t-values and p-values.  \n",
    "  \n",
    "The residuals data is a single data.frame: each row is a datum in the ensemble, each column is the set of residuals for each model fit. Since every bootstrap sample has 3368 records, this data.frame would have 3368 rows and 100 columns.\n",
    "  \n",
    "The GOF data is also only one data.frame. But unlike the other results above, each column is a GOF paramter, and each row is a different ensemble result. So, it has 4 columns: the degees of freedom of the model, the AIC of the model, the -2*logLikelyhood of the model, and the R-squared or residual deviance. Therefore, for example, with the above bootstrap ensemble the function would return a data.frame of 4 columns, and 100 rows.  \n",
    "  \n",
    "Let's try it. See the notebook called ContinentalWESE_regressionAnalyses."
   ]
  },
  {
   "cell_type": "code",
   "execution_count": null,
   "metadata": {},
   "outputs": [],
   "source": []
  }
 ],
 "metadata": {
  "kernelspec": {
   "display_name": "R",
   "language": "R",
   "name": "ir"
  },
  "language_info": {
   "codemirror_mode": "r",
   "file_extension": ".r",
   "mimetype": "text/x-r-source",
   "name": "R",
   "pygments_lexer": "r",
   "version": "3.4.4"
  }
 },
 "nbformat": 4,
 "nbformat_minor": 2
}
