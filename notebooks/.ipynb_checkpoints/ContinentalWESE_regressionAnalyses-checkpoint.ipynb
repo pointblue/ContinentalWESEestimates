{
 "cells": [
  {
   "cell_type": "markdown",
   "metadata": {},
   "source": [
    "# This notebook contains the final regression analysis code"
   ]
  },
  {
   "cell_type": "markdown",
   "metadata": {},
   "source": [
    "It follows from the data generated in the notebook called \"Prepare_WESE_analysisData\""
   ]
  },
  {
   "cell_type": "code",
   "execution_count": 2,
   "metadata": {},
   "outputs": [
    {
     "data": {
      "text/html": [
       "<ol>\n",
       "\t<li>TRUE</li>\n",
       "\t<li>TRUE</li>\n",
       "\t<li>TRUE</li>\n",
       "\t<li>TRUE</li>\n",
       "\t<li>TRUE</li>\n",
       "\t<li>TRUE</li>\n",
       "\t<li>TRUE</li>\n",
       "\t<li>TRUE</li>\n",
       "</ol>\n"
      ],
      "text/latex": [
       "\\begin{enumerate}\n",
       "\\item TRUE\n",
       "\\item TRUE\n",
       "\\item TRUE\n",
       "\\item TRUE\n",
       "\\item TRUE\n",
       "\\item TRUE\n",
       "\\item TRUE\n",
       "\\item TRUE\n",
       "\\end{enumerate}\n"
      ],
      "text/markdown": [
       "1. TRUE\n",
       "2. TRUE\n",
       "3. TRUE\n",
       "4. TRUE\n",
       "5. TRUE\n",
       "6. TRUE\n",
       "7. TRUE\n",
       "8. TRUE\n",
       "\n",
       "\n"
      ],
      "text/plain": [
       "[[1]]\n",
       "[1] TRUE\n",
       "\n",
       "[[2]]\n",
       "[1] TRUE\n",
       "\n",
       "[[3]]\n",
       "[1] TRUE\n",
       "\n",
       "[[4]]\n",
       "[1] TRUE\n",
       "\n",
       "[[5]]\n",
       "[1] TRUE\n",
       "\n",
       "[[6]]\n",
       "[1] TRUE\n",
       "\n",
       "[[7]]\n",
       "[1] TRUE\n",
       "\n",
       "[[8]]\n",
       "[1] TRUE\n"
      ]
     },
     "metadata": {},
     "output_type": "display_data"
    }
   ],
   "source": [
    "## Load libraries\n",
    "libs<-c(\"ggplot2\",\"plyr\",\"dplyr\",\"jsonlite\",\"plot3D\",\"caret\",\"plotROC\",\"lmtest\")\n",
    "lapply(libs, require, character.only = TRUE)\n",
    "pathToLocalGit<-\"C:/Users/lsalas/git/ContinentalWESEestimates/\"\n",
    "\n",
    "## Load the source utility functions file\n",
    "source(file=paste0(pathToLocalGit,\"scripts/fitRegressionModels_functions.R\"))\n",
    "\n",
    "#load the data\n",
    "load(file=\"C:/Users/lsalas/git/ContinentalWESEestimates/data/WESEdata_forContinentalAnalyses.RData\")"
   ]
  },
  {
   "cell_type": "markdown",
   "metadata": {},
   "source": [
    "### Here are the covariates to use in the models.\n",
    "Use linear and quadratic forms for the numerics, and combinations between numerics and factors. Quadratics must be added to the equation as so: I(distToShore^2). Combining numerics and factors means a slope of the numeric for each level of the factor.   \n",
    "   \n",
    "Numeric:   \n",
    "  * scaledmeanslope   \n",
    "  * logmeanbathy  \n",
    "  * logglacierdist  \n",
    "  * logdistToShore  \n",
    "  * logcont300dist  \n",
    "  * logcont800dist  \n",
    "  * logdistNearestIceEdge  \n",
    "  * logfastIceWidth  \n",
    "  * logempedist  \n",
    "  * logadpedist  \n",
    "  * logADPEabund  \n",
    "  * logEMPEabund  \n",
    "  * fastIceRatio  \n",
    "  * Persistence2Years (3 levels: 0, 1, 2)  \n",
    "  * PredictabilityDec5Years (6 levels: 0, 1,...,5)\n",
    "  * Persistence3Years (4 levels: 0, 1, 2, 3)  \n",
    "  * PredictabilityOct5Years (6 levels: 0, 1,...,5)\n",
    "  \n",
    "Factors:  \n",
    "  * DecemberIcePresence (0/1)    \n",
    "  * InCanyon (0/1)  \n",
    "  * InTrough (0/1)  \n",
    "  * Region - reference: Ross Sea\n",
    "  * adpepresent (yes/no)\n",
    "  * empepresent (yes/no)"
   ]
  },
  {
   "cell_type": "code",
   "execution_count": 3,
   "metadata": {},
   "outputs": [],
   "source": [
    "#THIS IS THE \"FULL\" MODEL as per convo July 6 US-time\n",
    "fml<-paste0(\"presence~scaledmeanslope+I(scaledmeanslope^2)+logmeanbathy+adpepresent*logadpedist+empepresent*logempedist+\",\n",
    "            \"I(logempedist^2)+I(logadpedist^2)+logEMPEabund+logADPEabund*Region+Region*PredictabilityOct5Years+\",\n",
    "            \"logdistToShore+I(logdistToShore^2)+Region*logcont300dist+InCanyon+\",\n",
    "            \"Region*fastIceRatio+Region*logglacierdist\")\n",
    "reslst<-fitModelToBootstrap(fml=fml,datalist=bootsamp,fam=\"binomial\")\n",
    "## Note: not indicating the family so it defaults to \"gaussian\" and fits a simple regression"
   ]
  },
  {
   "cell_type": "code",
   "execution_count": 19,
   "metadata": {},
   "outputs": [
    {
     "name": "stdout",
     "output_type": "stream",
     "text": [
      "                  Parameter     Value Nboot\n",
      "Df                       Df  2885.000   100\n",
      "AIC                     AIC  2956.328   100\n",
      "LogLik               LogLik -1439.164   100\n",
      "ResidDeviance ResidDeviance  2878.328   100\n"
     ]
    }
   ],
   "source": [
    "gofres<-summarizeResults(fitobj=reslst,what=\"gof\")\n",
    "print(gofres)"
   ]
  },
  {
   "cell_type": "markdown",
   "metadata": {},
   "source": [
    "Let's examine the results, starting with a summary of the coefficients. For this we use the function \"summarizeResults\". The function has two arguments: the fitobj is the object resulting from using the fitModelToBootstrap function above (in our example, fitobj is reslst), and the \"what\" parameter. This parameter has three possible values: \"coefs\", \"gof\", or \"resids\". The latter is the vector of average residuals. Let's look at the coefficients and the goodness-of-fit results."
   ]
  },
  {
   "cell_type": "code",
   "execution_count": 20,
   "metadata": {},
   "outputs": [
    {
     "name": "stdout",
     "output_type": "stream",
     "text": [
      "                                Parameter Coefficient StError z_value Prob_t\n",
      "1                             (Intercept)      91.625  14.321   6.386  0.000\n",
      "2                         scaledmeanslope       0.337   0.154   2.199  0.071\n",
      "3                    I(scaledmeanslope^2)      -0.079   0.035  -2.278  0.068\n",
      "4                            logmeanbathy       0.261   0.083   3.119  0.013\n",
      "5                           adpepresentno     -17.469   4.071  -4.291  0.001\n",
      "6                             logadpedist       2.721   0.973   2.806  0.020\n",
      "7                           empepresentno      11.751   3.637   3.174  0.016\n",
      "8                             logempedist     -12.317   1.571  -7.804  0.000\n",
      "9                        I(logempedist^2)       0.559   0.075   7.463  0.000\n",
      "10                       I(logadpedist^2)      -0.166   0.053  -3.156  0.009\n",
      "11                           logEMPEabund      -0.140   0.047  -2.956  0.013\n",
      "12                           logADPEabund      -0.024   0.047  -0.503  0.522\n",
      "13                          RegionA-B-WAP     -44.960  10.770  -4.176  0.000\n",
      "14                             RegionEAnt     -38.456  10.593  -3.629  0.001\n",
      "15                         RegionWedd_Sea     -44.122  10.695  -4.130  0.000\n",
      "16                PredictabilityOct5Years      -0.289   0.081  -3.562  0.003\n",
      "17                         logdistToShore       3.447   0.510   6.773  0.000\n",
      "18                    I(logdistToShore^2)      -0.257   0.032  -7.909  0.000\n",
      "19                         logcont300dist      -2.338   0.726  -3.218  0.002\n",
      "20                               InCanyon      -2.068   0.674  -3.069  0.006\n",
      "21                           fastIceRatio       0.890   0.635   1.397  0.229\n",
      "22                         logglacierdist      -1.145   0.245  -4.645  0.000\n",
      "23              adpepresentno:logadpedist       1.654   0.371   4.453  0.000\n",
      "24              empepresentno:logempedist      -1.071   0.305  -3.453  0.008\n",
      "25             logADPEabund:RegionA-B-WAP      -0.162   0.089  -1.817  0.106\n",
      "26                logADPEabund:RegionEAnt       0.095   0.040   2.416  0.052\n",
      "27            logADPEabund:RegionWedd_Sea      -0.021   0.068  -0.328  0.541\n",
      "28  RegionA-B-WAP:PredictabilityOct5Years      -0.208   0.132  -1.581  0.180\n",
      "29     RegionEAnt:PredictabilityOct5Years       0.206   0.086   2.404  0.045\n",
      "30 RegionWedd_Sea:PredictabilityOct5Years      -0.105   0.111  -0.952  0.394\n",
      "31           RegionA-B-WAP:logcont300dist       2.256   0.728   3.094  0.002\n",
      "32              RegionEAnt:logcont300dist       2.176   0.728   2.987  0.003\n",
      "33          RegionWedd_Sea:logcont300dist       2.326   0.731   3.181  0.002\n",
      "34             RegionA-B-WAP:fastIceRatio      -2.029   0.787  -2.581  0.040\n",
      "35                RegionEAnt:fastIceRatio      -0.526   0.688  -0.758  0.440\n",
      "36            RegionWedd_Sea:fastIceRatio      -1.442   0.738  -1.951  0.107\n",
      "37           RegionA-B-WAP:logglacierdist       1.492   0.317   4.696  0.000\n",
      "38              RegionEAnt:logglacierdist       0.854   0.254   3.342  0.013\n",
      "39          RegionWedd_Sea:logglacierdist       1.244   0.286   4.340  0.001\n",
      "   Nboot\n",
      "1    100\n",
      "2    100\n",
      "3    100\n",
      "4    100\n",
      "5    100\n",
      "6    100\n",
      "7    100\n",
      "8    100\n",
      "9    100\n",
      "10   100\n",
      "11   100\n",
      "12   100\n",
      "13   100\n",
      "14   100\n",
      "15   100\n",
      "16   100\n",
      "17   100\n",
      "18   100\n",
      "19   100\n",
      "20   100\n",
      "21   100\n",
      "22   100\n",
      "23   100\n",
      "24   100\n",
      "25   100\n",
      "26   100\n",
      "27   100\n",
      "28   100\n",
      "29   100\n",
      "30   100\n",
      "31   100\n",
      "32   100\n",
      "33   100\n",
      "34   100\n",
      "35   100\n",
      "36   100\n",
      "37   100\n",
      "38   100\n",
      "39   100\n"
     ]
    }
   ],
   "source": [
    "coefres<-summarizeResults(fitobj=reslst,what=\"coefs\")\n",
    "row.names(coefres)<-NULL\n",
    "print(coefres)"
   ]
  },
  {
   "cell_type": "markdown",
   "metadata": {},
   "source": [
    "## Evaluating goodness of fit\n",
    "Here we calculate the confusion matrix statistics from all the bootstrap results combined, and plot the ROC curve with all the bootstrap results combined"
   ]
  },
  {
   "cell_type": "code",
   "execution_count": null,
   "metadata": {},
   "outputs": [],
   "source": [
    "rdf<-summarizeResults(fitobj=reslst,what=\"residplot\")\n",
    "head(rdf)\n",
    "cmdf<-rdf[,c(\"predicted\",\"observed\")]\n",
    "cmdf$Predicted<-ifelse(cmdf$predicted>=0.5,\"P\",\"A\")\n",
    "cmdf$Observed<-ifelse(cmdf$observed==1,\"P\",\"A\")\n",
    "confusionMatrix(data=as.factor(cmdf$Predicted),reference=as.factor(cmdf$Observed),positive=\"P\")\n",
    "ggplot(rdf, aes(m = predicted, d = observed)) + geom_roc() + geom_rocci()"
   ]
  },
  {
   "cell_type": "markdown",
   "metadata": {},
   "source": [
    "The curve looks good, and accuracy is 76%."
   ]
  },
  {
   "cell_type": "code",
   "execution_count": null,
   "metadata": {},
   "outputs": [],
   "source": [
    "#THIS IS THE SECOND MODEL reslst2 WITH NO OCT5YRS AT ALL\n",
    "fml<-paste0(\"presence~scaledmeanslope+I(scaledmeanslope^2)+logmeanbathy+adpepresent*logadpedist+empepresent*logempedist+\",\n",
    "            \"I(logempedist^2)+I(logadpedist^2)+logEMPEabund+logADPEabund*Region+\",\n",
    "            \"logdistToShore+I(logdistToShore^2)+Region*logcont300dist+InCanyon+\",\n",
    "            \"Region*fastIceRatio+Region*logglacierdist\")\n",
    "reslst2<-fitModelToBootstrap(fml=fml,datalist=bootsamp,fam=\"binomial\")\n",
    "gofres2<-summarizeResults(fitobj=reslst2,what=\"gof\")"
   ]
  },
  {
   "cell_type": "code",
   "execution_count": null,
   "metadata": {
    "scrolled": true
   },
   "outputs": [],
   "source": [
    "#Example printing coefficients - do where needed\n",
    "coefres<-summarizeResults(fitobj=reslst2,what=\"coefs\")\n",
    "row.names(coefres)<-NULL\n",
    "print(coefres)"
   ]
  },
  {
   "cell_type": "code",
   "execution_count": null,
   "metadata": {},
   "outputs": [],
   "source": [
    "#THIS IS THE THIRD MODEL restlst3 WITH NO REGION-OCTOBER5YRS INTERACTION\n",
    "fml<-paste0(\"presence~scaledmeanslope+I(scaledmeanslope^2)+logmeanbathy+adpepresent*logadpedist+empepresent*logempedist+\",\n",
    "            \"I(logempedist^2)+I(logadpedist^2)+logEMPEabund+logADPEabund*Region+PredictabilityOct5Years+\",\n",
    "            \"logdistToShore+I(logdistToShore^2)+Region*logcont300dist+InCanyon+\",\n",
    "            \"Region*fastIceRatio+Region*logglacierdist\")\n",
    "reslst3<-fitModelToBootstrap(fml=fml,datalist=bootsamp,fam=\"binomial\")\n",
    "gofres3<-summarizeResults(fitobj=reslst3,what=\"gof\")"
   ]
  },
  {
   "cell_type": "code",
   "execution_count": null,
   "metadata": {},
   "outputs": [],
   "source": [
    "#THIS IS THE FOURTH MODEL restlst4 NO 300CONTDIST AT ALL\n",
    "fml<-paste0(\"presence~scaledmeanslope+I(scaledmeanslope^2)+logmeanbathy+adpepresent*logadpedist+empepresent*logempedist+\",\n",
    "            \"I(logempedist^2)+I(logadpedist^2)+logEMPEabund+logADPEabund*Region+Region*PredictabilityOct5Years+\",\n",
    "            \"logdistToShore+I(logdistToShore^2)+InCanyon+\",\n",
    "            \"Region*fastIceRatio+Region*logglacierdist\")\n",
    "reslst4<-fitModelToBootstrap(fml=fml,datalist=bootsamp,fam=\"binomial\")\n",
    "gofres4<-summarizeResults(fitobj=reslst4,what=\"gof\")"
   ]
  },
  {
   "cell_type": "code",
   "execution_count": null,
   "metadata": {},
   "outputs": [],
   "source": [
    "#THIS IS THE FIFTH MODEL restlst5 NO 300CONTDIST-REGION INTERACTION\n",
    "fml<-paste0(\"presence~scaledmeanslope+I(scaledmeanslope^2)+logmeanbathy+adpepresent*logadpedist+empepresent*logempedist+\",\n",
    "            \"I(logempedist^2)+I(logadpedist^2)+logEMPEabund+logADPEabund*Region+Region*PredictabilityOct5Years+\",\n",
    "            \"logdistToShore+I(logdistToShore^2)+logcont300dist+InCanyon+\",\n",
    "            \"Region*fastIceRatio+Region*logglacierdist\")\n",
    "reslst5<-fitModelToBootstrap(fml=fml,datalist=bootsamp,fam=\"binomial\")\n",
    "gofres5<-summarizeResults(fitobj=reslst5,what=\"gof\")\n",
    "## Note: not indicating the family so it defaults to \"gaussian\" and fits a simple regression"
   ]
  },
  {
   "cell_type": "code",
   "execution_count": null,
   "metadata": {},
   "outputs": [],
   "source": [
    "#THIS IS THE SIXTH MODEL restlst6 FAST ICE RATIO AT ALL\n",
    "fml<-paste0(\"presence~scaledmeanslope+I(scaledmeanslope^2)+logmeanbathy+adpepresent*logadpedist+empepresent*logempedist+\",\n",
    "            \"I(logempedist^2)+I(logadpedist^2)+logEMPEabund+logADPEabund*Region+Region*PredictabilityOct5Years+\",\n",
    "            \"logdistToShore+I(logdistToShore^2)+Region*logcont300dist+InCanyon+\",\n",
    "            \"Region*logglacierdist\")\n",
    "reslst6<-fitModelToBootstrap(fml=fml,datalist=bootsamp,fam=\"binomial\")\n",
    "gofres6<-summarizeResults(fitobj=reslst6,what=\"gof\")"
   ]
  },
  {
   "cell_type": "code",
   "execution_count": null,
   "metadata": {},
   "outputs": [],
   "source": [
    "#THIS IS SIXTH MODEL\n",
    "gofres<-summarizeResults(fitobj=reslst6,what=\"gof\")\n",
    "print(gofres)"
   ]
  },
  {
   "cell_type": "code",
   "execution_count": null,
   "metadata": {
    "scrolled": true
   },
   "outputs": [],
   "source": [
    "#NO FAST ICE RATIO AT ALL\n",
    "coefres<-summarizeResults(fitobj=reslst6,what=\"coefs\")\n",
    "row.names(coefres)<-NULL\n",
    "print(coefres)"
   ]
  },
  {
   "cell_type": "code",
   "execution_count": null,
   "metadata": {},
   "outputs": [],
   "source": [
    "#THIS IS THE SEVENTH MODEL restlst7 NO REGION-FAST ICE RATIO INTERACTION\n",
    "fml<-paste0(\"presence~scaledmeanslope+I(scaledmeanslope^2)+logmeanbathy+adpepresent*logadpedist+empepresent*logempedist+\",\n",
    "            \"I(logempedist^2)+I(logadpedist^2)+logEMPEabund+logADPEabund*Region+Region*PredictabilityOct5Years+\",\n",
    "            \"logdistToShore+I(logdistToShore^2)+Region*logcont300dist+InCanyon+\",\n",
    "            \"fastIceRatio+Region*logglacierdist\")\n",
    "reslst7<-fitModelToBootstrap(fml=fml,datalist=bootsamp,fam=\"binomial\")\n",
    "gofres7<-summarizeResults(fitobj=reslst7,what=\"gof\")"
   ]
  },
  {
   "cell_type": "code",
   "execution_count": null,
   "metadata": {},
   "outputs": [],
   "source": [
    "#THIS IS THE EIGHTH MODEL restlst8 NO GLACIERDIST AT ALL\n",
    "fml<-paste0(\"presence~scaledmeanslope+I(scaledmeanslope^2)+logmeanbathy+adpepresent*logadpedist+empepresent*logempedist+\",\n",
    "            \"I(logempedist^2)+I(logadpedist^2)+logEMPEabund+logADPEabund*Region+Region*PredictabilityOct5Years+\",\n",
    "            \"logdistToShore+I(logdistToShore^2)+Region*logcont300dist+InCanyon+\",\n",
    "            \"Region*fastIceRatio\")\n",
    "reslst8<-fitModelToBootstrap(fml=fml,datalist=bootsamp,fam=\"binomial\")\n",
    "gofres8<-summarizeResults(fitobj=reslst8,what=\"gof\")"
   ]
  },
  {
   "cell_type": "code",
   "execution_count": null,
   "metadata": {},
   "outputs": [],
   "source": [
    "#THIS IS THE NINTH MODEL restlst9, NO GLACIERDIST-REGION INTERACTION\n",
    "fml<-paste0(\"presence~scaledmeanslope+I(scaledmeanslope^2)+logmeanbathy+adpepresent*logadpedist+empepresent*logempedist+\",\n",
    "            \"I(logempedist^2)+I(logadpedist^2)+logEMPEabund+logADPEabund*Region+Region*PredictabilityOct5Years+\",\n",
    "            \"logdistToShore+I(logdistToShore^2)+Region*logcont300dist+InCanyon+\",\n",
    "            \"Region*fastIceRatio+logglacierdist\")\n",
    "reslst9<-fitModelToBootstrap(fml=fml,datalist=bootsamp,fam=\"binomial\")\n",
    "gofres9<-summarizeResults(fitobj=reslst9,what=\"gof\")"
   ]
  },
  {
   "cell_type": "code",
   "execution_count": null,
   "metadata": {},
   "outputs": [],
   "source": [
    "#THIS IS THE TENTH MODEL restlst10, NO ADPEABUNDANCE AT ALL\n",
    "fml<-paste0(\"presence~scaledmeanslope+I(scaledmeanslope^2)+logmeanbathy+adpepresent*logadpedist+empepresent*logempedist+\",\n",
    "            \"I(logempedist^2)+I(logadpedist^2)+logEMPEabund+Region*PredictabilityOct5Years+\",\n",
    "            \"logdistToShore+I(logdistToShore^2)+Region*logcont300dist+InCanyon+\",\n",
    "            \"Region*fastIceRatio+Region*logglacierdist\")\n",
    "reslst10<-fitModelToBootstrap(fml=fml,datalist=bootsamp,fam=\"binomial\")\n",
    "gofres10<-summarizeResults(fitobj=reslst10,what=\"gof\")"
   ]
  },
  {
   "cell_type": "code",
   "execution_count": null,
   "metadata": {},
   "outputs": [],
   "source": [
    "#THIS IS THE ELEVENTH MODEL restlst11, NO ADPEABUNDANCE-REGION\n",
    "fml<-paste0(\"presence~scaledmeanslope+I(scaledmeanslope^2)+logmeanbathy+adpepresent*logadpedist+empepresent*logempedist+\",\n",
    "            \"I(logempedist^2)+I(logadpedist^2)+logEMPEabund+logADPEabund+Region*PredictabilityOct5Years+\",\n",
    "            \"logdistToShore+I(logdistToShore^2)+Region*logcont300dist+InCanyon+\",\n",
    "            \"Region*fastIceRatio+Region*logglacierdist\")\n",
    "reslst11<-fitModelToBootstrap(fml=fml,datalist=bootsamp,fam=\"binomial\")\n",
    "gofres11<-summarizeResults(fitobj=reslst11,what=\"gof\")"
   ]
  },
  {
   "cell_type": "code",
   "execution_count": null,
   "metadata": {},
   "outputs": [],
   "source": [
    "#View the GOF results\n",
    "goflst<-list(Full=gofres,No_Oct5Yrs=gofres2,Region_Oct5Yrs=gofres3,No_Dist300m=gofres4,\n",
    "             Region_Dist300=gofres5,No_FastIceRatio=gofres6,Region_FastIceRatio=gofres7,No_GlacierDist=gofres8,\n",
    "             Region_GlacierDist=gofres9,NoADPEabund=gofres10,Region_ADPEabund=gofres11)\n",
    "modnames<-names(goflst)\n",
    "ldply(1:NROW(goflst),function(gg,goflst,modnames){\n",
    "    gofv<-goflst[[gg]]\n",
    "    mnm<-modnames[gg]\n",
    "    tdf<-as.data.frame(t(gofv));tdf<-tdf[2,]\n",
    "    tdf$model<-paste(\"Model\",gg)\n",
    "    tdf$modelName<-mnm\n",
    "    return(tdf)\n",
    "},goflst=goflst,modnames=modnames)"
   ]
  },
  {
   "cell_type": "code",
   "execution_count": null,
   "metadata": {},
   "outputs": [],
   "source": [
    "#Using the above example models 2-6 for now - but Michelle will change/add more to these...\n",
    "lrtdf_12<-getLRtest(reslst=reslst,contr=reslst2)\n",
    "lrtdf_13<-getLRtest(reslst=reslst,contr=reslst3)\n",
    "lrtdf_14<-getLRtest(reslst=reslst,contr=reslst4)\n",
    "lrtdf_15<-getLRtest(reslst=reslst,contr=reslst5)\n",
    "lrtdf_16<-getLRtest(reslst=reslst,contr=reslst6)\n",
    "lrtdf_17<-getLRtest(reslst=reslst,contr=reslst7)\n",
    "lrtdf_18<-getLRtest(reslst=reslst,contr=reslst8)\n",
    "lrtdf_19<-getLRtest(reslst=reslst,contr=reslst9)\n",
    "lrtdf_20<-getLRtest(reslst=reslst,contr=reslst10)\n",
    "lrtdf_21<-getLRtest(reslst=reslst,contr=reslst11)\n",
    "#... add the rest of the model contrasts above - should total 10 models (+ full), so 10 lrtdf_1#\n",
    "#then...\n",
    "lrtlst<-list(No_Oct5Yrs=lrtdf_12,Region_Oct5Yrs=lrtdf_13,No_Dist300m=lrtdf_14,\n",
    "             Region_Dist300=lrtdf_15,No_FastIceRatio=lrtdf_16,Region_FastIceRatio=lrtdf_17,No_GlacierDist=lrtdf_18,\n",
    "             Region_GlacierDist=lrtdf_19,NoADPEabund=lrtdf_20,Region_ADPEabund=lrtdf_21)\n",
    "nlrtm<-names(lrtlst)\n",
    "\n",
    "ldply(1:NROW(lrtlst),function(tt,lrtlst,nlrtm){\n",
    "    lrtm<-lrtlst[[tt]];lrtn<-nlrtm[tt]\n",
    "    lrtt<-round(as.numeric(summary(lrtm$PrChisq)),4)\n",
    "    pctsig<-sum(lrtm$PrChisq<0.05)\n",
    "    tdf<-data.frame(Model=lrtn,Mean_prChisq=lrtt[4],Median_prChisq=lrtt[3],Max_prChisq=lrtt[6],PctSig=pctsig)\n",
    "    return(tdf)\n",
    "},lrtlst=lrtlst,nlrtm=nlrtm)\n"
   ]
  },
  {
   "cell_type": "markdown",
   "metadata": {},
   "source": [
    "Above we report the mean and maximum value of the prb. Chisq of the effect. The probabilities are indeed a distribution of values, as shown below."
   ]
  },
  {
   "cell_type": "code",
   "execution_count": null,
   "metadata": {},
   "outputs": [],
   "source": [
    "## Example to show the distribution of values\n",
    "ggplot(data=lrtdf_16,aes(x=PrChisq)) + geom_histogram() "
   ]
  },
  {
   "cell_type": "code",
   "execution_count": null,
   "metadata": {},
   "outputs": [],
   "source": [
    "sum(lrtdf_17$PrChisq<0.05)"
   ]
  },
  {
   "cell_type": "markdown",
   "metadata": {},
   "source": [
    "## Partial dependence plots"
   ]
  },
  {
   "cell_type": "code",
   "execution_count": 4,
   "metadata": {},
   "outputs": [
    {
     "data": {
      "text/html": [
       "<table>\n",
       "<thead><tr><th scope=col>var</th><th scope=col>minv</th><th scope=col>maxv</th><th scope=col>meanv</th><th scope=col>medv</th><th scope=col>modv</th></tr></thead>\n",
       "<tbody>\n",
       "\t<tr><td>scaledmeanslope</td><td> 8.312824e-07  </td><td>10.67303       </td><td> 0.6429639     </td><td> 0.3885376     </td><td>NA             </td></tr>\n",
       "\t<tr><td>logmeanbathy   </td><td>-7.938042e+00  </td><td>-2.06480       </td><td>-5.6711849     </td><td>-5.7729198     </td><td>NA             </td></tr>\n",
       "\t<tr><td>adpepresent    </td><td>           NA  </td><td>      NA       </td><td>        NA     </td><td>        NA     </td><td>[\"no\",\"yes\"]   </td></tr>\n",
       "\t<tr><td>logadpedist    </td><td> 5.316402e+00  </td><td>14.30962       </td><td>11.5453116     </td><td>11.6770628     </td><td>NA             </td></tr>\n",
       "\t<tr><td>empepresent    </td><td>           NA  </td><td>      NA       </td><td>        NA     </td><td>        NA     </td><td>[\"yes\",\"no\"]   </td></tr>\n",
       "\t<tr><td>logempedist    </td><td> 4.984499e+00  </td><td>13.24255       </td><td>11.3936267     </td><td>11.5049717     </td><td>NA             </td></tr>\n",
       "</tbody>\n",
       "</table>\n"
      ],
      "text/latex": [
       "\\begin{tabular}{r|llllll}\n",
       " var & minv & maxv & meanv & medv & modv\\\\\n",
       "\\hline\n",
       "\t scaledmeanslope &  8.312824e-07   & 10.67303        &  0.6429639      &  0.3885376      & NA             \\\\\n",
       "\t logmeanbathy    & -7.938042e+00   & -2.06480        & -5.6711849      & -5.7729198      & NA             \\\\\n",
       "\t adpepresent      &            NA    &       NA         &         NA       &         NA       & {[}\"no\",\"yes\"{]}\\\\\n",
       "\t logadpedist     &  5.316402e+00   & 14.30962        & 11.5453116      & 11.6770628      & NA             \\\\\n",
       "\t empepresent      &            NA    &       NA         &         NA       &         NA       & {[}\"yes\",\"no\"{]}\\\\\n",
       "\t logempedist     &  4.984499e+00   & 13.24255        & 11.3936267      & 11.5049717      & NA             \\\\\n",
       "\\end{tabular}\n"
      ],
      "text/markdown": [
       "\n",
       "| var | minv | maxv | meanv | medv | modv |\n",
       "|---|---|---|---|---|---|\n",
       "| scaledmeanslope |  8.312824e-07   | 10.67303        |  0.6429639      |  0.3885376      | NA              |\n",
       "| logmeanbathy    | -7.938042e+00   | -2.06480        | -5.6711849      | -5.7729198      | NA              |\n",
       "| adpepresent     |            NA   |       NA        |         NA      |         NA      | [\"no\",\"yes\"]    |\n",
       "| logadpedist     |  5.316402e+00   | 14.30962        | 11.5453116      | 11.6770628      | NA              |\n",
       "| empepresent     |            NA   |       NA        |         NA      |         NA      | [\"yes\",\"no\"]    |\n",
       "| logempedist     |  4.984499e+00   | 13.24255        | 11.3936267      | 11.5049717      | NA              |\n",
       "\n"
      ],
      "text/plain": [
       "  var             minv          maxv     meanv      medv       modv        \n",
       "1 scaledmeanslope  8.312824e-07 10.67303  0.6429639  0.3885376 NA          \n",
       "2 logmeanbathy    -7.938042e+00 -2.06480 -5.6711849 -5.7729198 NA          \n",
       "3 adpepresent                NA       NA         NA         NA [\"no\",\"yes\"]\n",
       "4 logadpedist      5.316402e+00 14.30962 11.5453116 11.6770628 NA          \n",
       "5 empepresent                NA       NA         NA         NA [\"yes\",\"no\"]\n",
       "6 logempedist      4.984499e+00 13.24255 11.3936267 11.5049717 NA          "
      ]
     },
     "metadata": {},
     "output_type": "display_data"
    },
    {
     "data": {
      "text/html": [
       "<ol class=list-inline>\n",
       "\t<li>Wedd_Sea</li>\n",
       "\t<li>EAnt</li>\n",
       "\t<li>A-B-WAP</li>\n",
       "\t<li>Ross Sea</li>\n",
       "</ol>\n",
       "\n",
       "<details>\n",
       "\t<summary style=display:list-item;cursor:pointer>\n",
       "\t\t<strong>Levels</strong>:\n",
       "\t</summary>\n",
       "\t<ol class=list-inline>\n",
       "\t\t<li>'Ross Sea'</li>\n",
       "\t\t<li>'A-B-WAP'</li>\n",
       "\t\t<li>'EAnt'</li>\n",
       "\t\t<li>'Wedd_Sea'</li>\n",
       "\t</ol>\n",
       "</details>"
      ],
      "text/latex": [
       "\\begin{enumerate*}\n",
       "\\item Wedd\\_Sea\n",
       "\\item EAnt\n",
       "\\item A-B-WAP\n",
       "\\item Ross Sea\n",
       "\\end{enumerate*}\n",
       "\n",
       "\\emph{Levels}: \\begin{enumerate*}\n",
       "\\item 'Ross Sea'\n",
       "\\item 'A-B-WAP'\n",
       "\\item 'EAnt'\n",
       "\\item 'Wedd\\_Sea'\n",
       "\\end{enumerate*}\n"
      ],
      "text/markdown": [
       "1. Wedd_Sea\n",
       "2. EAnt\n",
       "3. A-B-WAP\n",
       "4. Ross Sea\n",
       "\n",
       "\n",
       "\n",
       "**Levels**: 1. 'Ross Sea'\n",
       "2. 'A-B-WAP'\n",
       "3. 'EAnt'\n",
       "4. 'Wedd_Sea'\n",
       "\n",
       "\n"
      ],
      "text/plain": [
       "[1] Wedd_Sea EAnt     A-B-WAP  Ross Sea\n",
       "Levels: Ross Sea A-B-WAP EAnt Wedd_Sea"
      ]
     },
     "metadata": {},
     "output_type": "display_data"
    }
   ],
   "source": [
    "#This is the full model, with all interactions\n",
    "fml<-paste0(\"presence~scaledmeanslope+I(scaledmeanslope^2)+logmeanbathy+adpepresent*logadpedist+empepresent*logempedist+\",\n",
    "            \"I(logempedist^2)+I(logadpedist^2)+logEMPEabund+logADPEabund*Region+Region*PredictabilityOct5Years+\",\n",
    "            \"logdistToShore+I(logdistToShore^2)+Region*logcont300dist+InCanyon+\",\n",
    "            \"Region*fastIceRatio+Region*logglacierdist\")\n",
    "#Need this description of the data\n",
    "varDesc<-getVarDesc(data=wesedf2,fml=fml)\n",
    "head(varDesc)\n",
    "unique(wesedf2$Region)"
   ]
  },
  {
   "cell_type": "code",
   "execution_count": 10,
   "metadata": {},
   "outputs": [
    {
     "data": {
      "text/html": [
       "<table>\n",
       "<thead><tr><th scope=col>logadpedist</th><th scope=col>predicted</th><th scope=col>lcl</th><th scope=col>ucl</th><th scope=col>adpedist</th><th scope=col>probWESEpresent</th></tr></thead>\n",
       "<tbody>\n",
       "\t<tr><td>5.316402 </td><td>1.863202 </td><td>-2.632494</td><td>6.651732 </td><td>0.2036498</td><td>0.8656698</td></tr>\n",
       "\t<tr><td>5.407243 </td><td>1.948370 </td><td>-2.444030</td><td>6.704722 </td><td>0.2230158</td><td>0.8752688</td></tr>\n",
       "\t<tr><td>5.498083 </td><td>2.030794 </td><td>-2.261741</td><td>6.756247 </td><td>0.2442233</td><td>0.8839925</td></tr>\n",
       "\t<tr><td>5.588924 </td><td>2.110473 </td><td>-2.085588</td><td>6.806270 </td><td>0.2674476</td><td>0.8919169</td></tr>\n",
       "\t<tr><td>5.679764 </td><td>2.187407 </td><td>-1.915533</td><td>6.854750 </td><td>0.2928804</td><td>0.8991130</td></tr>\n",
       "\t<tr><td>5.770605 </td><td>2.261597 </td><td>-1.754801</td><td>6.901643 </td><td>0.3207317</td><td>0.9056462</td></tr>\n",
       "</tbody>\n",
       "</table>\n"
      ],
      "text/latex": [
       "\\begin{tabular}{r|llllll}\n",
       " logadpedist & predicted & lcl & ucl & adpedist & probWESEpresent\\\\\n",
       "\\hline\n",
       "\t 5.316402  & 1.863202  & -2.632494 & 6.651732  & 0.2036498 & 0.8656698\\\\\n",
       "\t 5.407243  & 1.948370  & -2.444030 & 6.704722  & 0.2230158 & 0.8752688\\\\\n",
       "\t 5.498083  & 2.030794  & -2.261741 & 6.756247  & 0.2442233 & 0.8839925\\\\\n",
       "\t 5.588924  & 2.110473  & -2.085588 & 6.806270  & 0.2674476 & 0.8919169\\\\\n",
       "\t 5.679764  & 2.187407  & -1.915533 & 6.854750  & 0.2928804 & 0.8991130\\\\\n",
       "\t 5.770605  & 2.261597  & -1.754801 & 6.901643  & 0.3207317 & 0.9056462\\\\\n",
       "\\end{tabular}\n"
      ],
      "text/markdown": [
       "\n",
       "| logadpedist | predicted | lcl | ucl | adpedist | probWESEpresent |\n",
       "|---|---|---|---|---|---|\n",
       "| 5.316402  | 1.863202  | -2.632494 | 6.651732  | 0.2036498 | 0.8656698 |\n",
       "| 5.407243  | 1.948370  | -2.444030 | 6.704722  | 0.2230158 | 0.8752688 |\n",
       "| 5.498083  | 2.030794  | -2.261741 | 6.756247  | 0.2442233 | 0.8839925 |\n",
       "| 5.588924  | 2.110473  | -2.085588 | 6.806270  | 0.2674476 | 0.8919169 |\n",
       "| 5.679764  | 2.187407  | -1.915533 | 6.854750  | 0.2928804 | 0.8991130 |\n",
       "| 5.770605  | 2.261597  | -1.754801 | 6.901643  | 0.3207317 | 0.9056462 |\n",
       "\n"
      ],
      "text/plain": [
       "  logadpedist predicted lcl       ucl      adpedist  probWESEpresent\n",
       "1 5.316402    1.863202  -2.632494 6.651732 0.2036498 0.8656698      \n",
       "2 5.407243    1.948370  -2.444030 6.704722 0.2230158 0.8752688      \n",
       "3 5.498083    2.030794  -2.261741 6.756247 0.2442233 0.8839925      \n",
       "4 5.588924    2.110473  -2.085588 6.806270 0.2674476 0.8919169      \n",
       "5 5.679764    2.187407  -1.915533 6.854750 0.2928804 0.8991130      \n",
       "6 5.770605    2.261597  -1.754801 6.901643 0.3207317 0.9056462      "
      ]
     },
     "metadata": {},
     "output_type": "display_data"
    },
    {
     "name": "stderr",
     "output_type": "stream",
     "text": [
      "Warning message:\n",
      "\"Removed 5 rows containing missing values (geom_point).\""
     ]
    },
    {
     "data": {
      "image/png": "[encoded data removed]",
      "text/plain": [
       "plot without title"
      ]
     },
     "metadata": {},
     "output_type": "display_data"
    }
   ],
   "source": [
    "#1D partial dependence plot\n",
    "newdata<-getNewData(varDesc=varDesc,pdvars=\"logadpedist\",useMedian=TRUE,\n",
    "                    factorvals=data.frame(name=c(\"adpepresent\",\"empepresent\",\"Region\"),value=c(\"yes\",\"yes\",\"Ross Sea\")))\n",
    "pddata<-getpdData(reslst=reslst,newdata=newdata,pdvars=\"logadpedist\",type=\"glm\")\n",
    "pddata$adpedist<-exp(pddata$logadpedist)/1000\n",
    "pddata$probWESEpresent<-exp(pddata$predicted)/(1+exp(pddata$predicted))\n",
    "head(pddata)\n",
    "## IF Region is Ross Sea, set filter below to 80 km, otherwise 150 km\n",
    "ggplot(subset(pddata,adpedist<=80),aes(x=adpedist,y=probWESEpresent)) + \n",
    "#ggplot(pddata,aes(x=adpedist,y=probWESEpresent)) +\n",
    "    #geom_bar(stat=\"freq\")\n",
    "    #geom_ribbon(aes(ymin=lcl,ymax=ucl),fill=\"light gray\",alpha=0.5) + \n",
    "    geom_point(size=1,color=\"black\") + labs(x=\"Dist. to ADPE colony (Km)\",y=\"Prob. WESE present\") +\n",
    "    scale_x_continuous(limits=c(0,50)) +\n",
    "    theme_bw() + theme(axis.text=element_text(size=12), axis.title=element_text(size=14))"
   ]
  },
  {
   "cell_type": "code",
   "execution_count": 7,
   "metadata": {},
   "outputs": [
    {
     "data": {
      "text/html": [
       "<table>\n",
       "<thead><tr><th scope=col>logadpedist</th><th scope=col>predicted</th><th scope=col>lcl</th><th scope=col>ucl</th><th scope=col>adpedist</th><th scope=col>probWESEpresent</th><th scope=col>lower</th><th scope=col>upper</th><th scope=col>Region</th></tr></thead>\n",
       "<tbody>\n",
       "\t<tr><td>5.316402   </td><td>-1.842591  </td><td>-5.100659  </td><td>1.579672   </td><td>0.2036498  </td><td>0.1367452  </td><td>0.006055833</td><td>0.8291581  </td><td>Wedd_Sea   </td></tr>\n",
       "\t<tr><td>5.407243   </td><td>-1.757423  </td><td>-4.920627  </td><td>1.531718   </td><td>0.2230158  </td><td>0.1471134  </td><td>0.007241733</td><td>0.8222575  </td><td>Wedd_Sea   </td></tr>\n",
       "\t<tr><td>5.498083   </td><td>-1.674999  </td><td>-4.746041  </td><td>1.484435   </td><td>0.2442233  </td><td>0.1577588  </td><td>0.008611216</td><td>0.8152415  </td><td>Wedd_Sea   </td></tr>\n",
       "\t<tr><td>5.588924   </td><td>-1.595320  </td><td>-4.576911  </td><td>1.437829   </td><td>0.2674476  </td><td>0.1686367  </td><td>0.010181888</td><td>0.8081183  </td><td>Wedd_Sea   </td></tr>\n",
       "\t<tr><td>5.679764   </td><td>-1.518386  </td><td>-4.413241  </td><td>1.391905   </td><td>0.2928804  </td><td>0.1796993  </td><td>0.011970813</td><td>0.8008962  </td><td>Wedd_Sea   </td></tr>\n",
       "\t<tr><td>5.770605   </td><td>-1.444196  </td><td>-4.255034  </td><td>1.379777   </td><td>0.3207317  </td><td>0.1908965  </td><td>0.013993991</td><td>0.7989552  </td><td>Wedd_Sea   </td></tr>\n",
       "</tbody>\n",
       "</table>\n"
      ],
      "text/latex": [
       "\\begin{tabular}{r|lllllllll}\n",
       " logadpedist & predicted & lcl & ucl & adpedist & probWESEpresent & lower & upper & Region\\\\\n",
       "\\hline\n",
       "\t 5.316402    & -1.842591   & -5.100659   & 1.579672    & 0.2036498   & 0.1367452   & 0.006055833 & 0.8291581   & Wedd\\_Sea \\\\\n",
       "\t 5.407243    & -1.757423   & -4.920627   & 1.531718    & 0.2230158   & 0.1471134   & 0.007241733 & 0.8222575   & Wedd\\_Sea \\\\\n",
       "\t 5.498083    & -1.674999   & -4.746041   & 1.484435    & 0.2442233   & 0.1577588   & 0.008611216 & 0.8152415   & Wedd\\_Sea \\\\\n",
       "\t 5.588924    & -1.595320   & -4.576911   & 1.437829    & 0.2674476   & 0.1686367   & 0.010181888 & 0.8081183   & Wedd\\_Sea \\\\\n",
       "\t 5.679764    & -1.518386   & -4.413241   & 1.391905    & 0.2928804   & 0.1796993   & 0.011970813 & 0.8008962   & Wedd\\_Sea \\\\\n",
       "\t 5.770605    & -1.444196   & -4.255034   & 1.379777    & 0.3207317   & 0.1908965   & 0.013993991 & 0.7989552   & Wedd\\_Sea \\\\\n",
       "\\end{tabular}\n"
      ],
      "text/markdown": [
       "\n",
       "| logadpedist | predicted | lcl | ucl | adpedist | probWESEpresent | lower | upper | Region |\n",
       "|---|---|---|---|---|---|---|---|---|\n",
       "| 5.316402    | -1.842591   | -5.100659   | 1.579672    | 0.2036498   | 0.1367452   | 0.006055833 | 0.8291581   | Wedd_Sea    |\n",
       "| 5.407243    | -1.757423   | -4.920627   | 1.531718    | 0.2230158   | 0.1471134   | 0.007241733 | 0.8222575   | Wedd_Sea    |\n",
       "| 5.498083    | -1.674999   | -4.746041   | 1.484435    | 0.2442233   | 0.1577588   | 0.008611216 | 0.8152415   | Wedd_Sea    |\n",
       "| 5.588924    | -1.595320   | -4.576911   | 1.437829    | 0.2674476   | 0.1686367   | 0.010181888 | 0.8081183   | Wedd_Sea    |\n",
       "| 5.679764    | -1.518386   | -4.413241   | 1.391905    | 0.2928804   | 0.1796993   | 0.011970813 | 0.8008962   | Wedd_Sea    |\n",
       "| 5.770605    | -1.444196   | -4.255034   | 1.379777    | 0.3207317   | 0.1908965   | 0.013993991 | 0.7989552   | Wedd_Sea    |\n",
       "\n"
      ],
      "text/plain": [
       "  logadpedist predicted lcl       ucl      adpedist  probWESEpresent\n",
       "1 5.316402    -1.842591 -5.100659 1.579672 0.2036498 0.1367452      \n",
       "2 5.407243    -1.757423 -4.920627 1.531718 0.2230158 0.1471134      \n",
       "3 5.498083    -1.674999 -4.746041 1.484435 0.2442233 0.1577588      \n",
       "4 5.588924    -1.595320 -4.576911 1.437829 0.2674476 0.1686367      \n",
       "5 5.679764    -1.518386 -4.413241 1.391905 0.2928804 0.1796993      \n",
       "6 5.770605    -1.444196 -4.255034 1.379777 0.3207317 0.1908965      \n",
       "  lower       upper     Region  \n",
       "1 0.006055833 0.8291581 Wedd_Sea\n",
       "2 0.007241733 0.8222575 Wedd_Sea\n",
       "3 0.008611216 0.8152415 Wedd_Sea\n",
       "4 0.010181888 0.8081183 Wedd_Sea\n",
       "5 0.011970813 0.8008962 Wedd_Sea\n",
       "6 0.013993991 0.7989552 Wedd_Sea"
      ]
     },
     "metadata": {},
     "output_type": "display_data"
    },
    {
     "name": "stderr",
     "output_type": "stream",
     "text": [
      "Warning message:\n",
      "\"Removed 12 rows containing missing values (geom_path).\"Warning message:\n",
      "\"Removed 38 rows containing missing values (geom_path).\""
     ]
    },
    {
     "data": {
      "image/png": "[encoded data removed]",
      "text/plain": [
       "plot without title"
      ]
     },
     "metadata": {},
     "output_type": "display_data"
    },
    {
     "data": {
      "image/png": "[encoded data removed]",
      "text/plain": [
       "plot without title"
      ]
     },
     "metadata": {},
     "output_type": "display_data"
    }
   ],
   "source": [
    "## getting the data to plot all lines combined in one plot, with confint values as a shade...\n",
    "allregdata<-data.frame()\n",
    "for(reg in unique(wesedf2$Region)){\n",
    "    newdata<-getNewData(varDesc=varDesc,pdvars=\"logadpedist\",useMedian=TRUE,\n",
    "                    factorvals=data.frame(name=c(\"adpepresent\",\"empepresent\",\"Region\"),value=c(\"yes\",\"yes\",reg)))\n",
    "    pddata<-getpdData(reslst=reslst,newdata=newdata,pdvars=\"logadpedist\",type=\"glm\")\n",
    "    pddata$adpedist<-exp(pddata$logadpedist)/1000\n",
    "    pddata$probWESEpresent<-exp(pddata$predicted)/(1+exp(pddata$predicted))\n",
    "    pddata$lower<-exp(pddata$lcl)/(1+exp(pddata$lcl))\n",
    "    pddata$upper<-exp(pddata$ucl)/(1+exp(pddata$ucl))\n",
    "    distflt<-ifelse(reg==\"Ross Sea\",60,150)\n",
    "    pddata<-subset(pddata,adpedist<=distflt)\n",
    "    pddata$Region<-reg\n",
    "    allregdata<-rbind(allregdata,pddata)\n",
    "}\n",
    "\n",
    "head(allregdata)\n",
    "allregdata$region<-ifelse(allregdata$Region==\"A-B-WAP\",\"Amundsen-Bellingshausen-WAP\",\n",
    "                         ifelse(allregdata$Region==\"Wedd_Sea\",\"Weddell Sea\",\n",
    "                               ifelse(allregdata$Region==\"EAnt\",\"East Antarctica\",\"Ross Sea\")))\n",
    "ggplot(allregdata,aes(x=adpedist,y=probWESEpresent)) +  \n",
    "    geom_line(size=1) + labs(x=\"Distance to ADPE colony (Km)\",y=\"Probability of WESE present\") +\n",
    "    geom_ribbon(aes(ymin=lower,ymax=upper),fill=\"light gray\",alpha=0.5) +\n",
    "    scale_x_continuous(limits=c(0,50)) +\n",
    "    theme_bw() + theme(axis.text=element_text(size=12), axis.title=element_text(size=14)) +\n",
    "    facet_wrap(~region,ncol=2,scales=\"free_y\")\n",
    "\n",
    "ggplot(allregdata,aes(x=adpedist,y=probWESEpresent)) +  \n",
    "    geom_line(size=1,aes(color=Region)) + labs(x=\"Distance to ADPE colony (Km)\",y=\"Probability of WESE present\") +\n",
    "    geom_ribbon(aes(ymin=lower,ymax=upper,fill=Region),alpha=0.5) +\n",
    "    scale_x_continuous(limits=c(0,50)) +\n",
    "    theme_bw() + theme(axis.text=element_text(size=12), axis.title=element_text(size=14)) "
   ]
  },
  {
   "cell_type": "code",
   "execution_count": 9,
   "metadata": {},
   "outputs": [
    {
     "data": {
      "text/html": [
       "<table>\n",
       "<thead><tr><th scope=col>predicted</th><th scope=col>lcl</th><th scope=col>ucl</th><th scope=col>varValue</th><th scope=col>probWESEpresent</th><th scope=col>lower</th><th scope=col>upper</th><th scope=col>Variable</th></tr></thead>\n",
       "<tbody>\n",
       "\t<tr><td>1.076239       </td><td>-2.304078      </td><td>5.237811       </td><td>8.312824e-07   </td><td>0.7457815      </td><td>0.09078576     </td><td>0.9947162      </td><td>scaledmeanslope</td></tr>\n",
       "\t<tr><td>1.111620       </td><td>-2.261517      </td><td>5.280527       </td><td>1.078092e-01   </td><td>0.7524310      </td><td>0.09436065     </td><td>0.9949360      </td><td>scaledmeanslope</td></tr>\n",
       "\t<tr><td>1.145156       </td><td>-2.221196      </td><td>5.321099       </td><td>2.156176e-01   </td><td>0.7586250      </td><td>0.09786315     </td><td>0.9951364      </td><td>scaledmeanslope</td></tr>\n",
       "\t<tr><td>1.176846       </td><td>-2.183049      </td><td>5.359482       </td><td>3.234260e-01   </td><td>0.7643802      </td><td>0.10128303     </td><td>0.9953187      </td><td>scaledmeanslope</td></tr>\n",
       "\t<tr><td>1.206690       </td><td>-2.147014      </td><td>5.395631       </td><td>4.312344e-01   </td><td>0.7697128      </td><td>0.10461060     </td><td>0.9954841      </td><td>scaledmeanslope</td></tr>\n",
       "\t<tr><td>1.234689       </td><td>-2.113031      </td><td>5.429508       </td><td>5.390428e-01   </td><td>0.7746381      </td><td>0.10783674     </td><td>0.9956339      </td><td>scaledmeanslope</td></tr>\n",
       "</tbody>\n",
       "</table>\n"
      ],
      "text/latex": [
       "\\begin{tabular}{r|llllllll}\n",
       " predicted & lcl & ucl & varValue & probWESEpresent & lower & upper & Variable\\\\\n",
       "\\hline\n",
       "\t 1.076239        & -2.304078       & 5.237811        & 8.312824e-07    & 0.7457815       & 0.09078576      & 0.9947162       & scaledmeanslope\\\\\n",
       "\t 1.111620        & -2.261517       & 5.280527        & 1.078092e-01    & 0.7524310       & 0.09436065      & 0.9949360       & scaledmeanslope\\\\\n",
       "\t 1.145156        & -2.221196       & 5.321099        & 2.156176e-01    & 0.7586250       & 0.09786315      & 0.9951364       & scaledmeanslope\\\\\n",
       "\t 1.176846        & -2.183049       & 5.359482        & 3.234260e-01    & 0.7643802       & 0.10128303      & 0.9953187       & scaledmeanslope\\\\\n",
       "\t 1.206690        & -2.147014       & 5.395631        & 4.312344e-01    & 0.7697128       & 0.10461060      & 0.9954841       & scaledmeanslope\\\\\n",
       "\t 1.234689        & -2.113031       & 5.429508        & 5.390428e-01    & 0.7746381       & 0.10783674      & 0.9956339       & scaledmeanslope\\\\\n",
       "\\end{tabular}\n"
      ],
      "text/markdown": [
       "\n",
       "| predicted | lcl | ucl | varValue | probWESEpresent | lower | upper | Variable |\n",
       "|---|---|---|---|---|---|---|---|\n",
       "| 1.076239        | -2.304078       | 5.237811        | 8.312824e-07    | 0.7457815       | 0.09078576      | 0.9947162       | scaledmeanslope |\n",
       "| 1.111620        | -2.261517       | 5.280527        | 1.078092e-01    | 0.7524310       | 0.09436065      | 0.9949360       | scaledmeanslope |\n",
       "| 1.145156        | -2.221196       | 5.321099        | 2.156176e-01    | 0.7586250       | 0.09786315      | 0.9951364       | scaledmeanslope |\n",
       "| 1.176846        | -2.183049       | 5.359482        | 3.234260e-01    | 0.7643802       | 0.10128303      | 0.9953187       | scaledmeanslope |\n",
       "| 1.206690        | -2.147014       | 5.395631        | 4.312344e-01    | 0.7697128       | 0.10461060      | 0.9954841       | scaledmeanslope |\n",
       "| 1.234689        | -2.113031       | 5.429508        | 5.390428e-01    | 0.7746381       | 0.10783674      | 0.9956339       | scaledmeanslope |\n",
       "\n"
      ],
      "text/plain": [
       "  predicted lcl       ucl      varValue     probWESEpresent lower     \n",
       "1 1.076239  -2.304078 5.237811 8.312824e-07 0.7457815       0.09078576\n",
       "2 1.111620  -2.261517 5.280527 1.078092e-01 0.7524310       0.09436065\n",
       "3 1.145156  -2.221196 5.321099 2.156176e-01 0.7586250       0.09786315\n",
       "4 1.176846  -2.183049 5.359482 3.234260e-01 0.7643802       0.10128303\n",
       "5 1.206690  -2.147014 5.395631 4.312344e-01 0.7697128       0.10461060\n",
       "6 1.234689  -2.113031 5.429508 5.390428e-01 0.7746381       0.10783674\n",
       "  upper     Variable       \n",
       "1 0.9947162 scaledmeanslope\n",
       "2 0.9949360 scaledmeanslope\n",
       "3 0.9951364 scaledmeanslope\n",
       "4 0.9953187 scaledmeanslope\n",
       "5 0.9954841 scaledmeanslope\n",
       "6 0.9956339 scaledmeanslope"
      ]
     },
     "metadata": {},
     "output_type": "display_data"
    },
    {
     "data": {
      "image/png": "[encoded data removed]",
      "text/plain": [
       "plot without title"
      ]
     },
     "metadata": {},
     "output_type": "display_data"
    }
   ],
   "source": [
    "## Plot all the model variables that are not factors, for the Ross Sea\n",
    "allvardata<-data.frame()\n",
    "for(vv in varDesc$var){\n",
    "    if(!vv %in% c(\"Region\",\"adpepresent\",\"empepresent\")){\n",
    "        newdata<-getNewData(varDesc=varDesc,pdvars=vv,useMedian=TRUE,\n",
    "                    factorvals=data.frame(name=c(\"adpepresent\",\"empepresent\",\"Region\"),value=c(\"yes\",\"yes\",\"Ross Sea\")))\n",
    "        pddata<-getpdData(reslst=reslst,newdata=newdata,pdvars=vv,type=\"glm\")\n",
    "        if(grepl(\"log\",vv)){\n",
    "            pddata$varValue<-exp(pddata[,vv])\n",
    "            if(grepl(\"dist\",vv)){pddata$varValue<-pddata$varValue/1000}\n",
    "        }else{\n",
    "            pddata$varValue<-pddata[,vv]\n",
    "        }\n",
    "        pddata$probWESEpresent<-exp(pddata$predicted)/(1+exp(pddata$predicted))\n",
    "        pddata$lower<-exp(pddata$lcl)/(1+exp(pddata$lcl))\n",
    "        pddata$upper<-exp(pddata$ucl)/(1+exp(pddata$ucl))\n",
    "        pddata$Variable<-vv\n",
    "        pddata<-pddata[,which(names(pddata)!=vv)]\n",
    "        allvardata<-rbind(allvardata,pddata)\n",
    "    }\n",
    "}\n",
    "\n",
    "head(allvardata)\n",
    "ggplot(allvardata,aes(x=varValue,y=probWESEpresent)) +  \n",
    "    geom_line(size=1) + labs(x=\"Variable value\",y=\"Probability of WESE present\") +\n",
    "    #geom_ribbon(aes(ymin=lower,ymax=upper),fill=\"light gray\",alpha=0.5) +\n",
    "    #scale_x_continuous(limits=c(0,50)) +\n",
    "    theme_bw() + theme(axis.text=element_text(size=12), axis.title=element_text(size=14)) +\n",
    "    facet_wrap(~Variable,ncol=2,scales=\"free\")\n"
   ]
  },
  {
   "cell_type": "code",
   "execution_count": 26,
   "metadata": {},
   "outputs": [
    {
     "data": {
      "text/html": [
       "<table>\n",
       "<thead><tr><th scope=col>logglacierdist</th><th scope=col>predicted</th><th scope=col>lcl</th><th scope=col>ucl</th><th scope=col>varVal</th><th scope=col>probWESEpresent</th></tr></thead>\n",
       "<tbody>\n",
       "\t<tr><td>5.551736  </td><td>-3.766147 </td><td>-8.839989 </td><td>0.9769765 </td><td>0.2576844 </td><td>0.02261765</td></tr>\n",
       "\t<tr><td>5.625941  </td><td>-3.740345 </td><td>-8.746011 </td><td>0.9511118 </td><td>0.2775333 </td><td>0.02319512</td></tr>\n",
       "\t<tr><td>5.700146  </td><td>-3.714543 </td><td>-8.652108 </td><td>0.9253079 </td><td>0.2989111 </td><td>0.02378696</td></tr>\n",
       "\t<tr><td>5.774351  </td><td>-3.688741 </td><td>-8.558282 </td><td>0.8995670 </td><td>0.3219355 </td><td>0.02439354</td></tr>\n",
       "\t<tr><td>5.848557  </td><td>-3.662939 </td><td>-8.464537 </td><td>0.8738913 </td><td>0.3467335 </td><td>0.02501518</td></tr>\n",
       "\t<tr><td>5.922762  </td><td>-3.637137 </td><td>-8.371139 </td><td>0.8482832 </td><td>0.3734416 </td><td>0.02565225</td></tr>\n",
       "</tbody>\n",
       "</table>\n"
      ],
      "text/latex": [
       "\\begin{tabular}{r|llllll}\n",
       " logglacierdist & predicted & lcl & ucl & varVal & probWESEpresent\\\\\n",
       "\\hline\n",
       "\t 5.551736   & -3.766147  & -8.839989  & 0.9769765  & 0.2576844  & 0.02261765\\\\\n",
       "\t 5.625941   & -3.740345  & -8.746011  & 0.9511118  & 0.2775333  & 0.02319512\\\\\n",
       "\t 5.700146   & -3.714543  & -8.652108  & 0.9253079  & 0.2989111  & 0.02378696\\\\\n",
       "\t 5.774351   & -3.688741  & -8.558282  & 0.8995670  & 0.3219355  & 0.02439354\\\\\n",
       "\t 5.848557   & -3.662939  & -8.464537  & 0.8738913  & 0.3467335  & 0.02501518\\\\\n",
       "\t 5.922762   & -3.637137  & -8.371139  & 0.8482832  & 0.3734416  & 0.02565225\\\\\n",
       "\\end{tabular}\n"
      ],
      "text/markdown": [
       "\n",
       "| logglacierdist | predicted | lcl | ucl | varVal | probWESEpresent |\n",
       "|---|---|---|---|---|---|\n",
       "| 5.551736   | -3.766147  | -8.839989  | 0.9769765  | 0.2576844  | 0.02261765 |\n",
       "| 5.625941   | -3.740345  | -8.746011  | 0.9511118  | 0.2775333  | 0.02319512 |\n",
       "| 5.700146   | -3.714543  | -8.652108  | 0.9253079  | 0.2989111  | 0.02378696 |\n",
       "| 5.774351   | -3.688741  | -8.558282  | 0.8995670  | 0.3219355  | 0.02439354 |\n",
       "| 5.848557   | -3.662939  | -8.464537  | 0.8738913  | 0.3467335  | 0.02501518 |\n",
       "| 5.922762   | -3.637137  | -8.371139  | 0.8482832  | 0.3734416  | 0.02565225 |\n",
       "\n"
      ],
      "text/plain": [
       "  logglacierdist predicted lcl       ucl       varVal    probWESEpresent\n",
       "1 5.551736       -3.766147 -8.839989 0.9769765 0.2576844 0.02261765     \n",
       "2 5.625941       -3.740345 -8.746011 0.9511118 0.2775333 0.02319512     \n",
       "3 5.700146       -3.714543 -8.652108 0.9253079 0.2989111 0.02378696     \n",
       "4 5.774351       -3.688741 -8.558282 0.8995670 0.3219355 0.02439354     \n",
       "5 5.848557       -3.662939 -8.464537 0.8738913 0.3467335 0.02501518     \n",
       "6 5.922762       -3.637137 -8.371139 0.8482832 0.3734416 0.02565225     "
      ]
     },
     "metadata": {},
     "output_type": "display_data"
    },
    {
     "data": {
      "image/png": "[encoded data removed]",
      "text/plain": [
       "plot without title"
      ]
     },
     "metadata": {},
     "output_type": "display_data"
    }
   ],
   "source": [
    "#1D partial dependence plot\n",
    "newdata<-getNewData(varDesc=varDesc,pdvars=\"logglacierdist\",useMedian=TRUE,\n",
    "                    factorvals=data.frame(name=c(\"adpepresent\",\"empepresent\",\"Region\"),value=c(\"yes\",\"yes\",\"A-B-WAP\")))\n",
    "pddata<-getpdData(reslst=reslst,newdata=newdata,pdvars=\"logglacierdist\",type=\"glm\")\n",
    "pddata$varVal<-exp(pddata$logglacierdist)/1000\n",
    "pddata$probWESEpresent<-exp(pddata$predicted)/(1+exp(pddata$predicted))\n",
    "head(pddata)\n",
    "## IF Region is Ross Sea, set filter below to 80 km, otherwise 150 km\n",
    "ggplot(pddata,aes(x=varVal,y=probWESEpresent)) + \n",
    "#ggplot(pddata,aes(x=adpedist,y=probWESEpresent)) +\n",
    "    #geom_bar(stat=\"freq\")\n",
    "    #geom_ribbon(aes(ymin=lcl,ymax=ucl),fill=\"light gray\",alpha=0.5) + \n",
    "    geom_point(size=1,color=\"black\") + labs(x=\"Distance to glacier (km)\",y=\"Prob. WESE present\") +\n",
    "    #scale_x_continuous(limits=c(0,50)) +\n",
    "    theme_bw() + theme(axis.text=element_text(size=12), axis.title=element_text(size=14))"
   ]
  },
  {
   "cell_type": "code",
   "execution_count": null,
   "metadata": {},
   "outputs": [],
   "source": []
  },
  {
   "cell_type": "markdown",
   "metadata": {},
   "source": [
    "\n",
    "### 2D plot\n",
    "Need to generate the data first..."
   ]
  },
  {
   "cell_type": "code",
   "execution_count": 34,
   "metadata": {},
   "outputs": [
    {
     "data": {
      "image/png": "[encoded data removed]",
      "text/plain": [
       "Plot with title \"\""
      ]
     },
     "metadata": {},
     "output_type": "display_data"
    }
   ],
   "source": [
    "newdata<-getNewData(varDesc=varDesc,pdvars=c(\"logempedist\",\"logEMPEabund\"),useMedian=TRUE,\n",
    "                   factorvals=data.frame(name=c(\"adpepresent\",\"empepresent\",\"Region\"),value=c(\"yes\",\"yes\",\"Ross Sea\")))\n",
    "pddata<-getpdData(reslst=reslst,newdata=newdata,pdvars=c(\"logempedist\",\"logEMPEabund\"),type=\"glm\")\n",
    "zm<-matrix(pddata$predicted,ncol=100,byrow=F)\n",
    "persp3D(x=unique(pddata$logEMPEabund),y=unique(pddata$logempedist),z=zm,box=T,axes=T,ticktype=\"detailed\",\n",
    "        xlab=\"logEMPEabund\",ylab=\"log(EMPEdist)\",zlab=\"logit(seal_presence)\")"
   ]
  },
  {
   "cell_type": "code",
   "execution_count": null,
   "metadata": {},
   "outputs": [],
   "source": []
  }
 ],
 "metadata": {
  "kernelspec": {
   "display_name": "R",
   "language": "R",
   "name": "ir"
  },
  "language_info": {
   "codemirror_mode": "r",
   "file_extension": ".r",
   "mimetype": "text/x-r-source",
   "name": "R",
   "pygments_lexer": "r",
   "version": "3.6.1"
  }
 },
 "nbformat": 4,
 "nbformat_minor": 2
}
