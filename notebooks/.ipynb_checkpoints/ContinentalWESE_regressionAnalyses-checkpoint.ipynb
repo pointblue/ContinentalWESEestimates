{
 "cells": [
  {
   "cell_type": "markdown",
   "metadata": {},
   "source": [
    "# This notebook contains the final regression analysis code"
   ]
  },
  {
   "cell_type": "markdown",
   "metadata": {},
   "source": [
    "It follows from the data generated in the notebook called \"Prepare_WESE_analysisData\""
   ]
  },
  {
   "cell_type": "code",
   "execution_count": 8,
   "metadata": {
    "scrolled": false
   },
   "outputs": [
    {
     "name": "stderr",
     "output_type": "stream",
     "text": [
      "Loading required package: plot3D\n",
      "Warning message:\n",
      "\"package 'plot3D' was built under R version 3.6.3\"Loading required package: plotROC\n",
      "Warning message:\n",
      "\"package 'plotROC' was built under R version 3.6.3\"Loading required package: lmtest\n",
      "Warning message:\n",
      "\"package 'lmtest' was built under R version 3.6.3\"Loading required package: zoo\n",
      "\n",
      "Attaching package: 'zoo'\n",
      "\n",
      "The following objects are masked from 'package:base':\n",
      "\n",
      "    as.Date, as.Date.numeric\n",
      "\n"
     ]
    },
    {
     "data": {
      "text/html": [
       "<ol>\n",
       "\t<li>TRUE</li>\n",
       "\t<li>TRUE</li>\n",
       "\t<li>TRUE</li>\n",
       "\t<li>TRUE</li>\n",
       "\t<li>TRUE</li>\n",
       "\t<li>TRUE</li>\n",
       "\t<li>TRUE</li>\n",
       "\t<li>TRUE</li>\n",
       "</ol>\n"
      ],
      "text/latex": [
       "\\begin{enumerate}\n",
       "\\item TRUE\n",
       "\\item TRUE\n",
       "\\item TRUE\n",
       "\\item TRUE\n",
       "\\item TRUE\n",
       "\\item TRUE\n",
       "\\item TRUE\n",
       "\\item TRUE\n",
       "\\end{enumerate}\n"
      ],
      "text/markdown": [
       "1. TRUE\n",
       "2. TRUE\n",
       "3. TRUE\n",
       "4. TRUE\n",
       "5. TRUE\n",
       "6. TRUE\n",
       "7. TRUE\n",
       "8. TRUE\n",
       "\n",
       "\n"
      ],
      "text/plain": [
       "[[1]]\n",
       "[1] TRUE\n",
       "\n",
       "[[2]]\n",
       "[1] TRUE\n",
       "\n",
       "[[3]]\n",
       "[1] TRUE\n",
       "\n",
       "[[4]]\n",
       "[1] TRUE\n",
       "\n",
       "[[5]]\n",
       "[1] TRUE\n",
       "\n",
       "[[6]]\n",
       "[1] TRUE\n",
       "\n",
       "[[7]]\n",
       "[1] TRUE\n",
       "\n",
       "[[8]]\n",
       "[1] TRUE\n"
      ]
     },
     "metadata": {},
     "output_type": "display_data"
    }
   ],
   "source": [
    "## Load libraries\n",
    "libs<-c(\"ggplot2\",\"plyr\",\"dplyr\",\"jsonlite\",\"plot3D\",\"caret\",\"plotROC\",\"lmtest\")\n",
    "lapply(libs, require, character.only = TRUE)\n",
    "pathToLocalGit<-\"C:/Users/lsalas/git/ContinentalWESEestimates/\"\n",
    "\n",
    "## Load the source utility functions file\n",
    "source(file=paste0(pathToLocalGit,\"scripts/fitRegressionModels_functions.R\"))\n",
    "\n",
    "#load the data\n",
    "load(file=paste0(pathToLocalGit,\"data/WESEdata_forContinentalAnalyses.RData\"))"
   ]
  },
  {
   "cell_type": "markdown",
   "metadata": {},
   "source": [
    "### Here are the covariates to use in the models.\n",
    "Use linear and quadratic forms for the numerics, and combinations between numerics and factors. Quadratics must be added to the equation as so: I(distToShore^2). Combining numerics and factors means a slope of the numeric for each level of the factor.   \n",
    "   \n",
    "Numeric:   \n",
    "  * scaledmeanslope   \n",
    "  * logmeanbathy  \n",
    "  * logglacierdist  \n",
    "  * logdistToShore  \n",
    "  * logcont300dist  \n",
    "  * logcont800dist  \n",
    "  * logdistNearestIceEdge  \n",
    "  * logfastIceWidth  \n",
    "  * logempedist  \n",
    "  * logadpedist  \n",
    "  * logADPEabund  \n",
    "  * logEMPEabund  \n",
    "  * fastIceRatio  \n",
    "  * Persistence2Years (3 levels: 0, 1, 2)  \n",
    "  * PredictabilityDec5Years (6 levels: 0, 1,...,5)\n",
    "  * Persistence3Years (4 levels: 0, 1, 2, 3)  \n",
    "  * PredictabilityOct5Years (6 levels: 0, 1,...,5)\n",
    "  \n",
    "Factors:  \n",
    "  * DecemberIcePresence (0/1)    \n",
    "  * InCanyon (0/1)  \n",
    "  * InTrough (0/1)  \n",
    "  * Region - reference: Ross Sea\n",
    "  * adpepresent (0/1)"
   ]
  },
  {
   "cell_type": "code",
   "execution_count": 9,
   "metadata": {},
   "outputs": [],
   "source": [
    "#THIS IS THE \"FULL\" MODEL as per convo July 6 US-time\n",
    "fml<-paste0(\"presence~scaledmeanslope+I(scaledmeanslope^2)+logmeanbathy+adpepresent*logadpedist+empepresent*logempedist+\",\n",
    "            \"I(logempedist^2)+I(logadpedist^2)+logEMPEabund+logADPEabund*Region+Region*PredictabilityOct5Years+\",\n",
    "            \"logdistToShore+I(logdistToShore^2)+Region*logcont300dist+InCanyon+\",\n",
    "            \"Region*fastIceRatio+Region*logglacierdist\")\n",
    "reslst<-fitModelToBootstrap(fml=fml,datalist=bootsamp,fam=\"binomial\")\n",
    "## Note: not indicating the family so it defaults to \"gaussian\" and fits a simple regression"
   ]
  },
  {
   "cell_type": "code",
   "execution_count": 10,
   "metadata": {},
   "outputs": [
    {
     "name": "stdout",
     "output_type": "stream",
     "text": [
      "                  Parameter     Value Nboot\n",
      "Df                       Df  2885.000   100\n",
      "AIC                     AIC  2956.328   100\n",
      "LogLik               LogLik -1439.164   100\n",
      "ResidDeviance ResidDeviance  2878.328   100\n"
     ]
    }
   ],
   "source": [
    "gofres<-summarizeResults(fitobj=reslst,what=\"gof\")\n",
    "print(gofres)"
   ]
  },
  {
   "cell_type": "markdown",
   "metadata": {},
   "source": [
    "Let's examine the results, starting with a summary of the coefficients. For this we use the function \"summarizeResults\". The function has two arguments: the fitobj is the object resulting from using the fitModelToBootstrap function above (in our example, fitobj is reslst), and the \"what\" parameter. This parameter has three possible values: \"coefs\", \"gof\", or \"resids\". The latter is the vector of average residuals. Let's look at the coefficients and the goodness-of-fit results."
   ]
  },
  {
   "cell_type": "code",
   "execution_count": 11,
   "metadata": {},
   "outputs": [
    {
     "name": "stdout",
     "output_type": "stream",
     "text": [
      "                                Parameter Coefficient StError z_value Prob_t\n",
      "1                             (Intercept)      91.625  14.321   6.386  0.000\n",
      "2                         scaledmeanslope       0.337   0.154   2.199  0.071\n",
      "3                    I(scaledmeanslope^2)      -0.079   0.035  -2.278  0.068\n",
      "4                            logmeanbathy       0.261   0.083   3.119  0.013\n",
      "5                           adpepresentno     -17.469   4.071  -4.291  0.001\n",
      "6                             logadpedist       2.721   0.973   2.806  0.020\n",
      "7                           empepresentno      11.751   3.637   3.174  0.016\n",
      "8                             logempedist     -12.317   1.571  -7.804  0.000\n",
      "9                        I(logempedist^2)       0.559   0.075   7.463  0.000\n",
      "10                       I(logadpedist^2)      -0.166   0.053  -3.156  0.009\n",
      "11                           logEMPEabund      -0.140   0.047  -2.956  0.013\n",
      "12                           logADPEabund      -0.024   0.047  -0.503  0.522\n",
      "13                          RegionA-B-WAP     -44.960  10.770  -4.176  0.000\n",
      "14                             RegionEAnt     -38.456  10.593  -3.629  0.001\n",
      "15                         RegionWedd_Sea     -44.122  10.695  -4.130  0.000\n",
      "16                PredictabilityOct5Years      -0.289   0.081  -3.562  0.003\n",
      "17                         logdistToShore       3.447   0.510   6.773  0.000\n",
      "18                    I(logdistToShore^2)      -0.257   0.032  -7.909  0.000\n",
      "19                         logcont300dist      -2.338   0.726  -3.218  0.002\n",
      "20                               InCanyon      -2.068   0.674  -3.069  0.006\n",
      "21                           fastIceRatio       0.890   0.635   1.397  0.229\n",
      "22                         logglacierdist      -1.145   0.245  -4.645  0.000\n",
      "23              adpepresentno:logadpedist       1.654   0.371   4.453  0.000\n",
      "24              empepresentno:logempedist      -1.071   0.305  -3.453  0.008\n",
      "25             logADPEabund:RegionA-B-WAP      -0.162   0.089  -1.817  0.106\n",
      "26                logADPEabund:RegionEAnt       0.095   0.040   2.416  0.052\n",
      "27            logADPEabund:RegionWedd_Sea      -0.021   0.068  -0.328  0.541\n",
      "28  RegionA-B-WAP:PredictabilityOct5Years      -0.208   0.132  -1.581  0.180\n",
      "29     RegionEAnt:PredictabilityOct5Years       0.206   0.086   2.404  0.045\n",
      "30 RegionWedd_Sea:PredictabilityOct5Years      -0.105   0.111  -0.952  0.394\n",
      "31           RegionA-B-WAP:logcont300dist       2.256   0.728   3.094  0.002\n",
      "32              RegionEAnt:logcont300dist       2.176   0.728   2.987  0.003\n",
      "33          RegionWedd_Sea:logcont300dist       2.326   0.731   3.181  0.002\n",
      "34             RegionA-B-WAP:fastIceRatio      -2.029   0.787  -2.581  0.040\n",
      "35                RegionEAnt:fastIceRatio      -0.526   0.688  -0.758  0.440\n",
      "36            RegionWedd_Sea:fastIceRatio      -1.442   0.738  -1.951  0.107\n",
      "37           RegionA-B-WAP:logglacierdist       1.492   0.317   4.696  0.000\n",
      "38              RegionEAnt:logglacierdist       0.854   0.254   3.342  0.013\n",
      "39          RegionWedd_Sea:logglacierdist       1.244   0.286   4.340  0.001\n",
      "   Nboot\n",
      "1    100\n",
      "2    100\n",
      "3    100\n",
      "4    100\n",
      "5    100\n",
      "6    100\n",
      "7    100\n",
      "8    100\n",
      "9    100\n",
      "10   100\n",
      "11   100\n",
      "12   100\n",
      "13   100\n",
      "14   100\n",
      "15   100\n",
      "16   100\n",
      "17   100\n",
      "18   100\n",
      "19   100\n",
      "20   100\n",
      "21   100\n",
      "22   100\n",
      "23   100\n",
      "24   100\n",
      "25   100\n",
      "26   100\n",
      "27   100\n",
      "28   100\n",
      "29   100\n",
      "30   100\n",
      "31   100\n",
      "32   100\n",
      "33   100\n",
      "34   100\n",
      "35   100\n",
      "36   100\n",
      "37   100\n",
      "38   100\n",
      "39   100\n"
     ]
    }
   ],
   "source": [
    "coefres<-summarizeResults(fitobj=reslst,what=\"coefs\")\n",
    "row.names(coefres)<-NULL\n",
    "print(coefres)"
   ]
  },
  {
   "cell_type": "markdown",
   "metadata": {},
   "source": [
    "## Evaluating goodness of fit\n",
    "Here we calculate the confusion matrix statistics from all the bootstrap results combined, and plot the ROC curve with all the bootstrap results combined"
   ]
  },
  {
   "cell_type": "code",
   "execution_count": 12,
   "metadata": {},
   "outputs": [
    {
     "data": {
      "text/html": [
       "<table>\n",
       "<thead><tr><th scope=col>bootstrap</th><th scope=col>predicted</th><th scope=col>residual</th><th scope=col>observed</th></tr></thead>\n",
       "<tbody>\n",
       "\t<tr><td>1        </td><td>0.1213897</td><td>-1.138161</td><td>0        </td></tr>\n",
       "\t<tr><td>1        </td><td>0.2304915</td><td>-1.299531</td><td>0        </td></tr>\n",
       "\t<tr><td>1        </td><td>0.2461203</td><td>-1.326472</td><td>0        </td></tr>\n",
       "\t<tr><td>1        </td><td>0.4522252</td><td>-1.825568</td><td>0        </td></tr>\n",
       "\t<tr><td>1        </td><td>0.2934868</td><td>-1.415402</td><td>0        </td></tr>\n",
       "\t<tr><td>1        </td><td>0.1025082</td><td>-1.114216</td><td>0        </td></tr>\n",
       "</tbody>\n",
       "</table>\n"
      ],
      "text/latex": [
       "\\begin{tabular}{r|llll}\n",
       " bootstrap & predicted & residual & observed\\\\\n",
       "\\hline\n",
       "\t 1         & 0.1213897 & -1.138161 & 0        \\\\\n",
       "\t 1         & 0.2304915 & -1.299531 & 0        \\\\\n",
       "\t 1         & 0.2461203 & -1.326472 & 0        \\\\\n",
       "\t 1         & 0.4522252 & -1.825568 & 0        \\\\\n",
       "\t 1         & 0.2934868 & -1.415402 & 0        \\\\\n",
       "\t 1         & 0.1025082 & -1.114216 & 0        \\\\\n",
       "\\end{tabular}\n"
      ],
      "text/markdown": [
       "\n",
       "| bootstrap | predicted | residual | observed |\n",
       "|---|---|---|---|\n",
       "| 1         | 0.1213897 | -1.138161 | 0         |\n",
       "| 1         | 0.2304915 | -1.299531 | 0         |\n",
       "| 1         | 0.2461203 | -1.326472 | 0         |\n",
       "| 1         | 0.4522252 | -1.825568 | 0         |\n",
       "| 1         | 0.2934868 | -1.415402 | 0         |\n",
       "| 1         | 0.1025082 | -1.114216 | 0         |\n",
       "\n"
      ],
      "text/plain": [
       "  bootstrap predicted residual  observed\n",
       "1 1         0.1213897 -1.138161 0       \n",
       "2 1         0.2304915 -1.299531 0       \n",
       "3 1         0.2461203 -1.326472 0       \n",
       "4 1         0.4522252 -1.825568 0       \n",
       "5 1         0.2934868 -1.415402 0       \n",
       "6 1         0.1025082 -1.114216 0       "
      ]
     },
     "metadata": {},
     "output_type": "display_data"
    },
    {
     "data": {
      "text/plain": [
       "Confusion Matrix and Statistics\n",
       "\n",
       "          Reference\n",
       "Prediction      A      P\n",
       "         A 111745  36666\n",
       "         P  34455 109534\n",
       "                                          \n",
       "               Accuracy : 0.7568          \n",
       "                 95% CI : (0.7552, 0.7583)\n",
       "    No Information Rate : 0.5             \n",
       "    P-Value [Acc > NIR] : < 2.2e-16       \n",
       "                                          \n",
       "                  Kappa : 0.5135          \n",
       "                                          \n",
       " Mcnemar's Test P-Value : < 2.2e-16       \n",
       "                                          \n",
       "            Sensitivity : 0.7492          \n",
       "            Specificity : 0.7643          \n",
       "         Pos Pred Value : 0.7607          \n",
       "         Neg Pred Value : 0.7529          \n",
       "             Prevalence : 0.5000          \n",
       "         Detection Rate : 0.3746          \n",
       "   Detection Prevalence : 0.4924          \n",
       "      Balanced Accuracy : 0.7568          \n",
       "                                          \n",
       "       'Positive' Class : P               \n",
       "                                          "
      ]
     },
     "metadata": {},
     "output_type": "display_data"
    },
    {
     "data": {
      "image/png": "[encoded data removed]",
      "text/plain": [
       "plot without title"
      ]
     },
     "metadata": {},
     "output_type": "display_data"
    }
   ],
   "source": [
    "rdf<-summarizeResults(fitobj=reslst,what=\"residplot\")\n",
    "head(rdf)\n",
    "cmdf<-rdf[,c(\"predicted\",\"observed\")]\n",
    "cmdf$Predicted<-ifelse(cmdf$predicted>=0.5,\"P\",\"A\")\n",
    "cmdf$Observed<-ifelse(cmdf$observed==1,\"P\",\"A\")\n",
    "confusionMatrix(data=as.factor(cmdf$Predicted),reference=as.factor(cmdf$Observed),positive=\"P\")\n",
    "ggplot(rdf, aes(m = predicted, d = observed)) + geom_roc() + geom_rocci()"
   ]
  },
  {
   "cell_type": "markdown",
   "metadata": {},
   "source": [
    "The curve looks good, and accuracy is 76%."
   ]
  },
  {
   "cell_type": "code",
   "execution_count": 15,
   "metadata": {},
   "outputs": [],
   "source": [
    "#THIS IS THE SECOND MODEL reslst2 WITH NO OCT5YRS AT ALL\n",
    "fml<-paste0(\"presence~scaledmeanslope+I(scaledmeanslope^2)+logmeanbathy+adpepresent*logadpedist+empepresent*logempedist+\",\n",
    "            \"I(logempedist^2)+I(logadpedist^2)+logEMPEabund+logADPEabund*Region+\",\n",
    "            \"logdistToShore+I(logdistToShore^2)+Region*logcont300dist+InCanyon+\",\n",
    "            \"Region*fastIceRatio+Region*logglacierdist\")\n",
    "reslst2<-fitModelToBootstrap(fml=fml,datalist=bootsamp,fam=\"binomial\")\n",
    "gofres2<-summarizeResults(fitobj=reslst2,what=\"gof\")"
   ]
  },
  {
   "cell_type": "code",
   "execution_count": 16,
   "metadata": {
    "scrolled": true
   },
   "outputs": [
    {
     "name": "stdout",
     "output_type": "stream",
     "text": [
      "                       Parameter Coefficient StError z_value Prob_t Nboot\n",
      "1                    (Intercept)      89.842  13.179   6.802  0.000   100\n",
      "2                scaledmeanslope       0.469   0.149   3.157  0.010   100\n",
      "3           I(scaledmeanslope^2)      -0.092   0.034  -2.719  0.028   100\n",
      "4                   logmeanbathy       0.306   0.081   3.767  0.002   100\n",
      "5                  adpepresentno     -14.616   3.959  -3.693  0.004   100\n",
      "6                    logadpedist       2.256   0.953   2.377  0.049   100\n",
      "7                  empepresentno      12.411   3.540   3.454  0.009   100\n",
      "8                    logempedist     -12.471   1.535  -8.089  0.000   100\n",
      "9               I(logempedist^2)       0.570   0.073   7.796  0.000   100\n",
      "10              I(logadpedist^2)      -0.140   0.052  -2.715  0.026   100\n",
      "11                  logEMPEabund      -0.097   0.045  -2.130  0.075   100\n",
      "12                  logADPEabund       0.001   0.046   0.021  0.562   100\n",
      "13                 RegionA-B-WAP     -41.942   9.473  -4.426  0.000   100\n",
      "14                    RegionEAnt     -35.072   9.302  -3.765  0.000   100\n",
      "15                RegionWedd_Sea     -42.921   9.409  -4.563  0.000   100\n",
      "16                logdistToShore       3.629   0.498   7.295  0.000   100\n",
      "17           I(logdistToShore^2)      -0.271   0.032  -8.572  0.000   100\n",
      "18                logcont300dist      -2.086   0.627  -3.321  0.001   100\n",
      "19                      InCanyon      -2.128   0.678  -3.141  0.005   100\n",
      "20                  fastIceRatio       0.193   0.604   0.317  0.570   100\n",
      "21                logglacierdist      -1.136   0.242  -4.680  0.001   100\n",
      "22     adpepresentno:logadpedist       1.400   0.361   3.875  0.002   100\n",
      "23     empepresentno:logempedist      -1.107   0.297  -3.672  0.005   100\n",
      "24    logADPEabund:RegionA-B-WAP      -0.113   0.086  -1.325  0.243   100\n",
      "25       logADPEabund:RegionEAnt       0.085   0.038   2.230  0.075   100\n",
      "26   logADPEabund:RegionWedd_Sea      -0.015   0.066  -0.246  0.530   100\n",
      "27  RegionA-B-WAP:logcont300dist       1.914   0.630   3.035  0.003   100\n",
      "28     RegionEAnt:logcont300dist       1.918   0.629   3.044  0.003   100\n",
      "29 RegionWedd_Sea:logcont300dist       2.193   0.632   3.466  0.001   100\n",
      "30    RegionA-B-WAP:fastIceRatio      -2.157   0.736  -2.930  0.018   100\n",
      "31       RegionEAnt:fastIceRatio      -0.345   0.647  -0.529  0.530   100\n",
      "32   RegionWedd_Sea:fastIceRatio      -1.128   0.707  -1.595  0.190   100\n",
      "33  RegionA-B-WAP:logglacierdist       1.606   0.305   5.258  0.000   100\n",
      "34     RegionEAnt:logglacierdist       0.870   0.251   3.448  0.014   100\n",
      "35 RegionWedd_Sea:logglacierdist       1.313   0.280   4.669  0.000   100\n"
     ]
    }
   ],
   "source": [
    "#Example printing coefficients - do where needed\n",
    "coefres<-summarizeResults(fitobj=reslst2,what=\"coefs\")\n",
    "row.names(coefres)<-NULL\n",
    "print(coefres)"
   ]
  },
  {
   "cell_type": "code",
   "execution_count": 17,
   "metadata": {},
   "outputs": [],
   "source": [
    "#THIS IS THE THIRD MODEL restlst3 WITH NO REGION-OCTOBER5YRS INTERACTION\n",
    "fml<-paste0(\"presence~scaledmeanslope+I(scaledmeanslope^2)+logmeanbathy+adpepresent*logadpedist+empepresent*logempedist+\",\n",
    "            \"I(logempedist^2)+I(logadpedist^2)+logEMPEabund+logADPEabund*Region+PredictabilityOct5Years+\",\n",
    "            \"logdistToShore+I(logdistToShore^2)+Region*logcont300dist+InCanyon+\",\n",
    "            \"Region*fastIceRatio+Region*logglacierdist\")\n",
    "reslst3<-fitModelToBootstrap(fml=fml,datalist=bootsamp,fam=\"binomial\")\n",
    "gofres3<-summarizeResults(fitobj=reslst3,what=\"gof\")"
   ]
  },
  {
   "cell_type": "code",
   "execution_count": 18,
   "metadata": {},
   "outputs": [],
   "source": [
    "#THIS IS THE FOURTH MODEL restlst4 NO 300CONTDIST AT ALL\n",
    "fml<-paste0(\"presence~scaledmeanslope+I(scaledmeanslope^2)+logmeanbathy+adpepresent*logadpedist+empepresent*logempedist+\",\n",
    "            \"I(logempedist^2)+I(logadpedist^2)+logEMPEabund+logADPEabund*Region+Region*PredictabilityOct5Years+\",\n",
    "            \"logdistToShore+I(logdistToShore^2)+InCanyon+\",\n",
    "            \"Region*fastIceRatio+Region*logglacierdist\")\n",
    "reslst4<-fitModelToBootstrap(fml=fml,datalist=bootsamp,fam=\"binomial\")\n",
    "gofres4<-summarizeResults(fitobj=reslst4,what=\"gof\")"
   ]
  },
  {
   "cell_type": "code",
   "execution_count": 19,
   "metadata": {},
   "outputs": [],
   "source": [
    "#THIS IS THE FIFTH MODEL restlst5 NO 300CONTDIST-REGION INTERACTION\n",
    "fml<-paste0(\"presence~scaledmeanslope+I(scaledmeanslope^2)+logmeanbathy+adpepresent*logadpedist+empepresent*logempedist+\",\n",
    "            \"I(logempedist^2)+I(logadpedist^2)+logEMPEabund+logADPEabund*Region+Region*PredictabilityOct5Years+\",\n",
    "            \"logdistToShore+I(logdistToShore^2)+logcont300dist+InCanyon+\",\n",
    "            \"Region*fastIceRatio+Region*logglacierdist\")\n",
    "reslst5<-fitModelToBootstrap(fml=fml,datalist=bootsamp,fam=\"binomial\")\n",
    "gofres5<-summarizeResults(fitobj=reslst5,what=\"gof\")\n",
    "## Note: not indicating the family so it defaults to \"gaussian\" and fits a simple regression"
   ]
  },
  {
   "cell_type": "code",
   "execution_count": 20,
   "metadata": {},
   "outputs": [],
   "source": [
    "#THIS IS THE SIXTH MODEL restlst6 FAST ICE RATIO AT ALL\n",
    "fml<-paste0(\"presence~scaledmeanslope+I(scaledmeanslope^2)+logmeanbathy+adpepresent*logadpedist+empepresent*logempedist+\",\n",
    "            \"I(logempedist^2)+I(logadpedist^2)+logEMPEabund+logADPEabund*Region+Region*PredictabilityOct5Years+\",\n",
    "            \"logdistToShore+I(logdistToShore^2)+Region*logcont300dist+InCanyon+\",\n",
    "            \"Region*logglacierdist\")\n",
    "reslst6<-fitModelToBootstrap(fml=fml,datalist=bootsamp,fam=\"binomial\")\n",
    "gofres6<-summarizeResults(fitobj=reslst6,what=\"gof\")"
   ]
  },
  {
   "cell_type": "code",
   "execution_count": 21,
   "metadata": {},
   "outputs": [
    {
     "name": "stdout",
     "output_type": "stream",
     "text": [
      "                  Parameter     Value Nboot\n",
      "Df                       Df  2889.000   100\n",
      "AIC                     AIC  2960.992   100\n",
      "LogLik               LogLik -1445.496   100\n",
      "ResidDeviance ResidDeviance  2890.992   100\n"
     ]
    }
   ],
   "source": [
    "#THIS IS SIXTH MODEL\n",
    "gofres<-summarizeResults(fitobj=reslst6,what=\"gof\")\n",
    "print(gofres)"
   ]
  },
  {
   "cell_type": "code",
   "execution_count": 22,
   "metadata": {
    "scrolled": true
   },
   "outputs": [
    {
     "name": "stdout",
     "output_type": "stream",
     "text": [
      "                                Parameter Coefficient StError z_value Prob_t\n",
      "1                             (Intercept)      92.214  13.950   6.598  0.000\n",
      "2                         scaledmeanslope       0.311   0.152   2.051  0.094\n",
      "3                    I(scaledmeanslope^2)      -0.075   0.035  -2.182  0.078\n",
      "4                            logmeanbathy       0.276   0.083   3.298  0.008\n",
      "5                           adpepresentno     -16.850   4.040  -4.171  0.001\n",
      "6                             logadpedist       2.487   0.970   2.572  0.032\n",
      "7                           empepresentno      11.273   3.613   3.065  0.021\n",
      "8                             logempedist     -12.107   1.556  -7.745  0.000\n",
      "9                        I(logempedist^2)       0.549   0.074   7.404  0.000\n",
      "10                       I(logadpedist^2)      -0.154   0.053  -2.938  0.015\n",
      "11                           logEMPEabund      -0.138   0.047  -2.931  0.014\n",
      "12                           logADPEabund      -0.033   0.046  -0.701  0.467\n",
      "13                          RegionA-B-WAP     -46.810  10.321  -4.538  0.000\n",
      "14                             RegionEAnt     -38.969  10.111  -3.853  0.000\n",
      "15                         RegionWedd_Sea     -45.453  10.232  -4.447  0.000\n",
      "16                PredictabilityOct5Years      -0.258   0.078  -3.329  0.006\n",
      "17                         logdistToShore       3.580   0.495   7.243  0.000\n",
      "18                    I(logdistToShore^2)      -0.265   0.031  -8.545  0.000\n",
      "19                         logcont300dist      -2.289   0.692  -3.305  0.001\n",
      "20                               InCanyon      -2.050   0.672  -3.054  0.006\n",
      "21                         logglacierdist      -1.251   0.234  -5.331  0.000\n",
      "22              adpepresentno:logadpedist       1.597   0.369   4.329  0.000\n",
      "23              empepresentno:logempedist      -1.029   0.303  -3.340  0.010\n",
      "24             logADPEabund:RegionA-B-WAP      -0.176   0.089  -1.992  0.080\n",
      "25                logADPEabund:RegionEAnt       0.102   0.038   2.656  0.032\n",
      "26            logADPEabund:RegionWedd_Sea      -0.020   0.068  -0.310  0.544\n",
      "27  RegionA-B-WAP:PredictabilityOct5Years      -0.312   0.127  -2.457  0.037\n",
      "28     RegionEAnt:PredictabilityOct5Years       0.188   0.081   2.322  0.053\n",
      "29 RegionWedd_Sea:PredictabilityOct5Years      -0.148   0.108  -1.366  0.221\n",
      "30           RegionA-B-WAP:logcont300dist       2.216   0.694   3.189  0.002\n",
      "31              RegionEAnt:logcont300dist       2.126   0.693   3.063  0.003\n",
      "32          RegionWedd_Sea:logcont300dist       2.268   0.697   3.251  0.001\n",
      "33           RegionA-B-WAP:logglacierdist       1.617   0.310   5.200  0.000\n",
      "34              RegionEAnt:logglacierdist       0.936   0.240   3.874  0.003\n",
      "35          RegionWedd_Sea:logglacierdist       1.357   0.275   4.916  0.000\n",
      "   Nboot\n",
      "1    100\n",
      "2    100\n",
      "3    100\n",
      "4    100\n",
      "5    100\n",
      "6    100\n",
      "7    100\n",
      "8    100\n",
      "9    100\n",
      "10   100\n",
      "11   100\n",
      "12   100\n",
      "13   100\n",
      "14   100\n",
      "15   100\n",
      "16   100\n",
      "17   100\n",
      "18   100\n",
      "19   100\n",
      "20   100\n",
      "21   100\n",
      "22   100\n",
      "23   100\n",
      "24   100\n",
      "25   100\n",
      "26   100\n",
      "27   100\n",
      "28   100\n",
      "29   100\n",
      "30   100\n",
      "31   100\n",
      "32   100\n",
      "33   100\n",
      "34   100\n",
      "35   100\n"
     ]
    }
   ],
   "source": [
    "#NO FAST ICE RATIO AT ALL\n",
    "coefres<-summarizeResults(fitobj=reslst6,what=\"coefs\")\n",
    "row.names(coefres)<-NULL\n",
    "print(coefres)"
   ]
  },
  {
   "cell_type": "code",
   "execution_count": 23,
   "metadata": {},
   "outputs": [],
   "source": [
    "#THIS IS THE SEVENTH MODEL restlst7 NO REGION-FAST ICE RATIO INTERACTION\n",
    "fml<-paste0(\"presence~scaledmeanslope+I(scaledmeanslope^2)+logmeanbathy+adpepresent*logadpedist+empepresent*logempedist+\",\n",
    "            \"I(logempedist^2)+I(logadpedist^2)+logEMPEabund+logADPEabund*Region+Region*PredictabilityOct5Years+\",\n",
    "            \"logdistToShore+I(logdistToShore^2)+Region*logcont300dist+InCanyon+\",\n",
    "            \"fastIceRatio+Region*logglacierdist\")\n",
    "reslst7<-fitModelToBootstrap(fml=fml,datalist=bootsamp,fam=\"binomial\")\n",
    "gofres7<-summarizeResults(fitobj=reslst7,what=\"gof\")"
   ]
  },
  {
   "cell_type": "code",
   "execution_count": 24,
   "metadata": {},
   "outputs": [],
   "source": [
    "#THIS IS THE EIGHTH MODEL restlst8 NO GLACIERDIST AT ALL\n",
    "fml<-paste0(\"presence~scaledmeanslope+I(scaledmeanslope^2)+logmeanbathy+adpepresent*logadpedist+empepresent*logempedist+\",\n",
    "            \"I(logempedist^2)+I(logadpedist^2)+logEMPEabund+logADPEabund*Region+Region*PredictabilityOct5Years+\",\n",
    "            \"logdistToShore+I(logdistToShore^2)+Region*logcont300dist+InCanyon+\",\n",
    "            \"Region*fastIceRatio\")\n",
    "reslst8<-fitModelToBootstrap(fml=fml,datalist=bootsamp,fam=\"binomial\")\n",
    "gofres8<-summarizeResults(fitobj=reslst8,what=\"gof\")"
   ]
  },
  {
   "cell_type": "code",
   "execution_count": 25,
   "metadata": {},
   "outputs": [],
   "source": [
    "#THIS IS THE NINTH MODEL restlst9, NO GLACIERDIST-REGION INTERACTION\n",
    "fml<-paste0(\"presence~scaledmeanslope+I(scaledmeanslope^2)+logmeanbathy+adpepresent*logadpedist+empepresent*logempedist+\",\n",
    "            \"I(logempedist^2)+I(logadpedist^2)+logEMPEabund+logADPEabund*Region+Region*PredictabilityOct5Years+\",\n",
    "            \"logdistToShore+I(logdistToShore^2)+Region*logcont300dist+InCanyon+\",\n",
    "            \"Region*fastIceRatio+logglacierdist\")\n",
    "reslst9<-fitModelToBootstrap(fml=fml,datalist=bootsamp,fam=\"binomial\")\n",
    "gofres9<-summarizeResults(fitobj=reslst9,what=\"gof\")"
   ]
  },
  {
   "cell_type": "code",
   "execution_count": 26,
   "metadata": {},
   "outputs": [],
   "source": [
    "#THIS IS THE TENTH MODEL restlst10, NO ADPEABUNDANCE AT ALL\n",
    "fml<-paste0(\"presence~scaledmeanslope+I(scaledmeanslope^2)+logmeanbathy+adpepresent*logadpedist+empepresent*logempedist+\",\n",
    "            \"I(logempedist^2)+I(logadpedist^2)+logEMPEabund+Region*PredictabilityOct5Years+\",\n",
    "            \"logdistToShore+I(logdistToShore^2)+Region*logcont300dist+InCanyon+\",\n",
    "            \"Region*fastIceRatio+Region*logglacierdist\")\n",
    "reslst10<-fitModelToBootstrap(fml=fml,datalist=bootsamp,fam=\"binomial\")\n",
    "gofres10<-summarizeResults(fitobj=reslst10,what=\"gof\")"
   ]
  },
  {
   "cell_type": "code",
   "execution_count": 27,
   "metadata": {},
   "outputs": [],
   "source": [
    "#THIS IS THE ELEVENTH MODEL restlst11, NO ADPEABUNDANCE-REGION\n",
    "fml<-paste0(\"presence~scaledmeanslope+I(scaledmeanslope^2)+logmeanbathy+adpepresent*logadpedist+empepresent*logempedist+\",\n",
    "            \"I(logempedist^2)+I(logadpedist^2)+logEMPEabund+logADPEabund+Region*PredictabilityOct5Years+\",\n",
    "            \"logdistToShore+I(logdistToShore^2)+Region*logcont300dist+InCanyon+\",\n",
    "            \"Region*fastIceRatio+Region*logglacierdist\")\n",
    "reslst11<-fitModelToBootstrap(fml=fml,datalist=bootsamp,fam=\"binomial\")\n",
    "gofres11<-summarizeResults(fitobj=reslst11,what=\"gof\")"
   ]
  },
  {
   "cell_type": "code",
   "execution_count": 28,
   "metadata": {},
   "outputs": [
    {
     "data": {
      "text/html": [
       "<table>\n",
       "<thead><tr><th scope=col>Df</th><th scope=col>AIC</th><th scope=col>LogLik</th><th scope=col>ResidDeviance</th><th scope=col>model</th><th scope=col>modelName</th></tr></thead>\n",
       "<tbody>\n",
       "\t<tr><td> 2889.000          </td><td> 2960.992          </td><td>-1445.496          </td><td> 2890.992          </td><td>Model 1            </td><td>Full               </td></tr>\n",
       "\t<tr><td> 2889.000          </td><td> 3029.542          </td><td>-1479.771          </td><td> 2959.542          </td><td>Model 2            </td><td>No_Oct5Yrs         </td></tr>\n",
       "\t<tr><td> 2888.00           </td><td> 2983.52           </td><td>-1455.76           </td><td> 2911.52           </td><td>Model 3            </td><td>Region_Oct5Yrs     </td></tr>\n",
       "\t<tr><td> 2889.000          </td><td> 2986.496          </td><td>-1458.248          </td><td> 2916.496          </td><td>Model 4            </td><td>No_Dist300m        </td></tr>\n",
       "\t<tr><td> 2888.000          </td><td> 2972.087          </td><td>-1450.044          </td><td> 2900.087          </td><td>Model 5            </td><td>Region_Dist300     </td></tr>\n",
       "\t<tr><td> 2889.000          </td><td> 2960.992          </td><td>-1445.496          </td><td> 2890.992          </td><td>Model 6            </td><td>No_FastIceRatio    </td></tr>\n",
       "\t<tr><td> 2888.000          </td><td> 2962.372          </td><td>-1445.186          </td><td> 2890.372          </td><td>Model 7            </td><td>Region_FastIceRatio</td></tr>\n",
       "\t<tr><td> 2889.000          </td><td> 2992.411          </td><td>-1461.205          </td><td> 2922.411          </td><td>Model 8            </td><td>No_GlacierDist     </td></tr>\n",
       "\t<tr><td> 2888.000          </td><td> 2981.979          </td><td>-1454.990          </td><td> 2909.979          </td><td>Model 9            </td><td>Region_GlacierDist </td></tr>\n",
       "\t<tr><td> 2889.000          </td><td> 2970.238          </td><td>-1450.119          </td><td> 2900.238          </td><td>Model 10           </td><td>NoADPEabund        </td></tr>\n",
       "\t<tr><td> 2888.000          </td><td> 2970.191          </td><td>-1449.096          </td><td> 2898.191          </td><td>Model 11           </td><td>Region_ADPEabund   </td></tr>\n",
       "</tbody>\n",
       "</table>\n"
      ],
      "text/latex": [
       "\\begin{tabular}{r|llllll}\n",
       " Df & AIC & LogLik & ResidDeviance & model & modelName\\\\\n",
       "\\hline\n",
       "\t  2889.000           &  2960.992           & -1445.496           &  2890.992           & Model 1             & Full               \\\\\n",
       "\t  2889.000             &  3029.542             & -1479.771             &  2959.542             & Model 2               & No\\_Oct5Yrs         \\\\\n",
       "\t  2888.00              &  2983.52              & -1455.76              &  2911.52              & Model 3               & Region\\_Oct5Yrs     \\\\\n",
       "\t  2889.000             &  2986.496             & -1458.248             &  2916.496             & Model 4               & No\\_Dist300m        \\\\\n",
       "\t  2888.000             &  2972.087             & -1450.044             &  2900.087             & Model 5               & Region\\_Dist300     \\\\\n",
       "\t  2889.000             &  2960.992             & -1445.496             &  2890.992             & Model 6               & No\\_FastIceRatio    \\\\\n",
       "\t  2888.000             &  2962.372             & -1445.186             &  2890.372             & Model 7               & Region\\_FastIceRatio\\\\\n",
       "\t  2889.000             &  2992.411             & -1461.205             &  2922.411             & Model 8               & No\\_GlacierDist     \\\\\n",
       "\t  2888.000             &  2981.979             & -1454.990             &  2909.979             & Model 9               & Region\\_GlacierDist \\\\\n",
       "\t  2889.000           &  2970.238           & -1450.119           &  2900.238           & Model 10            & NoADPEabund        \\\\\n",
       "\t  2888.000             &  2970.191             & -1449.096             &  2898.191             & Model 11              & Region\\_ADPEabund   \\\\\n",
       "\\end{tabular}\n"
      ],
      "text/markdown": [
       "\n",
       "| Df | AIC | LogLik | ResidDeviance | model | modelName |\n",
       "|---|---|---|---|---|---|\n",
       "|  2889.000           |  2960.992           | -1445.496           |  2890.992           | Model 1             | Full                |\n",
       "|  2889.000           |  3029.542           | -1479.771           |  2959.542           | Model 2             | No_Oct5Yrs          |\n",
       "|  2888.00            |  2983.52            | -1455.76            |  2911.52            | Model 3             | Region_Oct5Yrs      |\n",
       "|  2889.000           |  2986.496           | -1458.248           |  2916.496           | Model 4             | No_Dist300m         |\n",
       "|  2888.000           |  2972.087           | -1450.044           |  2900.087           | Model 5             | Region_Dist300      |\n",
       "|  2889.000           |  2960.992           | -1445.496           |  2890.992           | Model 6             | No_FastIceRatio     |\n",
       "|  2888.000           |  2962.372           | -1445.186           |  2890.372           | Model 7             | Region_FastIceRatio |\n",
       "|  2889.000           |  2992.411           | -1461.205           |  2922.411           | Model 8             | No_GlacierDist      |\n",
       "|  2888.000           |  2981.979           | -1454.990           |  2909.979           | Model 9             | Region_GlacierDist  |\n",
       "|  2889.000           |  2970.238           | -1450.119           |  2900.238           | Model 10            | NoADPEabund         |\n",
       "|  2888.000           |  2970.191           | -1449.096           |  2898.191           | Model 11            | Region_ADPEabund    |\n",
       "\n"
      ],
      "text/plain": [
       "   Df        AIC       LogLik    ResidDeviance model    modelName          \n",
       "1   2889.000  2960.992 -1445.496  2890.992     Model 1  Full               \n",
       "2   2889.000  3029.542 -1479.771  2959.542     Model 2  No_Oct5Yrs         \n",
       "3   2888.00   2983.52  -1455.76   2911.52      Model 3  Region_Oct5Yrs     \n",
       "4   2889.000  2986.496 -1458.248  2916.496     Model 4  No_Dist300m        \n",
       "5   2888.000  2972.087 -1450.044  2900.087     Model 5  Region_Dist300     \n",
       "6   2889.000  2960.992 -1445.496  2890.992     Model 6  No_FastIceRatio    \n",
       "7   2888.000  2962.372 -1445.186  2890.372     Model 7  Region_FastIceRatio\n",
       "8   2889.000  2992.411 -1461.205  2922.411     Model 8  No_GlacierDist     \n",
       "9   2888.000  2981.979 -1454.990  2909.979     Model 9  Region_GlacierDist \n",
       "10  2889.000  2970.238 -1450.119  2900.238     Model 10 NoADPEabund        \n",
       "11  2888.000  2970.191 -1449.096  2898.191     Model 11 Region_ADPEabund   "
      ]
     },
     "metadata": {},
     "output_type": "display_data"
    }
   ],
   "source": [
    "#View the GOF results\n",
    "goflst<-list(Full=gofres,No_Oct5Yrs=gofres2,Region_Oct5Yrs=gofres3,No_Dist300m=gofres4,\n",
    "             Region_Dist300=gofres5,No_FastIceRatio=gofres6,Region_FastIceRatio=gofres7,No_GlacierDist=gofres8,\n",
    "             Region_GlacierDist=gofres9,NoADPEabund=gofres10,Region_ADPEabund=gofres11)\n",
    "modnames<-names(goflst)\n",
    "ldply(1:NROW(goflst),function(gg,goflst,modnames){\n",
    "    gofv<-goflst[[gg]]\n",
    "    mnm<-modnames[gg]\n",
    "    tdf<-as.data.frame(t(gofv));tdf<-tdf[2,]\n",
    "    tdf$model<-paste(\"Model\",gg)\n",
    "    tdf$modelName<-mnm\n",
    "    return(tdf)\n",
    "},goflst=goflst,modnames=modnames)"
   ]
  },
  {
   "cell_type": "code",
   "execution_count": 29,
   "metadata": {},
   "outputs": [
    {
     "data": {
      "text/html": [
       "<table>\n",
       "<thead><tr><th scope=col>Model</th><th scope=col>Mean_prChisq</th><th scope=col>Median_prChisq</th><th scope=col>Max_prChisq</th><th scope=col>PctSig</th></tr></thead>\n",
       "<tbody>\n",
       "\t<tr><td>No_Oct5Yrs         </td><td>0.0000             </td><td>0.0000             </td><td>0.0000             </td><td>100                </td></tr>\n",
       "\t<tr><td>Region_Oct5Yrs     </td><td>0.0000             </td><td>0.0000             </td><td>0.0004             </td><td>100                </td></tr>\n",
       "\t<tr><td>No_Dist300m        </td><td>0.0000             </td><td>0.0000             </td><td>0.0001             </td><td>100                </td></tr>\n",
       "\t<tr><td>Region_Dist300     </td><td>0.0003             </td><td>0.0001             </td><td>0.0060             </td><td>100                </td></tr>\n",
       "\t<tr><td>No_FastIceRatio    </td><td>0.0645             </td><td>0.0168             </td><td>0.6805             </td><td> 73                </td></tr>\n",
       "\t<tr><td>Region_FastIceRatio</td><td>0.0442             </td><td>0.0081             </td><td>0.5159             </td><td> 80                </td></tr>\n",
       "\t<tr><td>No_GlacierDist     </td><td>0.0000             </td><td>0.0000             </td><td>0.0004             </td><td>100                </td></tr>\n",
       "\t<tr><td>Region_GlacierDist </td><td>0.0001             </td><td>0.0000             </td><td>0.0020             </td><td>100                </td></tr>\n",
       "\t<tr><td>NoADPEabund        </td><td>0.0041             </td><td>0.0003             </td><td>0.1676             </td><td> 98                </td></tr>\n",
       "\t<tr><td>Region_ADPEabund   </td><td>0.0042             </td><td>0.0003             </td><td>0.2325             </td><td> 99                </td></tr>\n",
       "</tbody>\n",
       "</table>\n"
      ],
      "text/latex": [
       "\\begin{tabular}{r|lllll}\n",
       " Model & Mean\\_prChisq & Median\\_prChisq & Max\\_prChisq & PctSig\\\\\n",
       "\\hline\n",
       "\t No\\_Oct5Yrs          & 0.0000                & 0.0000                & 0.0000                & 100                  \\\\\n",
       "\t Region\\_Oct5Yrs      & 0.0000                & 0.0000                & 0.0004                & 100                  \\\\\n",
       "\t No\\_Dist300m         & 0.0000                & 0.0000                & 0.0001                & 100                  \\\\\n",
       "\t Region\\_Dist300      & 0.0003                & 0.0001                & 0.0060                & 100                  \\\\\n",
       "\t No\\_FastIceRatio     & 0.0645                & 0.0168                & 0.6805                &  73                  \\\\\n",
       "\t Region\\_FastIceRatio & 0.0442                & 0.0081                & 0.5159                &  80                  \\\\\n",
       "\t No\\_GlacierDist      & 0.0000                & 0.0000                & 0.0004                & 100                  \\\\\n",
       "\t Region\\_GlacierDist  & 0.0001                & 0.0000                & 0.0020                & 100                  \\\\\n",
       "\t NoADPEabund         & 0.0041              & 0.0003              & 0.1676              &  98                \\\\\n",
       "\t Region\\_ADPEabund    & 0.0042                & 0.0003                & 0.2325                &  99                  \\\\\n",
       "\\end{tabular}\n"
      ],
      "text/markdown": [
       "\n",
       "| Model | Mean_prChisq | Median_prChisq | Max_prChisq | PctSig |\n",
       "|---|---|---|---|---|\n",
       "| No_Oct5Yrs          | 0.0000              | 0.0000              | 0.0000              | 100                 |\n",
       "| Region_Oct5Yrs      | 0.0000              | 0.0000              | 0.0004              | 100                 |\n",
       "| No_Dist300m         | 0.0000              | 0.0000              | 0.0001              | 100                 |\n",
       "| Region_Dist300      | 0.0003              | 0.0001              | 0.0060              | 100                 |\n",
       "| No_FastIceRatio     | 0.0645              | 0.0168              | 0.6805              |  73                 |\n",
       "| Region_FastIceRatio | 0.0442              | 0.0081              | 0.5159              |  80                 |\n",
       "| No_GlacierDist      | 0.0000              | 0.0000              | 0.0004              | 100                 |\n",
       "| Region_GlacierDist  | 0.0001              | 0.0000              | 0.0020              | 100                 |\n",
       "| NoADPEabund         | 0.0041              | 0.0003              | 0.1676              |  98                 |\n",
       "| Region_ADPEabund    | 0.0042              | 0.0003              | 0.2325              |  99                 |\n",
       "\n"
      ],
      "text/plain": [
       "   Model               Mean_prChisq Median_prChisq Max_prChisq PctSig\n",
       "1  No_Oct5Yrs          0.0000       0.0000         0.0000      100   \n",
       "2  Region_Oct5Yrs      0.0000       0.0000         0.0004      100   \n",
       "3  No_Dist300m         0.0000       0.0000         0.0001      100   \n",
       "4  Region_Dist300      0.0003       0.0001         0.0060      100   \n",
       "5  No_FastIceRatio     0.0645       0.0168         0.6805       73   \n",
       "6  Region_FastIceRatio 0.0442       0.0081         0.5159       80   \n",
       "7  No_GlacierDist      0.0000       0.0000         0.0004      100   \n",
       "8  Region_GlacierDist  0.0001       0.0000         0.0020      100   \n",
       "9  NoADPEabund         0.0041       0.0003         0.1676       98   \n",
       "10 Region_ADPEabund    0.0042       0.0003         0.2325       99   "
      ]
     },
     "metadata": {},
     "output_type": "display_data"
    }
   ],
   "source": [
    "#Using the above example models 2-6 for now - but Michelle will change/add more to these...\n",
    "lrtdf_12<-getLRtest(reslst=reslst,contr=reslst2)\n",
    "lrtdf_13<-getLRtest(reslst=reslst,contr=reslst3)\n",
    "lrtdf_14<-getLRtest(reslst=reslst,contr=reslst4)\n",
    "lrtdf_15<-getLRtest(reslst=reslst,contr=reslst5)\n",
    "lrtdf_16<-getLRtest(reslst=reslst,contr=reslst6)\n",
    "lrtdf_17<-getLRtest(reslst=reslst,contr=reslst7)\n",
    "lrtdf_18<-getLRtest(reslst=reslst,contr=reslst8)\n",
    "lrtdf_19<-getLRtest(reslst=reslst,contr=reslst9)\n",
    "lrtdf_20<-getLRtest(reslst=reslst,contr=reslst10)\n",
    "lrtdf_21<-getLRtest(reslst=reslst,contr=reslst11)\n",
    "#... add the rest of the model contrasts above - should total 10 models (+ full), so 10 lrtdf_1#\n",
    "#then...\n",
    "lrtlst<-list(No_Oct5Yrs=lrtdf_12,Region_Oct5Yrs=lrtdf_13,No_Dist300m=lrtdf_14,\n",
    "             Region_Dist300=lrtdf_15,No_FastIceRatio=lrtdf_16,Region_FastIceRatio=lrtdf_17,No_GlacierDist=lrtdf_18,\n",
    "             Region_GlacierDist=lrtdf_19,NoADPEabund=lrtdf_20,Region_ADPEabund=lrtdf_21)\n",
    "nlrtm<-names(lrtlst)\n",
    "\n",
    "ldply(1:NROW(lrtlst),function(tt,lrtlst,nlrtm){\n",
    "    lrtm<-lrtlst[[tt]];lrtn<-nlrtm[tt]\n",
    "    lrtt<-round(as.numeric(summary(lrtm$PrChisq)),4)\n",
    "    pctsig<-sum(lrtm$PrChisq<0.05)\n",
    "    tdf<-data.frame(Model=lrtn,Mean_prChisq=lrtt[4],Median_prChisq=lrtt[3],Max_prChisq=lrtt[6],PctSig=pctsig)\n",
    "    return(tdf)\n",
    "},lrtlst=lrtlst,nlrtm=nlrtm)\n"
   ]
  },
  {
   "cell_type": "markdown",
   "metadata": {},
   "source": [
    "Above we report the mean and maximum value of the prb. Chisq of the effect. The probabilities are indeed a distribution of values, as shown below."
   ]
  },
  {
   "cell_type": "code",
   "execution_count": 30,
   "metadata": {},
   "outputs": [
    {
     "name": "stderr",
     "output_type": "stream",
     "text": [
      "`stat_bin()` using `bins = 30`. Pick better value with `binwidth`.\n"
     ]
    },
    {
     "data": {
      "image/png": "[encoded data removed]",
      "text/plain": [
       "plot without title"
      ]
     },
     "metadata": {},
     "output_type": "display_data"
    }
   ],
   "source": [
    "## Example to show the distribution of values\n",
    "ggplot(data=lrtdf_16,aes(x=PrChisq)) + geom_histogram() "
   ]
  },
  {
   "cell_type": "code",
   "execution_count": 31,
   "metadata": {},
   "outputs": [
    {
     "data": {
      "text/html": [
       "80"
      ],
      "text/latex": [
       "80"
      ],
      "text/markdown": [
       "80"
      ],
      "text/plain": [
       "[1] 80"
      ]
     },
     "metadata": {},
     "output_type": "display_data"
    }
   ],
   "source": [
    "sum(lrtdf_17$PrChisq<0.05)"
   ]
  },
  {
   "cell_type": "markdown",
   "metadata": {},
   "source": [
    "## Partial dependence plots"
   ]
  },
  {
   "cell_type": "code",
   "execution_count": 32,
   "metadata": {},
   "outputs": [
    {
     "data": {
      "text/html": [
       "<table>\n",
       "<thead><tr><th scope=col>var</th><th scope=col>minv</th><th scope=col>maxv</th><th scope=col>meanv</th><th scope=col>medv</th><th scope=col>modv</th></tr></thead>\n",
       "<tbody>\n",
       "\t<tr><td>scaledmeanslope</td><td> 8.312824e-07  </td><td>10.67303       </td><td> 0.6429639     </td><td> 0.3885376     </td><td>NA             </td></tr>\n",
       "\t<tr><td>logmeanbathy   </td><td>-7.938042e+00  </td><td>-2.06480       </td><td>-5.6711849     </td><td>-5.7729198     </td><td>NA             </td></tr>\n",
       "\t<tr><td>adpepresent    </td><td>           NA  </td><td>      NA       </td><td>        NA     </td><td>        NA     </td><td>[\"no\",\"yes\"]   </td></tr>\n",
       "\t<tr><td>logadpedist    </td><td> 5.316402e+00  </td><td>14.30962       </td><td>11.5453116     </td><td>11.6770628     </td><td>NA             </td></tr>\n",
       "\t<tr><td>empepresent    </td><td>           NA  </td><td>      NA       </td><td>        NA     </td><td>        NA     </td><td>[\"yes\",\"no\"]   </td></tr>\n",
       "\t<tr><td>logempedist    </td><td> 4.984499e+00  </td><td>13.24255       </td><td>11.3936267     </td><td>11.5049717     </td><td>NA             </td></tr>\n",
       "</tbody>\n",
       "</table>\n"
      ],
      "text/latex": [
       "\\begin{tabular}{r|llllll}\n",
       " var & minv & maxv & meanv & medv & modv\\\\\n",
       "\\hline\n",
       "\t scaledmeanslope &  8.312824e-07   & 10.67303        &  0.6429639      &  0.3885376      & NA             \\\\\n",
       "\t logmeanbathy    & -7.938042e+00   & -2.06480        & -5.6711849      & -5.7729198      & NA             \\\\\n",
       "\t adpepresent      &            NA    &       NA         &         NA       &         NA       & {[}\"no\",\"yes\"{]}\\\\\n",
       "\t logadpedist     &  5.316402e+00   & 14.30962        & 11.5453116      & 11.6770628      & NA             \\\\\n",
       "\t empepresent      &            NA    &       NA         &         NA       &         NA       & {[}\"yes\",\"no\"{]}\\\\\n",
       "\t logempedist     &  4.984499e+00   & 13.24255        & 11.3936267      & 11.5049717      & NA             \\\\\n",
       "\\end{tabular}\n"
      ],
      "text/markdown": [
       "\n",
       "| var | minv | maxv | meanv | medv | modv |\n",
       "|---|---|---|---|---|---|\n",
       "| scaledmeanslope |  8.312824e-07   | 10.67303        |  0.6429639      |  0.3885376      | NA              |\n",
       "| logmeanbathy    | -7.938042e+00   | -2.06480        | -5.6711849      | -5.7729198      | NA              |\n",
       "| adpepresent     |            NA   |       NA        |         NA      |         NA      | [\"no\",\"yes\"]    |\n",
       "| logadpedist     |  5.316402e+00   | 14.30962        | 11.5453116      | 11.6770628      | NA              |\n",
       "| empepresent     |            NA   |       NA        |         NA      |         NA      | [\"yes\",\"no\"]    |\n",
       "| logempedist     |  4.984499e+00   | 13.24255        | 11.3936267      | 11.5049717      | NA              |\n",
       "\n"
      ],
      "text/plain": [
       "  var             minv          maxv     meanv      medv       modv        \n",
       "1 scaledmeanslope  8.312824e-07 10.67303  0.6429639  0.3885376 NA          \n",
       "2 logmeanbathy    -7.938042e+00 -2.06480 -5.6711849 -5.7729198 NA          \n",
       "3 adpepresent                NA       NA         NA         NA [\"no\",\"yes\"]\n",
       "4 logadpedist      5.316402e+00 14.30962 11.5453116 11.6770628 NA          \n",
       "5 empepresent                NA       NA         NA         NA [\"yes\",\"no\"]\n",
       "6 logempedist      4.984499e+00 13.24255 11.3936267 11.5049717 NA          "
      ]
     },
     "metadata": {},
     "output_type": "display_data"
    }
   ],
   "source": [
    "#This is the full model, with all interactions\n",
    "fml<-paste0(\"presence~scaledmeanslope+I(scaledmeanslope^2)+logmeanbathy+adpepresent*logadpedist+empepresent*logempedist+\",\n",
    "            \"I(logempedist^2)+I(logadpedist^2)+logEMPEabund+logADPEabund*Region+Region*PredictabilityOct5Years+\",\n",
    "            \"logdistToShore+I(logdistToShore^2)+Region*logcont300dist+InCanyon+\",\n",
    "            \"Region*fastIceRatio+Region*logglacierdist\")\n",
    "#Need this description of the data\n",
    "varDesc<-getVarDesc(data=wesedf2,fml=fml)\n",
    "head(varDesc)"
   ]
  },
  {
   "cell_type": "code",
   "execution_count": 36,
   "metadata": {},
   "outputs": [
    {
     "data": {
      "text/html": [
       "<table>\n",
       "<thead><tr><th scope=col>logempedist</th><th scope=col>predicted</th><th scope=col>lcl</th><th scope=col>ucl</th><th scope=col>empedist</th><th scope=col>probWESEpresent</th></tr></thead>\n",
       "<tbody>\n",
       "\t<tr><td>4.984499 </td><td>18.70322 </td><td>9.409562 </td><td>30.58588 </td><td>0.1461303</td><td>1.0000000</td></tr>\n",
       "\t<tr><td>5.067914 </td><td>18.14458 </td><td>9.127728 </td><td>29.68887 </td><td>0.1588426</td><td>1.0000000</td></tr>\n",
       "\t<tr><td>5.151328 </td><td>17.59372 </td><td>8.849379 </td><td>28.80467 </td><td>0.1726607</td><td>1.0000000</td></tr>\n",
       "\t<tr><td>5.234743 </td><td>17.05063 </td><td>8.574512 </td><td>27.93329 </td><td>0.1876809</td><td>1.0000000</td></tr>\n",
       "\t<tr><td>5.318158 </td><td>16.51533 </td><td>8.303119 </td><td>27.07473 </td><td>0.2040077</td><td>0.9999999</td></tr>\n",
       "\t<tr><td>5.401572 </td><td>15.98781 </td><td>8.019495 </td><td>26.22900 </td><td>0.2217548</td><td>0.9999999</td></tr>\n",
       "</tbody>\n",
       "</table>\n"
      ],
      "text/latex": [
       "\\begin{tabular}{r|llllll}\n",
       " logempedist & predicted & lcl & ucl & empedist & probWESEpresent\\\\\n",
       "\\hline\n",
       "\t 4.984499  & 18.70322  & 9.409562  & 30.58588  & 0.1461303 & 1.0000000\\\\\n",
       "\t 5.067914  & 18.14458  & 9.127728  & 29.68887  & 0.1588426 & 1.0000000\\\\\n",
       "\t 5.151328  & 17.59372  & 8.849379  & 28.80467  & 0.1726607 & 1.0000000\\\\\n",
       "\t 5.234743  & 17.05063  & 8.574512  & 27.93329  & 0.1876809 & 1.0000000\\\\\n",
       "\t 5.318158  & 16.51533  & 8.303119  & 27.07473  & 0.2040077 & 0.9999999\\\\\n",
       "\t 5.401572  & 15.98781  & 8.019495  & 26.22900  & 0.2217548 & 0.9999999\\\\\n",
       "\\end{tabular}\n"
      ],
      "text/markdown": [
       "\n",
       "| logempedist | predicted | lcl | ucl | empedist | probWESEpresent |\n",
       "|---|---|---|---|---|---|\n",
       "| 4.984499  | 18.70322  | 9.409562  | 30.58588  | 0.1461303 | 1.0000000 |\n",
       "| 5.067914  | 18.14458  | 9.127728  | 29.68887  | 0.1588426 | 1.0000000 |\n",
       "| 5.151328  | 17.59372  | 8.849379  | 28.80467  | 0.1726607 | 1.0000000 |\n",
       "| 5.234743  | 17.05063  | 8.574512  | 27.93329  | 0.1876809 | 1.0000000 |\n",
       "| 5.318158  | 16.51533  | 8.303119  | 27.07473  | 0.2040077 | 0.9999999 |\n",
       "| 5.401572  | 15.98781  | 8.019495  | 26.22900  | 0.2217548 | 0.9999999 |\n",
       "\n"
      ],
      "text/plain": [
       "  logempedist predicted lcl      ucl      empedist  probWESEpresent\n",
       "1 4.984499    18.70322  9.409562 30.58588 0.1461303 1.0000000      \n",
       "2 5.067914    18.14458  9.127728 29.68887 0.1588426 1.0000000      \n",
       "3 5.151328    17.59372  8.849379 28.80467 0.1726607 1.0000000      \n",
       "4 5.234743    17.05063  8.574512 27.93329 0.1876809 1.0000000      \n",
       "5 5.318158    16.51533  8.303119 27.07473 0.2040077 0.9999999      \n",
       "6 5.401572    15.98781  8.019495 26.22900 0.2217548 0.9999999      "
      ]
     },
     "metadata": {},
     "output_type": "display_data"
    },
    {
     "data": {
      "image/png": "[encoded data removed]",
      "text/plain": [
       "plot without title"
      ]
     },
     "metadata": {},
     "output_type": "display_data"
    }
   ],
   "source": [
    "#1D partial dependence plot\n",
    "newdata<-getNewData(varDesc=varDesc,pdvars=\"logempedist\",useMedian=FALSE)\n",
    "pddata<-getpdData(reslst=reslst,newdata=newdata,pdvars=\"logempedist\",type=\"glm\")\n",
    "pddata$empedist<-exp(pddata$logempedist)/1000\n",
    "pddata$probWESEpresent<-exp(pddata$predicted)/(1+exp(pddata$predicted))\n",
    "head(pddata)\n",
    "ggplot(subset(pddata,empedist<50),aes(x=empedist,y=probWESEpresent)) + \n",
    "    #geom_bar(stat=\"freq\")\n",
    "    #geom_ribbon(aes(ymin=lcl,ymax=ucl),fill=\"light gray\",alpha=0.5) + \n",
    "    geom_point(size=1,color=\"black\") + labs(x=\"Dist. to EMPE colony (Km)\",y=\"Prob. WESE present\") +\n",
    "    theme_bw() + theme(axis.text=element_text(size=12), axis.title=element_text(size=14))"
   ]
  },
  {
   "cell_type": "markdown",
   "metadata": {},
   "source": [
    "### 2D plot\n",
    "Need to generate the data first..."
   ]
  },
  {
   "cell_type": "code",
   "execution_count": 34,
   "metadata": {},
   "outputs": [
    {
     "data": {
      "image/png": "[encoded data removed]",
      "text/plain": [
       "Plot with title \"\""
      ]
     },
     "metadata": {},
     "output_type": "display_data"
    }
   ],
   "source": [
    "newdata<-getNewData(varDesc=varDesc,pdvars=c(\"logempedist\",\"logEMPEabund\"),useMedian=FALSE)\n",
    "pddata<-getpdData(reslst=reslst,newdata=newdata,pdvars=c(\"logempedist\",\"logEMPEabund\"),type=\"glm\")\n",
    "zm<-matrix(pddata$predicted,ncol=100,byrow=F)\n",
    "persp3D(x=unique(pddata$logEMPEabund),y=unique(pddata$logempedist),z=zm,box=T,axes=T,ticktype=\"detailed\",\n",
    "        xlab=\"logEMPEabund\",ylab=\"log(EMPEdist)\",zlab=\"logit(seal_presence)\")"
   ]
  },
  {
   "cell_type": "code",
   "execution_count": null,
   "metadata": {},
   "outputs": [],
   "source": []
  }
 ],
 "metadata": {
  "kernelspec": {
   "display_name": "R",
   "language": "R",
   "name": "ir"
  },
  "language_info": {
   "codemirror_mode": "r",
   "file_extension": ".r",
   "mimetype": "text/x-r-source",
   "name": "R",
   "pygments_lexer": "r",
   "version": "3.6.1"
  }
 },
 "nbformat": 4,
 "nbformat_minor": 2
}
